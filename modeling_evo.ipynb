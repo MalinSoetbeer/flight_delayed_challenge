{
 "cells": [
  {
   "cell_type": "markdown",
   "metadata": {},
   "source": [
    "# Modelling for Flight Delay Prediction"
   ]
  },
  {
   "cell_type": "markdown",
   "metadata": {},
   "source": [
    "## Import\n",
    "Import of relevant packages"
   ]
  },
  {
   "cell_type": "code",
   "execution_count": 16,
   "metadata": {},
   "outputs": [],
   "source": [
    "# Import \n",
    "import pandas as pd\n",
    "import numpy as np\n",
    "import seaborn as sns\n",
    "import matplotlib.pyplot as plt\n",
    "%matplotlib inline\n",
    "\n",
    "import warnings\n",
    "warnings.filterwarnings('ignore')\n",
    "\n",
    "from sklearn.model_selection import train_test_split\n",
    "from sklearn.metrics import f1_score ,classification_report, mean_squared_error\n",
    "from sklearn.pipeline import Pipeline\n",
    "from sklearn.compose import ColumnTransformer\n",
    "from sklearn.preprocessing import OneHotEncoder, StandardScaler\n",
    "from sklearn.impute import SimpleImputer\n",
    "\n",
    "# Import models\n",
    "from sklearn.linear_model import LogisticRegression, LinearRegression, SGDClassifier, SGDRegressor\n",
    "from sklearn.neighbors import KNeighborsClassifier, KNeighborsRegressor\n",
    "from sklearn.tree import DecisionTreeClassifier, DecisionTreeRegressor\n",
    "from sklearn.ensemble import RandomForestClassifier, RandomForestRegressor, AdaBoostClassifier, AdaBoostRegressor\n",
    "from sklearn.svm import SVC\n",
    "from sklearn.naive_bayes import GaussianNB\n",
    "from sklearn import svm\n",
    "from xgboost import XGBClassifier, XGBRegressor\n",
    "\n",
    "from tqdm.notebook import tqdm,trange\n",
    "import time \n",
    "\n",
    "# Import scripts\n",
    "from script_files.feature_engineering import *\n",
    "from script_files.prepare_flight_data import *\n",
    "from script_files.dummies import *\n",
    "from script_files.predict import *\n",
    "\n",
    "RSEED = 42"
   ]
  },
  {
   "cell_type": "code",
   "execution_count": 17,
   "metadata": {},
   "outputs": [
    {
     "data": {
      "text/html": [
       "<div>\n",
       "<style scoped>\n",
       "    .dataframe tbody tr th:only-of-type {\n",
       "        vertical-align: middle;\n",
       "    }\n",
       "\n",
       "    .dataframe tbody tr th {\n",
       "        vertical-align: top;\n",
       "    }\n",
       "\n",
       "    .dataframe thead th {\n",
       "        text-align: right;\n",
       "    }\n",
       "</style>\n",
       "<table border=\"1\" class=\"dataframe\">\n",
       "  <thead>\n",
       "    <tr style=\"text-align: right;\">\n",
       "      <th></th>\n",
       "      <th>ID</th>\n",
       "      <th>DATOP</th>\n",
       "      <th>FLTID</th>\n",
       "      <th>DEPSTN</th>\n",
       "      <th>ARRSTN</th>\n",
       "      <th>STD</th>\n",
       "      <th>STA</th>\n",
       "      <th>STATUS</th>\n",
       "      <th>AC</th>\n",
       "      <th>target</th>\n",
       "      <th>...</th>\n",
       "      <th>delayed</th>\n",
       "      <th>domestic</th>\n",
       "      <th>dep_hour</th>\n",
       "      <th>dep_weekday</th>\n",
       "      <th>duration_min</th>\n",
       "      <th>arr_hour</th>\n",
       "      <th>flight_month</th>\n",
       "      <th>flight_month_name</th>\n",
       "      <th>year</th>\n",
       "      <th>distance</th>\n",
       "    </tr>\n",
       "  </thead>\n",
       "  <tbody>\n",
       "    <tr>\n",
       "      <th>0</th>\n",
       "      <td>train_id_15674</td>\n",
       "      <td>2016-01-01 00:00:00</td>\n",
       "      <td>TU 0564</td>\n",
       "      <td>NKC</td>\n",
       "      <td>TUN</td>\n",
       "      <td>2016-01-01 00:15:00</td>\n",
       "      <td>2016-01-01 04:30:00</td>\n",
       "      <td>ATA</td>\n",
       "      <td>TU 320IMV</td>\n",
       "      <td>0.0</td>\n",
       "      <td>...</td>\n",
       "      <td>0</td>\n",
       "      <td>0</td>\n",
       "      <td>0</td>\n",
       "      <td>Friday</td>\n",
       "      <td>255.0</td>\n",
       "      <td>4</td>\n",
       "      <td>1</td>\n",
       "      <td>January</td>\n",
       "      <td>2016</td>\n",
       "      <td>3298.067996</td>\n",
       "    </tr>\n",
       "    <tr>\n",
       "      <th>1</th>\n",
       "      <td>train_id_15676</td>\n",
       "      <td>2016-01-01 00:00:00</td>\n",
       "      <td>TU 0714</td>\n",
       "      <td>JED</td>\n",
       "      <td>TUN</td>\n",
       "      <td>2016-01-01 00:55:00</td>\n",
       "      <td>2016-01-01 05:30:00</td>\n",
       "      <td>ATA</td>\n",
       "      <td>TU 332IFM</td>\n",
       "      <td>195.0</td>\n",
       "      <td>...</td>\n",
       "      <td>1</td>\n",
       "      <td>0</td>\n",
       "      <td>0</td>\n",
       "      <td>Friday</td>\n",
       "      <td>275.0</td>\n",
       "      <td>5</td>\n",
       "      <td>1</td>\n",
       "      <td>January</td>\n",
       "      <td>2016</td>\n",
       "      <td>3256.052105</td>\n",
       "    </tr>\n",
       "    <tr>\n",
       "      <th>2</th>\n",
       "      <td>train_id_15675</td>\n",
       "      <td>2016-01-01 00:00:00</td>\n",
       "      <td>TU 0614</td>\n",
       "      <td>DKR</td>\n",
       "      <td>TUN</td>\n",
       "      <td>2016-01-01 01:20:00</td>\n",
       "      <td>2016-01-01 05:55:00</td>\n",
       "      <td>ATA</td>\n",
       "      <td>TU 320IMU</td>\n",
       "      <td>49.0</td>\n",
       "      <td>...</td>\n",
       "      <td>1</td>\n",
       "      <td>0</td>\n",
       "      <td>1</td>\n",
       "      <td>Friday</td>\n",
       "      <td>275.0</td>\n",
       "      <td>5</td>\n",
       "      <td>1</td>\n",
       "      <td>January</td>\n",
       "      <td>2016</td>\n",
       "      <td>3678.974557</td>\n",
       "    </tr>\n",
       "    <tr>\n",
       "      <th>3</th>\n",
       "      <td>train_id_30980</td>\n",
       "      <td>2016-01-01 00:00:00</td>\n",
       "      <td>UG 0002</td>\n",
       "      <td>TUN</td>\n",
       "      <td>DJE</td>\n",
       "      <td>2016-01-01 06:15:00</td>\n",
       "      <td>2016-01-01 07:15:00</td>\n",
       "      <td>SCH</td>\n",
       "      <td>UG AT7LBD</td>\n",
       "      <td>0.0</td>\n",
       "      <td>...</td>\n",
       "      <td>0</td>\n",
       "      <td>1</td>\n",
       "      <td>6</td>\n",
       "      <td>Friday</td>\n",
       "      <td>60.0</td>\n",
       "      <td>7</td>\n",
       "      <td>1</td>\n",
       "      <td>January</td>\n",
       "      <td>2016</td>\n",
       "      <td>333.916459</td>\n",
       "    </tr>\n",
       "    <tr>\n",
       "      <th>4</th>\n",
       "      <td>train_id_7179</td>\n",
       "      <td>2016-01-01 00:00:00</td>\n",
       "      <td>TU 0880</td>\n",
       "      <td>TUN</td>\n",
       "      <td>AMS</td>\n",
       "      <td>2016-01-01 06:30:00</td>\n",
       "      <td>2016-01-01 09:20:00</td>\n",
       "      <td>ATA</td>\n",
       "      <td>TU 736IOP</td>\n",
       "      <td>36.0</td>\n",
       "      <td>...</td>\n",
       "      <td>1</td>\n",
       "      <td>0</td>\n",
       "      <td>6</td>\n",
       "      <td>Friday</td>\n",
       "      <td>170.0</td>\n",
       "      <td>9</td>\n",
       "      <td>1</td>\n",
       "      <td>January</td>\n",
       "      <td>2016</td>\n",
       "      <td>1770.371959</td>\n",
       "    </tr>\n",
       "  </tbody>\n",
       "</table>\n",
       "<p>5 rows × 41 columns</p>\n",
       "</div>"
      ],
      "text/plain": [
       "               ID                DATOP     FLTID DEPSTN ARRSTN  \\\n",
       "0  train_id_15674  2016-01-01 00:00:00  TU 0564     NKC    TUN   \n",
       "1  train_id_15676  2016-01-01 00:00:00  TU 0714     JED    TUN   \n",
       "2  train_id_15675  2016-01-01 00:00:00  TU 0614     DKR    TUN   \n",
       "3  train_id_30980  2016-01-01 00:00:00  UG 0002     TUN    DJE   \n",
       "4   train_id_7179  2016-01-01 00:00:00  TU 0880     TUN    AMS   \n",
       "\n",
       "                   STD                  STA STATUS         AC  target  ...  \\\n",
       "0  2016-01-01 00:15:00  2016-01-01 04:30:00    ATA  TU 320IMV     0.0  ...   \n",
       "1  2016-01-01 00:55:00  2016-01-01 05:30:00    ATA  TU 332IFM   195.0  ...   \n",
       "2  2016-01-01 01:20:00  2016-01-01 05:55:00    ATA  TU 320IMU    49.0  ...   \n",
       "3  2016-01-01 06:15:00  2016-01-01 07:15:00    SCH  UG AT7LBD     0.0  ...   \n",
       "4  2016-01-01 06:30:00  2016-01-01 09:20:00    ATA  TU 736IOP    36.0  ...   \n",
       "\n",
       "  delayed domestic dep_hour dep_weekday duration_min arr_hour  flight_month  \\\n",
       "0       0        0        0      Friday        255.0        4             1   \n",
       "1       1        0        0      Friday        275.0        5             1   \n",
       "2       1        0        1      Friday        275.0        5             1   \n",
       "3       0        1        6      Friday         60.0        7             1   \n",
       "4       1        0        6      Friday        170.0        9             1   \n",
       "\n",
       "   flight_month_name  year     distance  \n",
       "0            January  2016  3298.067996  \n",
       "1            January  2016  3256.052105  \n",
       "2            January  2016  3678.974557  \n",
       "3            January  2016   333.916459  \n",
       "4            January  2016  1770.371959  \n",
       "\n",
       "[5 rows x 41 columns]"
      ]
     },
     "execution_count": 17,
     "metadata": {},
     "output_type": "execute_result"
    }
   ],
   "source": [
    "# Loading the data in and Shape to fit\n",
    "train_df = pd.read_csv('data/final_train.csv', index_col=[0])\n",
    "train_df.head()"
   ]
  },
  {
   "cell_type": "markdown",
   "metadata": {},
   "source": [
    "## Feature Engineering\n",
    "Firstly we drop a number of columns that we should not use for modeling. Afterwards we separate the data set into features and the response that we are going to predict. "
   ]
  },
  {
   "cell_type": "code",
   "execution_count": 18,
   "metadata": {},
   "outputs": [],
   "source": [
    "# List of dropping feature for classification\n",
    "drop_features_class = ['DATOP', 'ID','FLTID','STD', 'STA','target','icao_DEP', 'iata_DEP', 'name_DEP', 'city_DEP',\n",
    "       'subd_DEP', 'country_DEP', 'elevation_DEP', 'lat_DEP', 'lon_DEP',\n",
    "       'tz_DEP', 'icao_ARR', 'iata_ARR', 'name_ARR', 'city_ARR', 'subd_ARR',\n",
    "       'country_ARR', 'elevation_ARR', 'lat_ARR', 'lon_ARR', 'tz_ARR','arr_hour', 'flight_month','delay_or_onTime', 'delayed']"
   ]
  },
  {
   "cell_type": "code",
   "execution_count": 19,
   "metadata": {},
   "outputs": [],
   "source": [
    "# List of dropping feature for regression\n",
    "drop_features_reg = ['DATOP', 'ID','FLTID','STD', 'STA','icao_DEP', 'iata_DEP', 'name_DEP', 'city_DEP',\n",
    "       'subd_DEP', 'country_DEP', 'elevation_DEP', 'lat_DEP', 'lon_DEP',\n",
    "       'tz_DEP', 'icao_ARR', 'iata_ARR', 'name_ARR', 'city_ARR', 'subd_ARR',\n",
    "       'country_ARR', 'elevation_ARR', 'lat_ARR', 'lon_ARR', 'tz_ARR','arr_hour', 'flight_month','delay_or_onTime', 'target']"
   ]
  },
  {
   "cell_type": "code",
   "execution_count": 20,
   "metadata": {},
   "outputs": [],
   "source": [
    "# Feature and target variable for Classification modelling\n",
    "X_class = drop_column(train_df, drop_features_class)\n",
    "y_class = train_df['delayed']\n",
    "# Feature and target variable for Regression modelling\n",
    "X_reg = drop_column(train_df.query(\"delayed == 1\"), drop_features_reg)\n",
    "y_reg = train_df.query(\"delayed == 1\")['target']"
   ]
  },
  {
   "cell_type": "markdown",
   "metadata": {},
   "source": [
    "### Shuffle and Split Data\n",
    "80% of the data will be used for training and 20% for testing.  "
   ]
  },
  {
   "cell_type": "code",
   "execution_count": 21,
   "metadata": {},
   "outputs": [
    {
     "name": "stdout",
     "output_type": "stream",
     "text": [
      "Train data\n",
      "# Training data for classification:     86266\n",
      "# Training data for regression     46258\n",
      "==================\n",
      "Test data\n",
      "# Test data for classification:     21567\n",
      "# Test data for regression:     11565\n"
     ]
    }
   ],
   "source": [
    "# Split the 'features' and 'target' data into training and testing sets for classification\n",
    "X_train_class, X_test_class, y_train_class, y_test_class = train_test_split(X_class, y_class, test_size=0.2, stratify=y_class, random_state=RSEED)\n",
    "# Split the 'features' and 'target' data into training and testing sets for classification\n",
    "X_train_reg, X_test_reg, y_train_reg, y_test_reg = train_test_split(X_reg, y_reg, test_size=0.2, random_state=RSEED)\n",
    "\n",
    "# resetting indices\n",
    "reset_indices(X_train_class,X_test_class,X_train_reg,X_test_reg)\n",
    "\n",
    "# Print shape of the test and train data\n",
    "print('Train data')\n",
    "print('# Training data for classification:     {}'.format(X_train_class.shape[0]))\n",
    "print('# Training data for regression     {}'.format(X_train_reg.shape[0]))\n",
    "print('==================')\n",
    "print('Test data')\n",
    "print('# Test data for classification:     {}'.format(X_test_class.shape[0]))\n",
    "print('# Test data for regression:     {}'.format(X_test_reg.shape[0]))\n"
   ]
  },
  {
   "cell_type": "markdown",
   "metadata": {},
   "source": [
    "## Baseline Model\n",
    "\n",
    "Before we start training our first model, we should define a proper baseline model."
   ]
  },
  {
   "cell_type": "markdown",
   "metadata": {},
   "source": [
    "### Classification"
   ]
  },
  {
   "cell_type": "code",
   "execution_count": 22,
   "metadata": {},
   "outputs": [
    {
     "name": "stdout",
     "output_type": "stream",
     "text": [
      "                       Baseline Model\n",
      "============================================================\n",
      "             F1 macro avg. score: 0.615221666447493\n",
      "------------------------------------------------------------\n",
      "              precision    recall  f1-score   support\n",
      "\n",
      "           0       0.87      0.33      0.48     10002\n",
      "           1       0.62      0.96      0.75     11565\n",
      "\n",
      "    accuracy                           0.67     21567\n",
      "   macro avg       0.75      0.64      0.62     21567\n",
      "weighted avg       0.74      0.67      0.63     21567\n",
      "\n",
      "------------------------------------------------------------\n"
     ]
    },
    {
     "data": {
      "image/png": "[encoded data removed]",
      "text/plain": [
       "<Figure size 432x288 with 2 Axes>"
      ]
     },
     "metadata": {
      "needs_background": "light"
     },
     "output_type": "display_data"
    }
   ],
   "source": [
    "# Plot confusion matrix and classification report for the baseline model\n",
    "# Creating a naive predictions based on the flight being domestic or not\n",
    "y_pred_dumm_class = dummie_class(X_test_class)\n",
    "\n",
    "print(\"                       Baseline Model\")\n",
    "print(\"===\"*20)\n",
    "print('             F1 macro avg. score:', f1_score(y_test_class, y_pred_dumm_class, average='macro'))\n",
    "print(\"---\"*20)\n",
    "print(classification_report(y_test_class, y_pred_dumm_class))\n",
    "print(\"---\"*20)\n",
    "plot_confusion_matrix(y_test_class, y_pred_dumm_class)"
   ]
  },
  {
   "cell_type": "markdown",
   "metadata": {},
   "source": [
    "Our baseline model reaches a accuracy of 67% and what is even more important a F1 score of 61%. That is the value we have to beat with our more sophisticated models."
   ]
  },
  {
   "cell_type": "markdown",
   "metadata": {},
   "source": [
    "### Regression"
   ]
  },
  {
   "cell_type": "code",
   "execution_count": 23,
   "metadata": {},
   "outputs": [],
   "source": [
    "# Creating a Dummie regressor that always predicts the same value\n",
    "y_pred_dumm_reg = dummie_reg(X_test_reg)"
   ]
  },
  {
   "cell_type": "code",
   "execution_count": 24,
   "metadata": {},
   "outputs": [
    {
     "name": "stdout",
     "output_type": "stream",
     "text": [
      "                 Linear Regression Model:\n",
      "============================================================\n",
      "                 RSME: 147.4649262339158\n",
      "============================================================\n"
     ]
    }
   ],
   "source": [
    "print(\"                 Linear Regression Model:\")\n",
    "print(\"===\"*20)\n",
    "print(\"                 RSME:\",mean_squared_error(y_test_reg, y_pred_dumm_reg,squared=False))\n",
    "print(\"===\"*20)"
   ]
  },
  {
   "cell_type": "code",
   "execution_count": null,
   "metadata": {},
   "outputs": [],
   "source": []
  },
  {
   "cell_type": "markdown",
   "metadata": {},
   "source": [
    "### Error Analyse"
   ]
  },
  {
   "cell_type": "markdown",
   "metadata": {},
   "source": [
    "To validate our regression models, we use a residual plot to visually confirm the validity of your model."
   ]
  },
  {
   "cell_type": "code",
   "execution_count": 25,
   "metadata": {},
   "outputs": [
    {
     "data": {
      "image/png": "[encoded data removed]",
      "text/plain": [
       "<Figure size 1080x360 with 2 Axes>"
      ]
     },
     "metadata": {
      "needs_background": "light"
     },
     "output_type": "display_data"
    }
   ],
   "source": [
    "error_analysis(y_test_reg, y_pred_dumm_reg)"
   ]
  },
  {
   "cell_type": "markdown",
   "metadata": {},
   "source": [
    "## Data Preprocessing\n",
    "From the table in **Exploring the Data**, we can see there are several features for each record that are non-numeric. So we create  _\"dummy\"_ variables for each possible category of each non-numeric feature.\n",
    "\n",
    "We also applying scaling to the numerical features in this case we Standatizing ensures that each numerical "
   ]
  },
  {
   "cell_type": "code",
   "execution_count": 26,
   "metadata": {},
   "outputs": [],
   "source": [
    "# Creating list for categorical predictors/features \n",
    "# (dates are also objects so if you have them in your data you would deal with them first)\n",
    "cat_features = ['DEPSTN', 'ARRSTN', 'STATUS', 'AC', 'domestic', 'dep_hour', 'dep_weekday', 'flight_month_name', 'year']\n",
    "\n",
    "num_features = ['duration_min', 'distance']"
   ]
  },
  {
   "cell_type": "markdown",
   "metadata": {},
   "source": [
    "#### Scaling and Encoding: Classification features"
   ]
  },
  {
   "cell_type": "code",
   "execution_count": 27,
   "metadata": {},
   "outputs": [],
   "source": [
    "# Initialize a scaler, then apply it to the features \n",
    "scaler_class = StandardScaler()\n",
    "scaler_class.fit(X_train_class[num_features])\n",
    "X_train_class[num_features] = scaler_class.transform(X_train_class[num_features])\n",
    "X_test_class[num_features] = scaler_class.transform(X_test_class[num_features])\n",
    "\n",
    "# Rename the columns from the Encoded df\n",
    "col = OneHotEncoder_labels(X_train_class, cat_features)\n",
    "\n",
    "# One-hot encode the 'features' data using sklearn OneHotEncoder to Encode categorical features as a one-hot numeric array.\n",
    "encoder_class = OneHotEncoder(handle_unknown='ignore', sparse=False, drop='first')\n",
    "encoder_class.fit(X_train_class[cat_features])\n",
    "\n",
    "# Fit OneHotEncoder to X, then transform X. Here Train Data\n",
    "X_train_dummie_columns = pd.DataFrame(encoder_class.transform(X_train_class[cat_features]))\n",
    "X_train_class = X_train_class.drop(cat_features, axis=1)\n",
    "X_train_class = X_train_class.join(X_train_dummie_columns)\n",
    "X_train_class.columns = col\n",
    "\n",
    "# Fit OneHotEncoder to X, then transform X. Here Test Data\n",
    "X_test_dummie_columns = pd.DataFrame(encoder_class.transform(X_test_class[cat_features]))\n",
    "X_test_class = X_test_class.drop(cat_features, axis=1)\n",
    "X_test_class = X_test_class.join(X_test_dummie_columns)\n",
    "X_test_class.columns = col"
   ]
  },
  {
   "cell_type": "markdown",
   "metadata": {},
   "source": [
    "#### Scaling and Encoding: Regression features"
   ]
  },
  {
   "cell_type": "code",
   "execution_count": 28,
   "metadata": {},
   "outputs": [],
   "source": [
    "scaler_reg = StandardScaler()\n",
    "scaler_reg.fit(X_train_reg[num_features])\n",
    "X_train_reg[num_features] = scaler_reg.transform(X_train_reg[num_features])\n",
    "X_test_reg[num_features] = scaler_reg.transform(X_test_reg[num_features])\n",
    "\n",
    "col2 = OneHotEncoder_labels(X_train_reg, cat_features)\n",
    "\n",
    "encoder_reg = OneHotEncoder(handle_unknown='ignore', sparse=False, drop='first')\n",
    "encoder_reg.fit(X_train_reg[cat_features])\n",
    "\n",
    "X_train_dummie_columns = pd.DataFrame(encoder_reg.transform(X_train_reg[cat_features]))\n",
    "X_train_reg = X_train_reg.drop(cat_features, axis=1)\n",
    "X_train_reg = X_train_reg.join(X_train_dummie_columns)\n",
    "X_train_reg.columns = col2\n",
    "\n",
    "X_test_dummie_columns = pd.DataFrame(encoder_reg.transform(X_test_reg[cat_features]))\n",
    "X_test_reg = X_test_reg.drop(cat_features, axis=1)\n",
    "X_test_reg = X_test_reg.join(X_test_dummie_columns)\n",
    "X_test_reg.columns = col2"
   ]
  },
  {
   "cell_type": "markdown",
   "metadata": {},
   "source": [
    "### Train and Compare the Models\n",
    "After we got our benchmark via the baseline model, we can now test different model types to figure out which ones can handle our data best. So in the next step we will train, evaluate and compare different models."
   ]
  },
  {
   "cell_type": "markdown",
   "metadata": {},
   "source": [
    "##### __Classification Models__\n",
    "We import 9 classifiers to be contenders for the best classifier.\n"
   ]
  },
  {
   "cell_type": "code",
   "execution_count": 29,
   "metadata": {},
   "outputs": [],
   "source": [
    "# List of individual classification models stored as a tuple with name and classifier function.\n",
    "model_class = classification_models()"
   ]
  },
  {
   "cell_type": "code",
   "execution_count": 30,
   "metadata": {},
   "outputs": [
    {
     "data": {
      "application/vnd.jupyter.widget-view+json": {
       "model_id": "6829857c2eec440c8fed1459429125f0",
       "version_major": 2,
       "version_minor": 0
      },
      "text/plain": [
       "Classification Model:   0%|          | 0/9 [00:00<?, ?it/s]"
      ]
     },
     "metadata": {},
     "output_type": "display_data"
    },
    {
     "name": "stdout",
     "output_type": "stream",
     "text": [
      "1 KNN\n"
     ]
    }
   ],
   "source": [
    "# Test different types of models\n",
    "names = []\n",
    "f1_scores = []\n",
    "i = 0\n",
    "\n",
    "# loop through the lists created over it and store the scores in the lists to reflect them with name and value\n",
    "for name, model in tqdm(model_class, desc=\"Classification Model\"):\n",
    "\n",
    "    model.fit(X_train_class, y_train_class)\n",
    "    y_pred_class = model.predict(X_test_class)\n",
    "    # Collect results on the learners\n",
    "    f1_scores.append(f1_score(y_test_class, y_pred_class))\n",
    "    names.append(name)\n",
    "    print(f\"{i+1}\",names[i])\n",
    "    i += 1\n",
    "print(\"Loop completed\")\n",
    "\n",
    "tr_split_class = pd.DataFrame({'Name': names,\"F1\":f1_scores})\n",
    "print(tr_split_class)"
   ]
  },
  {
   "cell_type": "code",
   "execution_count": null,
   "metadata": {},
   "outputs": [],
   "source": [
    "# Plot the scores as a Barchart\n",
    "axis = sns.barplot(x = 'Name', y = 'F1', data = tr_split_class)\n",
    "axis.set(xlabel='Classifier', ylabel='F1 Score')\n",
    "for p in axis.patches:\n",
    "    height = p.get_height()\n",
    "    axis.text(p.get_x() + p.get_width()/2, height + 0.005, '{:1.4f}'.format(height), ha=\"center\") \n",
    "    \n",
    "plt.show()"
   ]
  },
  {
   "cell_type": "markdown",
   "metadata": {},
   "source": [
    "##### __Regression Models__\n",
    "\n",
    "We import 8 regression models to be contenders for the best delay prediction."
   ]
  },
  {
   "cell_type": "code",
   "execution_count": null,
   "metadata": {},
   "outputs": [],
   "source": [
    "# List of individual regression models stored as a tuple with name and regression function\n",
    "models_reg = regression_models()"
   ]
  },
  {
   "cell_type": "code",
   "execution_count": null,
   "metadata": {},
   "outputs": [],
   "source": [
    "# Test different types of models\n",
    "names = []\n",
    "RSME = []\n",
    "i = 0\n",
    "\n",
    "# loop\n",
    "for name, model in tqdm(models_reg,desc= \"Regression Model\"):\n",
    "    model.fit(X_train_reg, y_train_reg)\n",
    "    y_pred_reg = model.predict(X_test_reg)\n",
    "    # Collect results on the learners\n",
    "    RSME.append(mean_squared_error(y_test_reg, y_pred_reg,squared=False))\n",
    "    names.append(name)\n",
    "    i += 1\n",
    "    print(f\"{i+1}\",names[i])\n",
    "\n",
    "print(\"Loop completed\")\n",
    "    \n",
    "tr_split_reg = pd.DataFrame({'Name': names,\"RSME\":RSME})\n",
    "print(tr_split_reg)"
   ]
  },
  {
   "cell_type": "code",
   "execution_count": null,
   "metadata": {},
   "outputs": [],
   "source": [
    "# Plot the scores as a Barchart in this case lower is better because we plot the RSME\n",
    "axis = sns.barplot(x = 'Name', y = 'RSME', data = tr_split_reg)\n",
    "axis.set(xlabel='Regression', ylabel='RSME')\n",
    "for p in axis.patches:\n",
    "    height = p.get_height()\n",
    "    axis.text(p.get_x() + p.get_width()/2, height + 0.005, '{:1.4f}'.format(height), ha=\"center\") \n",
    "    \n",
    "plt.show()"
   ]
  },
  {
   "cell_type": "markdown",
   "metadata": {},
   "source": [
    "### Hyperparameter Tuning\n",
    "We pick now the two most promising models for Classification aswell as for  Regression and using grid search (`GridSearchCV`) with different parameter/value combinations, to tune our model for even better results."
   ]
  },
  {
   "cell_type": "code",
   "execution_count": null,
   "metadata": {},
   "outputs": [],
   "source": []
  }
 ],
 "metadata": {
  "interpreter": {
   "hash": "b36029b6bf991c2e4fa07d2f3680c87dbd610e211d0ef652fe4a3142fdf9d82f"
  },
  "kernelspec": {
   "display_name": "Python 3.9.8 ('.venv': venv)",
   "language": "python",
   "name": "python3"
  },
  "language_info": {
   "codemirror_mode": {
    "name": "ipython",
    "version": 3
   },
   "file_extension": ".py",
   "mimetype": "text/x-python",
   "name": "python",
   "nbconvert_exporter": "python",
   "pygments_lexer": "ipython3",
   "version": "3.9.8"
  },
  "orig_nbformat": 4
 },
 "nbformat": 4,
 "nbformat_minor": 2
}
