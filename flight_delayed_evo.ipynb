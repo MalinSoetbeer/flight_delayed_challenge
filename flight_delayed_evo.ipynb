{
 "cells": [
  {
   "cell_type": "markdown",
   "metadata": {},
   "source": [
    "# Flight Delay Prediction\n",
    "Predict airline delays for Tunisian aviation company, Tunisair"
   ]
  },
  {
   "cell_type": "markdown",
   "metadata": {},
   "source": [
    "## Description"
   ]
  },
  {
   "cell_type": "markdown",
   "metadata": {},
   "source": [
    "Flight delays not only irritate air passengers and disrupt their schedules but also cause :\n",
    "\n",
    "* a decrease in efficiency\n",
    "* an increase in capital costs, reallocation of flight crews and aircraft\n",
    "* an additional crew expenses"
   ]
  },
  {
   "cell_type": "markdown",
   "metadata": {},
   "source": [
    "As a result, on an aggregate basis, an airline's record of flight delays may have a negative impact on passenger demand."
   ]
  },
  {
   "cell_type": "markdown",
   "metadata": {},
   "source": [
    "This solution proposes to build a flight delay predictive model using Machine Learning techniques. The accurate prediction of flight delays will help all players in the air travel ecosystem to set up effective action plans to reduce the impact of the delays and avoid loss of time, capital and resources.\n",
    "\n"
   ]
  },
  {
   "cell_type": "markdown",
   "metadata": {},
   "source": [
    "## Business Understanding"
   ]
  },
  {
   "cell_type": "markdown",
   "metadata": {},
   "source": [
    "#### About the stakeholder: Tunisair\n",
    "\n",
    "Tunisair is the flag carrier airline of Tunisia. Formed in 1948, it operates scheduled international services to four continents. Its main base is Tunis–Carthage International Airport. The airline's head office is in Tunis, near Tunis Airport. Tunisair is a member of the Arab Air Carriers Organization"
   ]
  },
  {
   "cell_type": "markdown",
   "metadata": {},
   "source": [
    "<img src=\"images/Tunisair_plane.jpeg\" height=350 />"
   ]
  },
  {
   "cell_type": "markdown",
   "metadata": {},
   "source": [
    "#### __train/test data__"
   ]
  },
  {
   "cell_type": "markdown",
   "metadata": {},
   "source": [
    "| **Column Names**  |                                                                                                                                                                                          **Description** |\n",
    "| ----------------- | -------------------------------------------------------------------------------------------------------------------------------------------------------------------------------------------------------: |\n",
    "| ID                |                                                                                                                                                                            id of record                  |\n",
    "| DATOP          |                                                                                                                                                                                  Date of flight |\n",
    "| FLTID        |                                                                                                                                                                                     Id of flight ( like id of bus line ) |\n",
    "| DEPSTN    |                                                                                                                                                                                       Departure point |\n",
    "| ARRSTN   |                                                                                                                             Arrival point |\n",
    "| STD|                                                                                                                                                      Scheduled Time departure |\n",
    "| STA |\n",
    "| STATUS |\n",
    "| AC        |                                                                                                                                                              Aircraft Code |\n",
    "| target   (only in train_data)           |                                                                                                                                  Flight Delay ( in minutes ) |"
   ]
  },
  {
   "cell_type": "markdown",
   "metadata": {},
   "source": [
    "#### __Airport data__"
   ]
  },
  {
   "cell_type": "markdown",
   "metadata": {},
   "source": [
    "| **Column Names**  |                                                                                                                                                                                          **Description** |\n",
    "| ----------------- | -------------------------------------------------------------------------------------------------------------------------------------------------------------------------------------------------------: |\n",
    "| icao               |                                                                                                                                                                            The International Civil Aviation Organization or ICAO is a specialized and funding agency of the United Nations, tasked with the planning and development of safe international air transport.                  |\n",
    "| iata          |                                                                                                                                                                                  IATA code assigned to the airport by IATA consists of 3 letters and created through the airport and city names |\n",
    "| name        |                                                                                                                                                                                     Airport name |\n",
    "| city    |                                                                                                                                                                                       City where the airport is located |\n",
    "| subd   |                                                                                                                             Subdivision (e.g. state, province, region, etc.) |\n",
    "| country|                                                                                                                                                      Country in which the airport is located|\n",
    "| elevation |                                                                                                                                                               MSL elevation (the highest point of the landing area) in feet|\n",
    "| lat |                                                                                                                                                                             Latitude (decimal)|\n",
    "| lon       |                                                                                                                                                              Longitude (decimal) |\n",
    "| tz             |                                                                                                                                  Timezone of the airport |"
   ]
  },
  {
   "cell_type": "markdown",
   "metadata": {},
   "source": [
    "## Setting up Problem"
   ]
  },
  {
   "cell_type": "markdown",
   "metadata": {},
   "source": [
    "Lets set some background first:\n",
    "\n",
    "Customer browsing through some flight booking website and want to book flight for some specific date, time, source and destination.\n",
    "\n",
    "__IDEA:__ If during flight booking, we can show to customer whether the flight he/she considering for booking is likely to arrive on time or not. Additionaly, if flight is expected to delay, also show delayed time.\n",
    "\n",
    "If customer know that the flight is likely to be late, he/she might choose to book another flight.\n",
    "\n",
    "From Modelling Propective, need to set two goals:\n",
    "\n",
    "__GOAL I:__ Predict whether flight is going to delay or not.\n",
    "<br>\n",
    "\n",
    "__GOAL II:__ If flight delays, predict amount of time by which it delays."
   ]
  },
  {
   "cell_type": "markdown",
   "metadata": {},
   "source": [
    "## Imports"
   ]
  },
  {
   "cell_type": "code",
   "execution_count": 1,
   "metadata": {},
   "outputs": [],
   "source": [
    "import pandas as pd\n",
    "import numpy as np\n",
    "import seaborn as sns\n",
    "import seaborn as sns\n",
    "import matplotlib.pyplot as plt\n",
    "%matplotlib inline\n",
    "import plotly.express as px\n",
    "import plotly.offline as pyo\n",
    "import plotly.graph_objs as go\n",
    "import warnings\n",
    "warnings.filterwarnings('ignore')\n",
    "\n",
    "# Import airport data\n",
    "import airportsdata\n",
    "airports = airportsdata.load()\n",
    "\n",
    "# Import scripts\n",
    "from script_files.feature_engineering import *\n",
    "from script_files.prepare_flight_data import *\n"
   ]
  },
  {
   "cell_type": "code",
   "execution_count": 2,
   "metadata": {},
   "outputs": [
    {
     "name": "stdout",
     "output_type": "stream",
     "text": [
      "========================================================================================================================\n",
      "\u001b[1mAirport data\u001b[0m\n"
     ]
    },
    {
     "data": {
      "text/html": [
       "<div>\n",
       "<style scoped>\n",
       "    .dataframe tbody tr th:only-of-type {\n",
       "        vertical-align: middle;\n",
       "    }\n",
       "\n",
       "    .dataframe tbody tr th {\n",
       "        vertical-align: top;\n",
       "    }\n",
       "\n",
       "    .dataframe thead th {\n",
       "        text-align: right;\n",
       "    }\n",
       "</style>\n",
       "<table border=\"1\" class=\"dataframe\">\n",
       "  <thead>\n",
       "    <tr style=\"text-align: right;\">\n",
       "      <th></th>\n",
       "      <th>icao</th>\n",
       "      <th>iata</th>\n",
       "      <th>name</th>\n",
       "      <th>city</th>\n",
       "      <th>subd</th>\n",
       "      <th>country</th>\n",
       "      <th>elevation</th>\n",
       "      <th>lat</th>\n",
       "      <th>lon</th>\n",
       "      <th>tz</th>\n",
       "    </tr>\n",
       "  </thead>\n",
       "  <tbody>\n",
       "    <tr>\n",
       "      <th>0</th>\n",
       "      <td>00AK</td>\n",
       "      <td></td>\n",
       "      <td>Lowell Field</td>\n",
       "      <td>Anchor Point</td>\n",
       "      <td>Alaska</td>\n",
       "      <td>US</td>\n",
       "      <td>450.0</td>\n",
       "      <td>59.9492</td>\n",
       "      <td>-151.695999</td>\n",
       "      <td>America/Anchorage</td>\n",
       "    </tr>\n",
       "    <tr>\n",
       "      <th>1</th>\n",
       "      <td>00AL</td>\n",
       "      <td></td>\n",
       "      <td>Epps Airpark</td>\n",
       "      <td>Harvest</td>\n",
       "      <td>Alabama</td>\n",
       "      <td>US</td>\n",
       "      <td>820.0</td>\n",
       "      <td>34.864799</td>\n",
       "      <td>-86.770302</td>\n",
       "      <td>America/Chicago</td>\n",
       "    </tr>\n",
       "    <tr>\n",
       "      <th>2</th>\n",
       "      <td>00AZ</td>\n",
       "      <td></td>\n",
       "      <td>Cordes Airport</td>\n",
       "      <td>Cordes</td>\n",
       "      <td>Arizona</td>\n",
       "      <td>US</td>\n",
       "      <td>3810.0</td>\n",
       "      <td>34.305599</td>\n",
       "      <td>-112.165001</td>\n",
       "      <td>America/Phoenix</td>\n",
       "    </tr>\n",
       "    <tr>\n",
       "      <th>3</th>\n",
       "      <td>00CA</td>\n",
       "      <td></td>\n",
       "      <td>Goldstone /Gts/ Airport</td>\n",
       "      <td>Barstow</td>\n",
       "      <td>California</td>\n",
       "      <td>US</td>\n",
       "      <td>3038.0</td>\n",
       "      <td>35.350498</td>\n",
       "      <td>-116.888</td>\n",
       "      <td>America/Los_Angeles</td>\n",
       "    </tr>\n",
       "    <tr>\n",
       "      <th>4</th>\n",
       "      <td>00CO</td>\n",
       "      <td></td>\n",
       "      <td>Cass Field</td>\n",
       "      <td>Briggsdale</td>\n",
       "      <td>Colorado</td>\n",
       "      <td>US</td>\n",
       "      <td>4830.0</td>\n",
       "      <td>40.6222</td>\n",
       "      <td>-104.344002</td>\n",
       "      <td>America/Denver</td>\n",
       "    </tr>\n",
       "  </tbody>\n",
       "</table>\n",
       "</div>"
      ],
      "text/plain": [
       "   icao iata                     name          city        subd country  \\\n",
       "0  00AK                  Lowell Field  Anchor Point      Alaska      US   \n",
       "1  00AL                  Epps Airpark       Harvest     Alabama      US   \n",
       "2  00AZ                Cordes Airport        Cordes     Arizona      US   \n",
       "3  00CA       Goldstone /Gts/ Airport       Barstow  California      US   \n",
       "4  00CO                    Cass Field    Briggsdale    Colorado      US   \n",
       "\n",
       "  elevation        lat         lon                   tz  \n",
       "0     450.0    59.9492 -151.695999    America/Anchorage  \n",
       "1     820.0  34.864799  -86.770302      America/Chicago  \n",
       "2    3810.0  34.305599 -112.165001      America/Phoenix  \n",
       "3    3038.0  35.350498    -116.888  America/Los_Angeles  \n",
       "4    4830.0    40.6222 -104.344002       America/Denver  "
      ]
     },
     "metadata": {},
     "output_type": "display_data"
    },
    {
     "name": "stdout",
     "output_type": "stream",
     "text": [
      "\n",
      "========================================================================================================================\n",
      "\u001b[1mTraining data\u001b[0m\n"
     ]
    },
    {
     "data": {
      "text/html": [
       "<div>\n",
       "<style scoped>\n",
       "    .dataframe tbody tr th:only-of-type {\n",
       "        vertical-align: middle;\n",
       "    }\n",
       "\n",
       "    .dataframe tbody tr th {\n",
       "        vertical-align: top;\n",
       "    }\n",
       "\n",
       "    .dataframe thead th {\n",
       "        text-align: right;\n",
       "    }\n",
       "</style>\n",
       "<table border=\"1\" class=\"dataframe\">\n",
       "  <thead>\n",
       "    <tr style=\"text-align: right;\">\n",
       "      <th></th>\n",
       "      <th>ID</th>\n",
       "      <th>DATOP</th>\n",
       "      <th>FLTID</th>\n",
       "      <th>DEPSTN</th>\n",
       "      <th>ARRSTN</th>\n",
       "      <th>STD</th>\n",
       "      <th>STA</th>\n",
       "      <th>STATUS</th>\n",
       "      <th>AC</th>\n",
       "      <th>target</th>\n",
       "    </tr>\n",
       "  </thead>\n",
       "  <tbody>\n",
       "    <tr>\n",
       "      <th>0</th>\n",
       "      <td>train_id_0</td>\n",
       "      <td>2016-01-03</td>\n",
       "      <td>TU 0712</td>\n",
       "      <td>CMN</td>\n",
       "      <td>TUN</td>\n",
       "      <td>2016-01-03 10:30:00</td>\n",
       "      <td>2016-01-03 12.55.00</td>\n",
       "      <td>ATA</td>\n",
       "      <td>TU 32AIMN</td>\n",
       "      <td>260.0</td>\n",
       "    </tr>\n",
       "    <tr>\n",
       "      <th>1</th>\n",
       "      <td>train_id_1</td>\n",
       "      <td>2016-01-13</td>\n",
       "      <td>TU 0757</td>\n",
       "      <td>MXP</td>\n",
       "      <td>TUN</td>\n",
       "      <td>2016-01-13 15:05:00</td>\n",
       "      <td>2016-01-13 16.55.00</td>\n",
       "      <td>ATA</td>\n",
       "      <td>TU 31BIMO</td>\n",
       "      <td>20.0</td>\n",
       "    </tr>\n",
       "    <tr>\n",
       "      <th>2</th>\n",
       "      <td>train_id_2</td>\n",
       "      <td>2016-01-16</td>\n",
       "      <td>TU 0214</td>\n",
       "      <td>TUN</td>\n",
       "      <td>IST</td>\n",
       "      <td>2016-01-16 04:10:00</td>\n",
       "      <td>2016-01-16 06.45.00</td>\n",
       "      <td>ATA</td>\n",
       "      <td>TU 32AIMN</td>\n",
       "      <td>0.0</td>\n",
       "    </tr>\n",
       "    <tr>\n",
       "      <th>3</th>\n",
       "      <td>train_id_3</td>\n",
       "      <td>2016-01-17</td>\n",
       "      <td>TU 0480</td>\n",
       "      <td>DJE</td>\n",
       "      <td>NTE</td>\n",
       "      <td>2016-01-17 14:10:00</td>\n",
       "      <td>2016-01-17 17.00.00</td>\n",
       "      <td>ATA</td>\n",
       "      <td>TU 736IOK</td>\n",
       "      <td>0.0</td>\n",
       "    </tr>\n",
       "    <tr>\n",
       "      <th>4</th>\n",
       "      <td>train_id_4</td>\n",
       "      <td>2016-01-17</td>\n",
       "      <td>TU 0338</td>\n",
       "      <td>TUN</td>\n",
       "      <td>ALG</td>\n",
       "      <td>2016-01-17 14:30:00</td>\n",
       "      <td>2016-01-17 15.50.00</td>\n",
       "      <td>ATA</td>\n",
       "      <td>TU 320IMU</td>\n",
       "      <td>22.0</td>\n",
       "    </tr>\n",
       "  </tbody>\n",
       "</table>\n",
       "</div>"
      ],
      "text/plain": [
       "           ID       DATOP     FLTID DEPSTN ARRSTN                  STD  \\\n",
       "0  train_id_0  2016-01-03  TU 0712     CMN    TUN  2016-01-03 10:30:00   \n",
       "1  train_id_1  2016-01-13  TU 0757     MXP    TUN  2016-01-13 15:05:00   \n",
       "2  train_id_2  2016-01-16  TU 0214     TUN    IST  2016-01-16 04:10:00   \n",
       "3  train_id_3  2016-01-17  TU 0480     DJE    NTE  2016-01-17 14:10:00   \n",
       "4  train_id_4  2016-01-17  TU 0338     TUN    ALG  2016-01-17 14:30:00   \n",
       "\n",
       "                   STA STATUS         AC  target  \n",
       "0  2016-01-03 12.55.00    ATA  TU 32AIMN   260.0  \n",
       "1  2016-01-13 16.55.00    ATA  TU 31BIMO    20.0  \n",
       "2  2016-01-16 06.45.00    ATA  TU 32AIMN     0.0  \n",
       "3  2016-01-17 17.00.00    ATA  TU 736IOK     0.0  \n",
       "4  2016-01-17 15.50.00    ATA  TU 320IMU    22.0  "
      ]
     },
     "metadata": {},
     "output_type": "display_data"
    },
    {
     "name": "stdout",
     "output_type": "stream",
     "text": [
      "\n",
      "========================================================================================================================\n",
      "\u001b[1mTest data\u001b[0m\n"
     ]
    },
    {
     "data": {
      "text/html": [
       "<div>\n",
       "<style scoped>\n",
       "    .dataframe tbody tr th:only-of-type {\n",
       "        vertical-align: middle;\n",
       "    }\n",
       "\n",
       "    .dataframe tbody tr th {\n",
       "        vertical-align: top;\n",
       "    }\n",
       "\n",
       "    .dataframe thead th {\n",
       "        text-align: right;\n",
       "    }\n",
       "</style>\n",
       "<table border=\"1\" class=\"dataframe\">\n",
       "  <thead>\n",
       "    <tr style=\"text-align: right;\">\n",
       "      <th></th>\n",
       "      <th>ID</th>\n",
       "      <th>DATOP</th>\n",
       "      <th>FLTID</th>\n",
       "      <th>DEPSTN</th>\n",
       "      <th>ARRSTN</th>\n",
       "      <th>STD</th>\n",
       "      <th>STA</th>\n",
       "      <th>STATUS</th>\n",
       "      <th>AC</th>\n",
       "    </tr>\n",
       "  </thead>\n",
       "  <tbody>\n",
       "    <tr>\n",
       "      <th>0</th>\n",
       "      <td>test_id_0</td>\n",
       "      <td>2016-05-04</td>\n",
       "      <td>TU 0700</td>\n",
       "      <td>DJE</td>\n",
       "      <td>TUN</td>\n",
       "      <td>2016-05-04 06:40:00</td>\n",
       "      <td>2016-05-04 07.30.00</td>\n",
       "      <td>ATA</td>\n",
       "      <td>TU 32AIMF</td>\n",
       "    </tr>\n",
       "    <tr>\n",
       "      <th>1</th>\n",
       "      <td>test_id_1</td>\n",
       "      <td>2016-05-05</td>\n",
       "      <td>TU 0395</td>\n",
       "      <td>TUN</td>\n",
       "      <td>BKO</td>\n",
       "      <td>2016-05-05 15:20:00</td>\n",
       "      <td>2016-05-05 20.05.00</td>\n",
       "      <td>ATA</td>\n",
       "      <td>TU 320IMW</td>\n",
       "    </tr>\n",
       "    <tr>\n",
       "      <th>2</th>\n",
       "      <td>test_id_2</td>\n",
       "      <td>2016-05-06</td>\n",
       "      <td>TU 0745</td>\n",
       "      <td>FRA</td>\n",
       "      <td>TUN</td>\n",
       "      <td>2016-05-06 10:00:00</td>\n",
       "      <td>2016-05-06 12.25.00</td>\n",
       "      <td>ATA</td>\n",
       "      <td>TU 32AIMC</td>\n",
       "    </tr>\n",
       "    <tr>\n",
       "      <th>3</th>\n",
       "      <td>test_id_3</td>\n",
       "      <td>2016-05-11</td>\n",
       "      <td>TU 0848</td>\n",
       "      <td>BEY</td>\n",
       "      <td>TUN</td>\n",
       "      <td>2016-05-11 09:40:00</td>\n",
       "      <td>2016-05-11 13.10.00</td>\n",
       "      <td>ATA</td>\n",
       "      <td>TU 31BIMO</td>\n",
       "    </tr>\n",
       "    <tr>\n",
       "      <th>4</th>\n",
       "      <td>test_id_4</td>\n",
       "      <td>2016-05-11</td>\n",
       "      <td>TU 0635</td>\n",
       "      <td>ORY</td>\n",
       "      <td>MIR</td>\n",
       "      <td>2016-05-11 09:50:00</td>\n",
       "      <td>2016-05-11 12.35.00</td>\n",
       "      <td>ATA</td>\n",
       "      <td>TU 736IOQ</td>\n",
       "    </tr>\n",
       "  </tbody>\n",
       "</table>\n",
       "</div>"
      ],
      "text/plain": [
       "          ID       DATOP     FLTID DEPSTN ARRSTN                  STD  \\\n",
       "0  test_id_0  2016-05-04  TU 0700     DJE    TUN  2016-05-04 06:40:00   \n",
       "1  test_id_1  2016-05-05  TU 0395     TUN    BKO  2016-05-05 15:20:00   \n",
       "2  test_id_2  2016-05-06  TU 0745     FRA    TUN  2016-05-06 10:00:00   \n",
       "3  test_id_3  2016-05-11  TU 0848     BEY    TUN  2016-05-11 09:40:00   \n",
       "4  test_id_4  2016-05-11  TU 0635     ORY    MIR  2016-05-11 09:50:00   \n",
       "\n",
       "                   STA STATUS         AC  \n",
       "0  2016-05-04 07.30.00    ATA  TU 32AIMF  \n",
       "1  2016-05-05 20.05.00    ATA  TU 320IMW  \n",
       "2  2016-05-06 12.25.00    ATA  TU 32AIMC  \n",
       "3  2016-05-11 13.10.00    ATA  TU 31BIMO  \n",
       "4  2016-05-11 12.35.00    ATA  TU 736IOQ  "
      ]
     },
     "metadata": {},
     "output_type": "display_data"
    }
   ],
   "source": [
    "# Loading the data in and Shape to fit\n",
    "airports = pd.DataFrame(airports).T.reset_index(drop=True)\n",
    "# test data\n",
    "train_df = pd.read_csv(\"data/Train.csv\")\n",
    "# train data\n",
    "test_df = pd.read_csv(\"data/Test.csv\")\n",
    "\n",
    "# Print all of them for overview\n",
    "print(\"===\"*40)\n",
    "print('\\033[1m'+\"Airport data\"+ '\\033[0m')\n",
    "display(airports.head())\n",
    "print()\n",
    "print(\"===\"*40)\n",
    "print('\\033[1m'+\"Training data\"+ '\\033[0m')\n",
    "display(train_df.head())\n",
    "print()\n",
    "print(\"===\"*40)\n",
    "print('\\033[1m'+\"Test data\"+ '\\033[0m')\n",
    "display(test_df.head())"
   ]
  },
  {
   "cell_type": "markdown",
   "metadata": {},
   "source": [
    "## Understand the Data"
   ]
  },
  {
   "cell_type": "markdown",
   "metadata": {},
   "source": [
    "1. How many flights are in our data set, in which date period we have data?\n",
    "2. What datatype are in the data?\n",
    "3. Are there any missing values?\n",
    "4. Which features are continuous or categorical?\n",
    "5. Are there any Outliers?"
   ]
  },
  {
   "cell_type": "markdown",
   "metadata": {},
   "source": [
    "__1. How many flights are in our data set, in which date period we have data?__"
   ]
  },
  {
   "cell_type": "code",
   "execution_count": 3,
   "metadata": {},
   "outputs": [
    {
     "name": "stdout",
     "output_type": "stream",
     "text": [
      "2016-01-01\n",
      "2018-12-31\n"
     ]
    }
   ],
   "source": [
    "print(train_df[\"DATOP\"].min())\n",
    "print(train_df[\"DATOP\"].max())"
   ]
  },
  {
   "cell_type": "markdown",
   "metadata": {},
   "source": [
    "Dates of flights from 2016-01-01 till 2018-12-31"
   ]
  },
  {
   "cell_type": "code",
   "execution_count": 4,
   "metadata": {},
   "outputs": [
    {
     "name": "stdout",
     "output_type": "stream",
     "text": [
      "Number of rows in the flightdata dataset :  107833\n",
      "Number of columns in the flightdata dataset :  10\n"
     ]
    }
   ],
   "source": [
    "# Getting an idea of the dimension\n",
    "print('Number of rows in the flightdata dataset : ',train_df.shape[0])\n",
    "print('Number of columns in the flightdata dataset : ',train_df.shape[1])"
   ]
  },
  {
   "cell_type": "markdown",
   "metadata": {},
   "source": [
    "We can observe that the data set contain 107833 rows and 10 columns."
   ]
  },
  {
   "cell_type": "markdown",
   "metadata": {},
   "source": [
    "__2. What datatype are in the data?__"
   ]
  },
  {
   "cell_type": "code",
   "execution_count": 5,
   "metadata": {},
   "outputs": [
    {
     "name": "stdout",
     "output_type": "stream",
     "text": [
      "<class 'pandas.core.frame.DataFrame'>\n",
      "RangeIndex: 107833 entries, 0 to 107832\n",
      "Data columns (total 10 columns):\n",
      " #   Column  Non-Null Count   Dtype  \n",
      "---  ------  --------------   -----  \n",
      " 0   ID      107833 non-null  object \n",
      " 1   DATOP   107833 non-null  object \n",
      " 2   FLTID   107833 non-null  object \n",
      " 3   DEPSTN  107833 non-null  object \n",
      " 4   ARRSTN  107833 non-null  object \n",
      " 5   STD     107833 non-null  object \n",
      " 6   STA     107833 non-null  object \n",
      " 7   STATUS  107833 non-null  object \n",
      " 8   AC      107833 non-null  object \n",
      " 9   target  107833 non-null  float64\n",
      "dtypes: float64(1), object(9)\n",
      "memory usage: 8.2+ MB\n"
     ]
    }
   ],
   "source": [
    "train_df.info()"
   ]
  },
  {
   "cell_type": "markdown",
   "metadata": {},
   "source": [
    "**Data-types**  \n",
    "- The dataset contains 9 columns with objects (text) and the target variable is a float type. <br>\n",
    "\n",
    "- We expect that all information about the date will be given as datatime type."
   ]
  },
  {
   "cell_type": "markdown",
   "metadata": {},
   "source": [
    "__3. Are there any missing values?__"
   ]
  },
  {
   "cell_type": "code",
   "execution_count": 6,
   "metadata": {},
   "outputs": [
    {
     "name": "stdout",
     "output_type": "stream",
     "text": [
      "Your selected dataframe has 10 columns and 107833 Rows.\n",
      "There are 0 columns that have missing values.\n"
     ]
    },
    {
     "data": {
      "text/html": [
       "<div>\n",
       "<style scoped>\n",
       "    .dataframe tbody tr th:only-of-type {\n",
       "        vertical-align: middle;\n",
       "    }\n",
       "\n",
       "    .dataframe tbody tr th {\n",
       "        vertical-align: top;\n",
       "    }\n",
       "\n",
       "    .dataframe thead th {\n",
       "        text-align: right;\n",
       "    }\n",
       "</style>\n",
       "<table border=\"1\" class=\"dataframe\">\n",
       "  <thead>\n",
       "    <tr style=\"text-align: right;\">\n",
       "      <th></th>\n",
       "      <th>Zero Values</th>\n",
       "      <th>Missing Values</th>\n",
       "      <th>% of Total Values</th>\n",
       "      <th>Total Zero and Missing Values</th>\n",
       "      <th>Data Type</th>\n",
       "    </tr>\n",
       "  </thead>\n",
       "  <tbody>\n",
       "  </tbody>\n",
       "</table>\n",
       "</div>"
      ],
      "text/plain": [
       "Empty DataFrame\n",
       "Columns: [Zero Values, Missing Values, % of Total Values, Total Zero and Missing Values, Data Type]\n",
       "Index: []"
      ]
     },
     "execution_count": 6,
     "metadata": {},
     "output_type": "execute_result"
    }
   ],
   "source": [
    "# import from script files folder feature engineering script\n",
    "missing_values_table(train_df)"
   ]
  },
  {
   "cell_type": "markdown",
   "metadata": {},
   "source": [
    "As we can see we have no missing data"
   ]
  },
  {
   "cell_type": "markdown",
   "metadata": {},
   "source": [
    "__4. Which features are continuous or categorical__"
   ]
  },
  {
   "cell_type": "code",
   "execution_count": 7,
   "metadata": {},
   "outputs": [
    {
     "data": {
      "text/plain": [
       "Index(['ID', 'DATOP', 'FLTID', 'DEPSTN', 'ARRSTN', 'STD', 'STA', 'STATUS',\n",
       "       'AC'],\n",
       "      dtype='object')"
      ]
     },
     "execution_count": 7,
     "metadata": {},
     "output_type": "execute_result"
    }
   ],
   "source": [
    "# All continuous variables\n",
    "train_df.select_dtypes(\"object\").columns"
   ]
  },
  {
   "cell_type": "markdown",
   "metadata": {},
   "source": [
    "__5. Are there any Outliers__"
   ]
  },
  {
   "cell_type": "code",
   "execution_count": 8,
   "metadata": {},
   "outputs": [
    {
     "data": {
      "text/html": [
       "<div>\n",
       "<style scoped>\n",
       "    .dataframe tbody tr th:only-of-type {\n",
       "        vertical-align: middle;\n",
       "    }\n",
       "\n",
       "    .dataframe tbody tr th {\n",
       "        vertical-align: top;\n",
       "    }\n",
       "\n",
       "    .dataframe thead th {\n",
       "        text-align: right;\n",
       "    }\n",
       "</style>\n",
       "<table border=\"1\" class=\"dataframe\">\n",
       "  <thead>\n",
       "    <tr style=\"text-align: right;\">\n",
       "      <th></th>\n",
       "      <th>count</th>\n",
       "      <th>mean</th>\n",
       "      <th>std</th>\n",
       "      <th>min</th>\n",
       "      <th>25%</th>\n",
       "      <th>50%</th>\n",
       "      <th>75%</th>\n",
       "      <th>max</th>\n",
       "    </tr>\n",
       "  </thead>\n",
       "  <tbody>\n",
       "    <tr>\n",
       "      <th>target</th>\n",
       "      <td>107833.0</td>\n",
       "      <td>48.733013</td>\n",
       "      <td>117.135562</td>\n",
       "      <td>0.0</td>\n",
       "      <td>0.0</td>\n",
       "      <td>14.0</td>\n",
       "      <td>43.0</td>\n",
       "      <td>3451.0</td>\n",
       "    </tr>\n",
       "  </tbody>\n",
       "</table>\n",
       "</div>"
      ],
      "text/plain": [
       "           count       mean         std  min  25%   50%   75%     max\n",
       "target  107833.0  48.733013  117.135562  0.0  0.0  14.0  43.0  3451.0"
      ]
     },
     "execution_count": 8,
     "metadata": {},
     "output_type": "execute_result"
    }
   ],
   "source": [
    "train_df.describe().T"
   ]
  },
  {
   "cell_type": "markdown",
   "metadata": {},
   "source": [
    "The maxinum and minimum duration of flight delay is 3451 minutes and 0 minutes respectively"
   ]
  },
  {
   "cell_type": "markdown",
   "metadata": {},
   "source": [
    "## Data Preparing"
   ]
  },
  {
   "cell_type": "markdown",
   "metadata": {},
   "source": [
    "Prepare the data for further processing of the data"
   ]
  },
  {
   "cell_type": "code",
   "execution_count": 9,
   "metadata": {},
   "outputs": [],
   "source": [
    "# Berlin Schönefeld is referenced as SXF in the data, but only exists as BER in the airports data. Therefore we replace SXF with BER. from the prepare flights script\n",
    "train_df = fix_airport(train_df)\n",
    "test_df = fix_airport(test_df)"
   ]
  },
  {
   "cell_type": "code",
   "execution_count": 10,
   "metadata": {},
   "outputs": [],
   "source": [
    "# Merge airportsdata function from the prepare flights script\n",
    "train_airport_df = merge_airports(train_df,airports)\n",
    "test_airport_df = merge_airports(test_df,airports)"
   ]
  },
  {
   "cell_type": "code",
   "execution_count": 11,
   "metadata": {},
   "outputs": [
    {
     "data": {
      "text/html": [
       "<div>\n",
       "<style scoped>\n",
       "    .dataframe tbody tr th:only-of-type {\n",
       "        vertical-align: middle;\n",
       "    }\n",
       "\n",
       "    .dataframe tbody tr th {\n",
       "        vertical-align: top;\n",
       "    }\n",
       "\n",
       "    .dataframe thead th {\n",
       "        text-align: right;\n",
       "    }\n",
       "</style>\n",
       "<table border=\"1\" class=\"dataframe\">\n",
       "  <thead>\n",
       "    <tr style=\"text-align: right;\">\n",
       "      <th></th>\n",
       "      <th>ID</th>\n",
       "      <th>DATOP</th>\n",
       "      <th>FLTID</th>\n",
       "      <th>DEPSTN</th>\n",
       "      <th>ARRSTN</th>\n",
       "      <th>STD</th>\n",
       "      <th>STA</th>\n",
       "      <th>STATUS</th>\n",
       "      <th>AC</th>\n",
       "      <th>target</th>\n",
       "      <th>...</th>\n",
       "      <th>icao_ARR</th>\n",
       "      <th>iata_ARR</th>\n",
       "      <th>name_ARR</th>\n",
       "      <th>city_ARR</th>\n",
       "      <th>subd_ARR</th>\n",
       "      <th>country_ARR</th>\n",
       "      <th>elevation_ARR</th>\n",
       "      <th>lat_ARR</th>\n",
       "      <th>lon_ARR</th>\n",
       "      <th>tz_ARR</th>\n",
       "    </tr>\n",
       "  </thead>\n",
       "  <tbody>\n",
       "    <tr>\n",
       "      <th>0</th>\n",
       "      <td>train_id_15674</td>\n",
       "      <td>2016-01-01</td>\n",
       "      <td>TU 0564</td>\n",
       "      <td>NKC</td>\n",
       "      <td>TUN</td>\n",
       "      <td>2016-01-01 00:15:00</td>\n",
       "      <td>2016-01-01 04.30.00</td>\n",
       "      <td>ATA</td>\n",
       "      <td>TU 320IMV</td>\n",
       "      <td>0.0</td>\n",
       "      <td>...</td>\n",
       "      <td>DTTA</td>\n",
       "      <td>TUN</td>\n",
       "      <td>Tunis Carthage International Airport</td>\n",
       "      <td>Tunis</td>\n",
       "      <td>Tunis</td>\n",
       "      <td>TN</td>\n",
       "      <td>22.0</td>\n",
       "      <td>36.851002</td>\n",
       "      <td>10.2272</td>\n",
       "      <td>Africa/Tunis</td>\n",
       "    </tr>\n",
       "    <tr>\n",
       "      <th>1</th>\n",
       "      <td>train_id_15676</td>\n",
       "      <td>2016-01-01</td>\n",
       "      <td>TU 0714</td>\n",
       "      <td>JED</td>\n",
       "      <td>TUN</td>\n",
       "      <td>2016-01-01 00:55:00</td>\n",
       "      <td>2016-01-01 05.30.00</td>\n",
       "      <td>ATA</td>\n",
       "      <td>TU 332IFM</td>\n",
       "      <td>195.0</td>\n",
       "      <td>...</td>\n",
       "      <td>DTTA</td>\n",
       "      <td>TUN</td>\n",
       "      <td>Tunis Carthage International Airport</td>\n",
       "      <td>Tunis</td>\n",
       "      <td>Tunis</td>\n",
       "      <td>TN</td>\n",
       "      <td>22.0</td>\n",
       "      <td>36.851002</td>\n",
       "      <td>10.2272</td>\n",
       "      <td>Africa/Tunis</td>\n",
       "    </tr>\n",
       "    <tr>\n",
       "      <th>2</th>\n",
       "      <td>train_id_15675</td>\n",
       "      <td>2016-01-01</td>\n",
       "      <td>TU 0614</td>\n",
       "      <td>DKR</td>\n",
       "      <td>TUN</td>\n",
       "      <td>2016-01-01 01:20:00</td>\n",
       "      <td>2016-01-01 05.55.00</td>\n",
       "      <td>ATA</td>\n",
       "      <td>TU 320IMU</td>\n",
       "      <td>49.0</td>\n",
       "      <td>...</td>\n",
       "      <td>DTTA</td>\n",
       "      <td>TUN</td>\n",
       "      <td>Tunis Carthage International Airport</td>\n",
       "      <td>Tunis</td>\n",
       "      <td>Tunis</td>\n",
       "      <td>TN</td>\n",
       "      <td>22.0</td>\n",
       "      <td>36.851002</td>\n",
       "      <td>10.2272</td>\n",
       "      <td>Africa/Tunis</td>\n",
       "    </tr>\n",
       "    <tr>\n",
       "      <th>3</th>\n",
       "      <td>train_id_30980</td>\n",
       "      <td>2016-01-01</td>\n",
       "      <td>UG 0002</td>\n",
       "      <td>TUN</td>\n",
       "      <td>DJE</td>\n",
       "      <td>2016-01-01 06:15:00</td>\n",
       "      <td>2016-01-01 07.15.00</td>\n",
       "      <td>SCH</td>\n",
       "      <td>UG AT7LBD</td>\n",
       "      <td>0.0</td>\n",
       "      <td>...</td>\n",
       "      <td>DTTJ</td>\n",
       "      <td>DJE</td>\n",
       "      <td>Djerba Zarzis International Airport</td>\n",
       "      <td>Djerba</td>\n",
       "      <td>Madanin</td>\n",
       "      <td>TN</td>\n",
       "      <td>19.0</td>\n",
       "      <td>33.875</td>\n",
       "      <td>10.7755</td>\n",
       "      <td>Africa/Tunis</td>\n",
       "    </tr>\n",
       "    <tr>\n",
       "      <th>4</th>\n",
       "      <td>train_id_7179</td>\n",
       "      <td>2016-01-01</td>\n",
       "      <td>TU 0880</td>\n",
       "      <td>TUN</td>\n",
       "      <td>AMS</td>\n",
       "      <td>2016-01-01 06:30:00</td>\n",
       "      <td>2016-01-01 09.20.00</td>\n",
       "      <td>ATA</td>\n",
       "      <td>TU 736IOP</td>\n",
       "      <td>36.0</td>\n",
       "      <td>...</td>\n",
       "      <td>EHAM</td>\n",
       "      <td>AMS</td>\n",
       "      <td>Amsterdam Airport Schiphol</td>\n",
       "      <td>Amsterdam</td>\n",
       "      <td>North Holland</td>\n",
       "      <td>NL</td>\n",
       "      <td>-11.0</td>\n",
       "      <td>52.308601</td>\n",
       "      <td>4.76389</td>\n",
       "      <td>Europe/Amsterdam</td>\n",
       "    </tr>\n",
       "  </tbody>\n",
       "</table>\n",
       "<p>5 rows × 30 columns</p>\n",
       "</div>"
      ],
      "text/plain": [
       "               ID       DATOP     FLTID DEPSTN ARRSTN                  STD  \\\n",
       "0  train_id_15674  2016-01-01  TU 0564     NKC    TUN  2016-01-01 00:15:00   \n",
       "1  train_id_15676  2016-01-01  TU 0714     JED    TUN  2016-01-01 00:55:00   \n",
       "2  train_id_15675  2016-01-01  TU 0614     DKR    TUN  2016-01-01 01:20:00   \n",
       "3  train_id_30980  2016-01-01  UG 0002     TUN    DJE  2016-01-01 06:15:00   \n",
       "4   train_id_7179  2016-01-01  TU 0880     TUN    AMS  2016-01-01 06:30:00   \n",
       "\n",
       "                   STA STATUS         AC  target  ... icao_ARR iata_ARR  \\\n",
       "0  2016-01-01 04.30.00    ATA  TU 320IMV     0.0  ...     DTTA      TUN   \n",
       "1  2016-01-01 05.30.00    ATA  TU 332IFM   195.0  ...     DTTA      TUN   \n",
       "2  2016-01-01 05.55.00    ATA  TU 320IMU    49.0  ...     DTTA      TUN   \n",
       "3  2016-01-01 07.15.00    SCH  UG AT7LBD     0.0  ...     DTTJ      DJE   \n",
       "4  2016-01-01 09.20.00    ATA  TU 736IOP    36.0  ...     EHAM      AMS   \n",
       "\n",
       "                               name_ARR   city_ARR       subd_ARR country_ARR  \\\n",
       "0  Tunis Carthage International Airport      Tunis          Tunis          TN   \n",
       "1  Tunis Carthage International Airport      Tunis          Tunis          TN   \n",
       "2  Tunis Carthage International Airport      Tunis          Tunis          TN   \n",
       "3   Djerba Zarzis International Airport     Djerba        Madanin          TN   \n",
       "4            Amsterdam Airport Schiphol  Amsterdam  North Holland          NL   \n",
       "\n",
       "  elevation_ARR    lat_ARR  lon_ARR            tz_ARR  \n",
       "0          22.0  36.851002  10.2272      Africa/Tunis  \n",
       "1          22.0  36.851002  10.2272      Africa/Tunis  \n",
       "2          22.0  36.851002  10.2272      Africa/Tunis  \n",
       "3          19.0     33.875  10.7755      Africa/Tunis  \n",
       "4         -11.0  52.308601  4.76389  Europe/Amsterdam  \n",
       "\n",
       "[5 rows x 30 columns]"
      ]
     },
     "execution_count": 11,
     "metadata": {},
     "output_type": "execute_result"
    }
   ],
   "source": [
    "train_airport_df.head()"
   ]
  },
  {
   "cell_type": "code",
   "execution_count": 12,
   "metadata": {},
   "outputs": [
    {
     "data": {
      "text/plain": [
       "Index(['ID', 'DATOP', 'FLTID', 'DEPSTN', 'ARRSTN', 'STD', 'STA', 'STATUS',\n",
       "       'AC', 'target', 'icao_DEP', 'iata_DEP', 'name_DEP', 'city_DEP',\n",
       "       'subd_DEP', 'country_DEP', 'elevation_DEP', 'lat_DEP', 'lon_DEP',\n",
       "       'tz_DEP', 'icao_ARR', 'iata_ARR', 'name_ARR', 'city_ARR', 'subd_ARR',\n",
       "       'country_ARR', 'elevation_ARR', 'lat_ARR', 'lon_ARR', 'tz_ARR'],\n",
       "      dtype='object')"
      ]
     },
     "execution_count": 12,
     "metadata": {},
     "output_type": "execute_result"
    }
   ],
   "source": [
    "# All columns that we had now\n",
    "train_airport_df.columns"
   ]
  },
  {
   "cell_type": "code",
   "execution_count": 13,
   "metadata": {},
   "outputs": [],
   "source": [
    "# Rename the columns for a better understanding\n",
    "# train_airport_df.columns=['id','flight_date','flight_number','departure_point','arrival_point','scheduled_time_departure','scheduled_time_arrival','flight_status','aircraft_code',\"target\"]\n",
    "# test_airport_df.columns=['id','flight_date','flight_number','departure_point','arrival_point','scheduled_time_departure','scheduled_time_arrival','flight_status','aircraft_code',\"target\"]"
   ]
  },
  {
   "cell_type": "markdown",
   "metadata": {},
   "source": [
    "## Create Features"
   ]
  },
  {
   "cell_type": "code",
   "execution_count": 14,
   "metadata": {},
   "outputs": [],
   "source": [
    "# create all featrues for firstly more insights\n",
    "train_airport_df = create_feature(train_airport_df)\n",
    "train_airport_df = lat_lon_distance(train_airport_df)"
   ]
  },
  {
   "cell_type": "code",
   "execution_count": 15,
   "metadata": {},
   "outputs": [
    {
     "name": "stdout",
     "output_type": "stream",
     "text": [
      "<class 'pandas.core.frame.DataFrame'>\n",
      "RangeIndex: 107833 entries, 0 to 107832\n",
      "Data columns (total 41 columns):\n",
      " #   Column             Non-Null Count   Dtype         \n",
      "---  ------             --------------   -----         \n",
      " 0   ID                 107833 non-null  object        \n",
      " 1   DATOP              107833 non-null  datetime64[ns]\n",
      " 2   FLTID              107833 non-null  object        \n",
      " 3   DEPSTN             107833 non-null  object        \n",
      " 4   ARRSTN             107833 non-null  object        \n",
      " 5   STD                107833 non-null  datetime64[ns]\n",
      " 6   STA                107833 non-null  datetime64[ns]\n",
      " 7   STATUS             107833 non-null  object        \n",
      " 8   AC                 107833 non-null  object        \n",
      " 9   target             107833 non-null  float64       \n",
      " 10  icao_DEP           107833 non-null  object        \n",
      " 11  iata_DEP           107833 non-null  object        \n",
      " 12  name_DEP           107833 non-null  object        \n",
      " 13  city_DEP           107833 non-null  object        \n",
      " 14  subd_DEP           107833 non-null  object        \n",
      " 15  country_DEP        107833 non-null  object        \n",
      " 16  elevation_DEP      107833 non-null  object        \n",
      " 17  lat_DEP            107833 non-null  object        \n",
      " 18  lon_DEP            107833 non-null  object        \n",
      " 19  tz_DEP             107833 non-null  object        \n",
      " 20  icao_ARR           107833 non-null  object        \n",
      " 21  iata_ARR           107833 non-null  object        \n",
      " 22  name_ARR           107833 non-null  object        \n",
      " 23  city_ARR           107833 non-null  object        \n",
      " 24  subd_ARR           107833 non-null  object        \n",
      " 25  country_ARR        107833 non-null  object        \n",
      " 26  elevation_ARR      107833 non-null  object        \n",
      " 27  lat_ARR            107833 non-null  object        \n",
      " 28  lon_ARR            107833 non-null  object        \n",
      " 29  tz_ARR             107833 non-null  object        \n",
      " 30  delay_or_onTime    107833 non-null  object        \n",
      " 31  delayed            107833 non-null  int64         \n",
      " 32  domestic           107833 non-null  int64         \n",
      " 33  dep_hour           107833 non-null  int64         \n",
      " 34  dep_weekday        107833 non-null  object        \n",
      " 35  duration_min       107833 non-null  float64       \n",
      " 36  arr_hour           107833 non-null  int64         \n",
      " 37  flight_month       107833 non-null  int64         \n",
      " 38  flight_month_name  107833 non-null  object        \n",
      " 39  year               107833 non-null  int64         \n",
      " 40  distance           107833 non-null  float64       \n",
      "dtypes: datetime64[ns](3), float64(3), int64(6), object(29)\n",
      "memory usage: 33.7+ MB\n"
     ]
    }
   ],
   "source": [
    "# Calculate the flight distance from the latitude and longitude data\n",
    "train_airport_df.info()"
   ]
  },
  {
   "cell_type": "markdown",
   "metadata": {},
   "source": [
    "## Exploratory Data Analysis"
   ]
  },
  {
   "cell_type": "markdown",
   "metadata": {},
   "source": [
    "### Hyptotheses\n",
    "Why are the flights late?"
   ]
  },
  {
   "cell_type": "markdown",
   "metadata": {},
   "source": [
    "1. More international flights than domestic flights are affected by delays\n",
    "2. The season, day of the week and time of day plays a role in the delay\n",
    "3. Are the delays due to the Individual aircraft"
   ]
  },
  {
   "cell_type": "markdown",
   "metadata": {},
   "source": [
    "##### Quick Overview"
   ]
  },
  {
   "cell_type": "code",
   "execution_count": 16,
   "metadata": {},
   "outputs": [
    {
     "data": {
      "image/png": "[encoded data removed]",
      "text/plain": [
       "<Figure size 1080x360 with 1 Axes>"
      ]
     },
     "metadata": {
      "needs_background": "light"
     },
     "output_type": "display_data"
    }
   ],
   "source": [
    "# Histplot to see the distribution of delays\n",
    "fig, ax = plt.subplots(figsize=(15,5))\n",
    "sns.histplot(train_airport_df.target, bins=500,edgecolor=\"black\", \n",
    "             linewidth=1)\n",
    "plt.xlim(-10, 300)\n",
    "plt.xlabel(\"Delay (min)\", fontsize=20)\n",
    "plt.ylabel(\"Counts\", fontsize=20);"
   ]
  },
  {
   "cell_type": "markdown",
   "metadata": {},
   "source": [
    "Here is an overview of the time distribution of delays as we can see most flights are delayed less than one hour"
   ]
  },
  {
   "cell_type": "code",
   "execution_count": 17,
   "metadata": {},
   "outputs": [
    {
     "data": {
      "image/png": "[encoded data removed]",
      "text/plain": [
       "<Figure size 720x360 with 1 Axes>"
      ]
     },
     "metadata": {},
     "output_type": "display_data"
    }
   ],
   "source": [
    "# grouped dataframe to plot the number of flights on time and on delay\n",
    "on_time = train_airport_df.groupby([\"delay_or_onTime\"]).size().to_frame(\"count\").reset_index()\n",
    "# Pie chart style and size\n",
    "plt.figure(figsize=(10,5))\n",
    "explode = [0,0.05]\n",
    "\n",
    "# function to get the % Values as the counted values\n",
    "def func(pct, allvals):\n",
    "    absolute = int(np.round(pct/100.*np.sum(allvals)))\n",
    "    return \"{:.1f}%\\n{:d}\".format(pct, absolute)\n",
    "\n",
    "#create the pie charts\n",
    "plt.pie(on_time[\"count\"], labels=[\"Delay\",\"On Time\"],\n",
    "        shadow=True, startangle=30,\n",
    "        textprops=dict(color=\"black\",size=15),explode=explode,autopct=lambda pct: func(pct, on_time[\"count\"]),\n",
    "        wedgeprops = { 'linewidth' : 0.8,'edgecolor' : \"black\" })\n",
    "plt.axis('equal')\n",
    "plt.title(\"Number of flights that are on time and number of delayed flights\",fontweight=\"bold\",fontsize=15)\n",
    "plt.tight_layout();"
   ]
  },
  {
   "cell_type": "markdown",
   "metadata": {},
   "source": [
    "Of our 107833 flights, 50010 (46.37%) are on time and 57823 (53.62%) are delayed. "
   ]
  },
  {
   "cell_type": "markdown",
   "metadata": {},
   "source": [
    "#### __1. More international flights than domestic flights are affected by delays__"
   ]
  },
  {
   "cell_type": "code",
   "execution_count": 18,
   "metadata": {},
   "outputs": [
    {
     "data": {
      "application/vnd.plotly.v1+json": {
       "config": {
        "plotlyServerURL": "https://plot.ly"
       },
       "data": [
        {
         "customdata": [
          [
           36.8222007751,
           7.8091697693,
           157,
           "AAE",
           "DZ"
          ],
          [
           57.0927589138,
           9.8492431641,
           0,
           "AAL",
           "DK"
          ],
          [
           5.2613902092,
           -3.9262900352,
           26,
           "ABJ",
           "CI"
          ],
          [
           38.2924003601,
           27.156999588,
           0,
           "ADB",
           "TR"
          ],
          [
           35.1771011353,
           -3.8395199776,
           9,
           "AHU",
           "MA"
          ],
          [
           36.6910018921,
           3.2154099941,
           30,
           "ALG",
           "DZ"
          ],
          [
           31.7226009369,
           35.9931983948,
           0,
           "AMM",
           "JO"
          ],
          [
           52.3086013794,
           4.7638897896,
           37,
           "AMS",
           "NL"
          ],
          [
           59.6519012451,
           17.9186000824,
           0,
           "ARN",
           "SE"
          ],
          [
           37.9364013672,
           23.9444999695,
           13,
           "ATH",
           "GR"
          ],
          [
           36.8987007141,
           30.8005008698,
           129.5,
           "AYT",
           "TR"
          ],
          [
           41.2971000671,
           2.0784599781,
           25,
           "BCN",
           "ES"
          ],
          [
           40.6576004028,
           17.9470005035,
           202,
           "BDS",
           "IT"
          ],
          [
           44.8184013367,
           20.3090991974,
           15,
           "BEG",
           "RS"
          ],
          [
           52.362167,
           13.500667,
           15,
           "BER",
           "DE"
          ],
          [
           33.8208999634,
           35.4883995056,
           10,
           "BEY",
           "LB"
          ],
          [
           36.7120018005,
           5.069920063,
           0,
           "BJA",
           "DZ"
          ],
          [
           12.5334997177,
           -7.9499402046,
           44,
           "BKO",
           "ML"
          ],
          [
           55.7402992249,
           9.1517801285,
           44.5,
           "BLL",
           "DK"
          ],
          [
           44.5354003906,
           11.2887001038,
           15,
           "BLQ",
           "IT"
          ],
          [
           44.8283004761,
           -0.7155560255,
           21.5,
           "BOD",
           "FR"
          ],
          [
           41.1389007568,
           16.7605991364,
           0,
           "BRI",
           "IT"
          ],
          [
           49.1512985229,
           16.6944007874,
           0,
           "BRQ",
           "CZ"
          ],
          [
           50.9014015198,
           4.4844398499,
           16,
           "BRU",
           "BE"
          ],
          [
           48.1702003479,
           17.2126998901,
           0,
           "BTS",
           "SK"
          ],
          [
           47.4369010925,
           19.2555999756,
           0,
           "BUD",
           "HU"
          ],
          [
           38.0788993835,
           -7.9324002266,
           0,
           "BYJ",
           "PT"
          ],
          [
           39.251499176,
           9.0542802811,
           0,
           "CAG",
           "IT"
          ],
          [
           30.1219005585,
           31.4055995941,
           30,
           "CAI",
           "EG"
          ],
          [
           49.0127983093,
           2.5499999523,
           14,
           "CDG",
           "FR"
          ],
          [
           50.8658981323,
           7.1427397728,
           27.5,
           "CGN",
           "DE"
          ],
          [
           9.57689,
           -13.612,
           45,
           "CKY",
           "GN"
          ],
          [
           33.3675003052,
           -7.5899701118,
           8,
           "CMN",
           "MA"
          ],
          [
           6.3572301865,
           2.3843500614,
           9.5,
           "COO",
           "BJ"
          ],
          [
           55.6179008484,
           12.6560001373,
           0,
           "CPH",
           "DK"
          ],
          [
           50.4592018127,
           4.4538202286,
           4,
           "CRL",
           "BE"
          ],
          [
           37.4668006897,
           15.0663995743,
           0,
           "CTA",
           "IT"
          ],
          [
           36.2760009766,
           6.6203899384,
           54,
           "CZL",
           "DZ"
          ],
          [
           33.875,
           10.7755002975,
           0,
           "DJE",
           "TN"
          ],
          [
           14.7397003174,
           -17.4902000427,
           46.5,
           "DKR",
           "SN"
          ],
          [
           25.2605946,
           51.6137665,
           0,
           "DOH",
           "QA"
          ],
          [
           14.671111,
           -17.066944,
           50,
           "DSS",
           "SN"
          ],
          [
           51.2895011902,
           6.7667798996,
           20,
           "DUS",
           "DE"
          ],
          [
           36.2375984192,
           43.9631996155,
           48,
           "EBL",
           "IQ"
          ],
          [
           31.7042999268,
           9.2546195984,
           0,
           "EBM",
           "TN"
          ],
          [
           40.1281013489,
           32.995098114,
           0,
           "ESB",
           "TR"
          ],
          [
           -11.5913000107,
           27.5308990479,
           0,
           "FBM",
           "CD"
          ],
          [
           41.8045005798,
           12.2508001328,
           9.5,
           "FCO",
           "IT"
          ],
          [
           -4.3857498169,
           15.4446001053,
           0,
           "FIH",
           "CD"
          ],
          [
           50.0264015198,
           8.543129921,
           20,
           "FRA",
           "DE"
          ],
          [
           33.8768997192,
           10.1033000946,
           0,
           "GAE",
           "TN"
          ],
          [
           34.422000885,
           8.8225002289,
           0,
           "GAF",
           "TN"
          ],
          [
           32.3841018677,
           3.7941100597,
           51,
           "GHA",
           "DZ"
          ],
          [
           45.3628997803,
           5.3293700218,
           49,
           "GNB",
           "FR"
          ],
          [
           46.2380981445,
           6.1089501381,
           15,
           "GVA",
           "CH"
          ],
          [
           52.461101532,
           9.6850795746,
           59,
           "HAJ",
           "DE"
          ],
          [
           53.6304016113,
           9.9882297516,
           22,
           "HAM",
           "DE"
          ],
          [
           30.9176998138,
           29.6963996887,
           0,
           "HBE",
           "EG"
          ],
          [
           50.4016990662,
           30.4496994019,
           0,
           "IEV",
           "UA"
          ],
          [
           41.275333,
           28.752,
           25,
           "IST",
           "TR"
          ],
          [
           21.679599762,
           39.15650177,
           50,
           "JED",
           "SA"
          ],
          [
           11.5473003387,
           43.1595001221,
           14,
           "JIB",
           "DJ"
          ],
          [
           50.3450012207,
           30.8946990967,
           341,
           "KBP",
           "UA"
          ],
          [
           63.9850006104,
           -22.6056003571,
           0,
           "KEF",
           "IS"
          ],
          [
           -1.9686299563,
           30.1394996643,
           3,
           "KGL",
           "RW"
          ],
          [
           45.0346984863,
           39.170501709,
           0,
           "KRR",
           "RU"
          ],
          [
           15.5895004272,
           32.5531997681,
           35,
           "KRT",
           "SD"
          ],
          [
           48.6631011963,
           21.2411003113,
           0,
           "KSC",
           "SK"
          ],
          [
           50.4743003845,
           19.0799999237,
           100,
           "KTW",
           "PL"
          ],
          [
           -8.8583698273,
           13.2312002182,
           110.5,
           "LAD",
           "AO"
          ],
          [
           0.4586000144,
           9.4122800827,
           0,
           "LBV",
           "GA"
          ],
          [
           59.8003005981,
           30.2625007629,
           5,
           "LED",
           "RU"
          ],
          [
           6.1656098366,
           1.2545100451,
           0,
           "LFW",
           "TG"
          ],
          [
           51.1481018066,
           -0.1902779937,
           29,
           "LGW",
           "GB"
          ],
          [
           51.4706001282,
           -0.4619410038,
           36,
           "LHR",
           "GB"
          ],
          [
           50.5619010925,
           3.0894401073,
           28,
           "LIL",
           "FR"
          ],
          [
           38.7812995911,
           -9.1359195709,
           17,
           "LIS",
           "PT"
          ],
          [
           46.2237014771,
           14.4575996399,
           0,
           "LJU",
           "SI"
          ],
          [
           49.6265983582,
           6.211520195,
           0,
           "LUX",
           "LU"
          ],
          [
           45.726398468,
           5.0908298492,
           29,
           "LYS",
           "FR"
          ],
          [
           40.4936,
           -3.56676,
           33,
           "MAD",
           "ES"
          ],
          [
           24.5534000397,
           39.7051010132,
           15,
           "MED",
           "SA"
          ],
          [
           35.7580986023,
           10.754699707,
           0,
           "MIR",
           "TN"
          ],
          [
           35.857498,
           14.4775,
           0,
           "MLA",
           "MT"
          ],
          [
           43.439271922,
           5.2214241028,
           20,
           "MRS",
           "FR"
          ],
          [
           48.3538017273,
           11.7861003876,
           17,
           "MUC",
           "DE"
          ],
          [
           -1.656159997,
           13.4379997253,
           0,
           "MVB",
           "GA"
          ],
          [
           45.6305999756,
           8.7281103134,
           17,
           "MXP",
           "IT"
          ],
          [
           40.8860015869,
           14.2908000946,
           0,
           "NAP",
           "IT"
          ],
          [
           36.075833,
           10.438611,
           0,
           "NBE",
           "TN"
          ],
          [
           43.6584014893,
           7.2158699036,
           15,
           "NCE",
           "FR"
          ],
          [
           34.9888000488,
           -3.0282099247,
           0,
           "NDR",
           "MA"
          ],
          [
           13.4814996719,
           2.1836099625,
           25,
           "NIM",
           "NE"
          ],
          [
           18.0981998444,
           -15.9484996796,
           55,
           "NKC",
           "MR"
          ],
          [
           47.1531982422,
           -1.610730052,
           20,
           "NTE",
           "FR"
          ],
          [
           41.2481002808,
           -8.6813898087,
           5,
           "OPO",
           "PT"
          ],
          [
           35.6239013672,
           -0.6211829782,
           35,
           "ORN",
           "DZ"
          ],
          [
           48.7252998352,
           2.3594400883,
           23,
           "ORY",
           "FR"
          ],
          [
           49.6963005066,
           18.1110992432,
           0,
           "OSR",
           "CZ"
          ],
          [
           51.1988983154,
           2.8622200489,
           51.5,
           "OST",
           "BE"
          ],
          [
           44.5722007751,
           26.1021995544,
           112,
           "OTP",
           "RO"
          ],
          [
           12.3531999588,
           -1.5124200583,
           29,
           "OUA",
           "BF"
          ],
          [
           34.7872009277,
           -1.9239900112,
           7,
           "OUD",
           "MA"
          ],
          [
           38.1759986877,
           13.0909996033,
           0,
           "PMO",
           "IT"
          ],
          [
           50.1007995605,
           14.2600002289,
           5,
           "PRG",
           "CZ"
          ],
          [
           43.6838989258,
           10.3927001953,
           22.5,
           "PSA",
           "IT"
          ],
          [
           31.6068992615,
           -8.0362997055,
           59,
           "RAK",
           "MA"
          ],
          [
           51.9569015503,
           4.4372200966,
           329,
           "RTM",
           "NL"
          ],
          [
           34.7179985046,
           10.6909999847,
           0,
           "SFA",
           "TN"
          ],
          [
           43.8246002197,
           18.3314990997,
           0,
           "SJJ",
           "BA"
          ],
          [
           40.5196990967,
           22.9708995819,
           45,
           "SKG",
           "GR"
          ],
          [
           54.1251296997,
           45.2122573853,
           55,
           "SKX",
           "RU"
          ],
          [
           48.6898994446,
           9.2219600677,
           0,
           "STR",
           "DE"
          ],
          [
           55.9725990295,
           37.4146003723,
           26,
           "SVO",
           "RU"
          ],
          [
           48.5382995605,
           7.6282300949,
           30,
           "SXB",
           "FR"
          ],
          [
           36.9799995422,
           8.8769397736,
           0,
           "TBJ",
           "TN"
          ],
          [
           59.4132995605,
           24.8327999115,
           0,
           "TLL",
           "EE"
          ],
          [
           43.6291007996,
           1.3638199568,
           30,
           "TLS",
           "FR"
          ],
          [
           22.8115005493,
           5.4510798454,
           100,
           "TMR",
           "DZ"
          ],
          [
           35.7268981934,
           -5.9168901444,
           0,
           "TNG",
           "MA"
          ],
          [
           33.9397010803,
           8.1105604172,
           0,
           "TOE",
           "TN"
          ],
          [
           37.9113998413,
           12.4879999161,
           0,
           "TPS",
           "IT"
          ],
          [
           45.2008018494,
           7.6496300697,
           0,
           "TRN",
           "IT"
          ],
          [
           36.8510017395,
           10.2271995544,
           14,
           "TUN",
           "TN"
          ],
          [
           45.5052986145,
           12.3519001007,
           15,
           "VCE",
           "IT"
          ],
          [
           48.1102981567,
           16.5697002411,
           20,
           "VIE",
           "AT"
          ],
          [
           55.5914993286,
           37.2615013123,
           8,
           "VKO",
           "RU"
          ],
          [
           54.6341018677,
           25.2858009338,
           0,
           "VNO",
           "LT"
          ],
          [
           48.7825012207,
           44.345500946,
           328,
           "VOG",
           "RU"
          ],
          [
           45.3956985474,
           10.8885002136,
           0,
           "VRN",
           "IT"
          ],
          [
           45.4706001282,
           -73.7407989502,
           20,
           "YUL",
           "CA"
          ],
          [
           47.4646987915,
           8.5491695404,
           10,
           "ZRH",
           "CH"
          ]
         ],
         "hovertemplate": "<b>%{hovertext}</b><br><br>Delay (min)=%{marker.color}<br>DEPSTN=%{customdata[3]}<br>country_DEP=%{customdata[4]}<extra></extra>",
         "hovertext": [
          "Annaba Airport",
          "Aalborg Airport",
          "Port Bouet Airport",
          "Adnan Menderes International Airport",
          "Cherif Al Idrissi Airport",
          "Houari Boumediene Airport",
          "Queen Alia International Airport",
          "Amsterdam Airport Schiphol",
          "Stockholm-Arlanda Airport",
          "Eleftherios Venizelos International Airport",
          "Antalya International Airport",
          "Barcelona International Airport",
          "Brindisi / Casale Airport",
          "Belgrade Nikola Tesla Airport",
          "Berlin Brandenburg Airport",
          "Beirut Rafic Hariri International Airport",
          "Soummam Airport",
          "Senou Airport",
          "Billund Airport",
          "Bologna / Borgo Panigale Airport",
          "Bordeaux-Merignac (BA 106) Airport",
          "Bari / Palese International Airport",
          "Brno-Turany Airport",
          "Brussels Airport",
          "M. R. Stefanik Airport",
          "Budapest Liszt Ferenc International Airport",
          "Beja International Airport",
          "Cagliari / Elmas Airport",
          "Cairo International Airport",
          "Charles de Gaulle International Airport",
          "Cologne Bonn Airport",
          "Conakry Airport",
          "Mohammed V International Airport",
          "Cadjehoun Airport",
          "Copenhagen Kastrup Airport",
          "Brussels South Charleroi Airport",
          "Catania / Fontanarossa Airport",
          "Mohamed Boudiaf International Airport",
          "Djerba Zarzis International Airport",
          "Leopold Sedar Senghor International Airport",
          "Hamad International Airport",
          "Blaise Diagne International Airport",
          "Dusseldorf International Airport",
          "Erbil International Airport",
          "El Borma Airport",
          "Esenboga International Airport",
          "Lubumbashi International Airport",
          "Leonardo Da Vinci (Fiumicino) International Airport",
          "Ndjili International Airport",
          "Frankfurt am Main International Airport",
          "Gabes Matmata International Airport",
          "Gafsa Ksar International Airport",
          "Noumerat - Moufdi Zakaria Airport",
          "Grenoble-Isere Airport",
          "Geneva Cointrin International Airport",
          "Hannover Airport",
          "Hamburg Airport",
          "Borg El Arab International Airport",
          "Kiev Zhuliany International Airport",
          "Istanbul Airport",
          "King Abdulaziz International Airport",
          "Djibouti-Ambouli Airport",
          "Boryspil International Airport",
          "Keflavik International Airport",
          "Kigali International Airport",
          "Krasnodar International Airport",
          "Khartoum International Airport",
          "Kosice Airport",
          "Katowice International Airport",
          "Quatro De Fevereiro Airport",
          "Leon M Ba Airport",
          "Pulkovo Airport",
          "Lome-Tokoin Airport",
          "London Gatwick Airport",
          "London Heathrow Airport",
          "Lille-Lesquin Airport",
          "Lisbon Portela Airport",
          "Ljubljana Joze Pucnik Airport",
          "Luxembourg-Findel International Airport",
          "Lyon Saint-Exupery Airport",
          "Madrid Barajas International Airport",
          "Prince Mohammad Bin Abdulaziz Airport",
          "Monastir Habib Bourguiba International Airport",
          "Luqa Airport",
          "Marseille Provence Airport",
          "Munich International Airport",
          "M'Vengue El Hadj Omar Bongo Ondimba International Airport",
          "Malpensa International Airport",
          "Napoli / Capodichino International Airport",
          "Enfidha Zine El Abidine Ben Ali International Airport",
          "Nice-Cote d'Azur Airport",
          "Nador International Airport",
          "Diori Hamani International Airport",
          "Nouakchott International Airport",
          "Nantes Atlantique Airport",
          "Francisco de Sa Carneiro Airport",
          "Es Senia Airport",
          "Paris-Orly Airport",
          "Ostrava Leos Janacek Airport",
          "Ostend-Bruges International Airport",
          "Henri Coanda International Airport",
          "Ouagadougou Airport",
          "Angads Airport",
          "Palermo / Punta Raisi Airport",
          "Ruzyne International Airport",
          "Pisa / San Giusto - Galileo Galilei International Airport",
          "Menara Airport",
          "Rotterdam Airport",
          "Sfax Thyna International Airport",
          "Sarajevo International Airport",
          "Thessaloniki Macedonia International Airport",
          "Saransk Airport",
          "Stuttgart Airport",
          "Sheremetyevo International Airport",
          "Strasbourg Airport",
          "Tabarka 7 Novembre Airport",
          "Tallinn Airport",
          "Toulouse-Blagnac Airport",
          "Aguenar – Hadj Bey Akhamok Airport",
          "Ibn Batouta Airport",
          "Tozeur Nefta International Airport",
          "Trapani / Birgi Airport",
          "Torino / Caselle International Airport",
          "Tunis Carthage International Airport",
          "Venezia / Tessera -  Marco Polo Airport",
          "Vienna International Airport",
          "Vnukovo International Airport",
          "Vilnius International Airport",
          "Volgograd International Airport",
          "Verona / Villafranca Airport",
          "Montreal / Pierre Elliott Trudeau International Airport",
          "Zurich Airport"
         ],
         "lat": [
          36.8222007751,
          57.0927589138,
          5.2613902092,
          38.2924003601,
          35.1771011353,
          36.6910018921,
          31.7226009369,
          52.3086013794,
          59.6519012451,
          37.9364013672,
          36.8987007141,
          41.2971000671,
          40.6576004028,
          44.8184013367,
          52.362167,
          33.8208999634,
          36.7120018005,
          12.5334997177,
          55.7402992249,
          44.5354003906,
          44.8283004761,
          41.1389007568,
          49.1512985229,
          50.9014015198,
          48.1702003479,
          47.4369010925,
          38.0788993835,
          39.251499176,
          30.1219005585,
          49.0127983093,
          50.8658981323,
          9.57689,
          33.3675003052,
          6.3572301865,
          55.6179008484,
          50.4592018127,
          37.4668006897,
          36.2760009766,
          33.875,
          14.7397003174,
          25.2605946,
          14.671111,
          51.2895011902,
          36.2375984192,
          31.7042999268,
          40.1281013489,
          -11.5913000107,
          41.8045005798,
          -4.3857498169,
          50.0264015198,
          33.8768997192,
          34.422000885,
          32.3841018677,
          45.3628997803,
          46.2380981445,
          52.461101532,
          53.6304016113,
          30.9176998138,
          50.4016990662,
          41.275333,
          21.679599762,
          11.5473003387,
          50.3450012207,
          63.9850006104,
          -1.9686299563,
          45.0346984863,
          15.5895004272,
          48.6631011963,
          50.4743003845,
          -8.8583698273,
          0.4586000144,
          59.8003005981,
          6.1656098366,
          51.1481018066,
          51.4706001282,
          50.5619010925,
          38.7812995911,
          46.2237014771,
          49.6265983582,
          45.726398468,
          40.4936,
          24.5534000397,
          35.7580986023,
          35.857498,
          43.439271922,
          48.3538017273,
          -1.656159997,
          45.6305999756,
          40.8860015869,
          36.075833,
          43.6584014893,
          34.9888000488,
          13.4814996719,
          18.0981998444,
          47.1531982422,
          41.2481002808,
          35.6239013672,
          48.7252998352,
          49.6963005066,
          51.1988983154,
          44.5722007751,
          12.3531999588,
          34.7872009277,
          38.1759986877,
          50.1007995605,
          43.6838989258,
          31.6068992615,
          51.9569015503,
          34.7179985046,
          43.8246002197,
          40.5196990967,
          54.1251296997,
          48.6898994446,
          55.9725990295,
          48.5382995605,
          36.9799995422,
          59.4132995605,
          43.6291007996,
          22.8115005493,
          35.7268981934,
          33.9397010803,
          37.9113998413,
          45.2008018494,
          36.8510017395,
          45.5052986145,
          48.1102981567,
          55.5914993286,
          54.6341018677,
          48.7825012207,
          45.3956985474,
          45.4706001282,
          47.4646987915
         ],
         "legendgroup": "",
         "lon": [
          7.8091697693,
          9.8492431641,
          -3.9262900352,
          27.156999588,
          -3.8395199776,
          3.2154099941,
          35.9931983948,
          4.7638897896,
          17.9186000824,
          23.9444999695,
          30.8005008698,
          2.0784599781,
          17.9470005035,
          20.3090991974,
          13.500667,
          35.4883995056,
          5.069920063,
          -7.9499402046,
          9.1517801285,
          11.2887001038,
          -0.7155560255,
          16.7605991364,
          16.6944007874,
          4.4844398499,
          17.2126998901,
          19.2555999756,
          -7.9324002266,
          9.0542802811,
          31.4055995941,
          2.5499999523,
          7.1427397728,
          -13.612,
          -7.5899701118,
          2.3843500614,
          12.6560001373,
          4.4538202286,
          15.0663995743,
          6.6203899384,
          10.7755002975,
          -17.4902000427,
          51.6137665,
          -17.066944,
          6.7667798996,
          43.9631996155,
          9.2546195984,
          32.995098114,
          27.5308990479,
          12.2508001328,
          15.4446001053,
          8.543129921,
          10.1033000946,
          8.8225002289,
          3.7941100597,
          5.3293700218,
          6.1089501381,
          9.6850795746,
          9.9882297516,
          29.6963996887,
          30.4496994019,
          28.752,
          39.15650177,
          43.1595001221,
          30.8946990967,
          -22.6056003571,
          30.1394996643,
          39.170501709,
          32.5531997681,
          21.2411003113,
          19.0799999237,
          13.2312002182,
          9.4122800827,
          30.2625007629,
          1.2545100451,
          -0.1902779937,
          -0.4619410038,
          3.0894401073,
          -9.1359195709,
          14.4575996399,
          6.211520195,
          5.0908298492,
          -3.56676,
          39.7051010132,
          10.754699707,
          14.4775,
          5.2214241028,
          11.7861003876,
          13.4379997253,
          8.7281103134,
          14.2908000946,
          10.438611,
          7.2158699036,
          -3.0282099247,
          2.1836099625,
          -15.9484996796,
          -1.610730052,
          -8.6813898087,
          -0.6211829782,
          2.3594400883,
          18.1110992432,
          2.8622200489,
          26.1021995544,
          -1.5124200583,
          -1.9239900112,
          13.0909996033,
          14.2600002289,
          10.3927001953,
          -8.0362997055,
          4.4372200966,
          10.6909999847,
          18.3314990997,
          22.9708995819,
          45.2122573853,
          9.2219600677,
          37.4146003723,
          7.6282300949,
          8.8769397736,
          24.8327999115,
          1.3638199568,
          5.4510798454,
          -5.9168901444,
          8.1105604172,
          12.4879999161,
          7.6496300697,
          10.2271995544,
          12.3519001007,
          16.5697002411,
          37.2615013123,
          25.2858009338,
          44.345500946,
          10.8885002136,
          -73.7407989502,
          8.5491695404
         ],
         "marker": {
          "color": [
           157,
           0,
           26,
           0,
           9,
           30,
           0,
           37,
           0,
           13,
           129.5,
           25,
           202,
           15,
           15,
           10,
           0,
           44,
           44.5,
           15,
           21.5,
           0,
           0,
           16,
           0,
           0,
           0,
           0,
           30,
           14,
           27.5,
           45,
           8,
           9.5,
           0,
           4,
           0,
           54,
           0,
           46.5,
           0,
           50,
           20,
           48,
           0,
           0,
           0,
           9.5,
           0,
           20,
           0,
           0,
           51,
           49,
           15,
           59,
           22,
           0,
           0,
           25,
           50,
           14,
           341,
           0,
           3,
           0,
           35,
           0,
           100,
           110.5,
           0,
           5,
           0,
           29,
           36,
           28,
           17,
           0,
           0,
           29,
           33,
           15,
           0,
           0,
           20,
           17,
           0,
           17,
           0,
           0,
           15,
           0,
           25,
           55,
           20,
           5,
           35,
           23,
           0,
           51.5,
           112,
           29,
           7,
           0,
           5,
           22.5,
           59,
           329,
           0,
           0,
           45,
           55,
           0,
           26,
           30,
           0,
           0,
           30,
           100,
           0,
           0,
           0,
           0,
           14,
           15,
           20,
           8,
           0,
           328,
           0,
           20,
           10
          ],
          "coloraxis": "coloraxis",
          "size": [
           157,
           0,
           26,
           0,
           9,
           30,
           0,
           37,
           0,
           13,
           129.5,
           25,
           202,
           15,
           15,
           10,
           0,
           44,
           44.5,
           15,
           21.5,
           0,
           0,
           16,
           0,
           0,
           0,
           0,
           30,
           14,
           27.5,
           45,
           8,
           9.5,
           0,
           4,
           0,
           54,
           0,
           46.5,
           0,
           50,
           20,
           48,
           0,
           0,
           0,
           9.5,
           0,
           20,
           0,
           0,
           51,
           49,
           15,
           59,
           22,
           0,
           0,
           25,
           50,
           14,
           341,
           0,
           3,
           0,
           35,
           0,
           100,
           110.5,
           0,
           5,
           0,
           29,
           36,
           28,
           17,
           0,
           0,
           29,
           33,
           15,
           0,
           0,
           20,
           17,
           0,
           17,
           0,
           0,
           15,
           0,
           25,
           55,
           20,
           5,
           35,
           23,
           0,
           51.5,
           112,
           29,
           7,
           0,
           5,
           22.5,
           59,
           329,
           0,
           0,
           45,
           55,
           0,
           26,
           30,
           0,
           0,
           30,
           100,
           0,
           0,
           0,
           0,
           14,
           15,
           20,
           8,
           0,
           328,
           0,
           20,
           10
          ],
          "sizemode": "area",
          "sizeref": 0.8525
         },
         "mode": "markers",
         "name": "",
         "showlegend": false,
         "subplot": "mapbox",
         "type": "scattermapbox"
        }
       ],
       "layout": {
        "coloraxis": {
         "colorbar": {
          "title": {
           "text": "Delay (min)"
          }
         },
         "colorscale": [
          [
           0,
           "#000004"
          ],
          [
           0.1111111111111111,
           "#1b0c41"
          ],
          [
           0.2222222222222222,
           "#4a0c6b"
          ],
          [
           0.3333333333333333,
           "#781c6d"
          ],
          [
           0.4444444444444444,
           "#a52c60"
          ],
          [
           0.5555555555555556,
           "#cf4446"
          ],
          [
           0.6666666666666666,
           "#ed6925"
          ],
          [
           0.7777777777777778,
           "#fb9b06"
          ],
          [
           0.8888888888888888,
           "#f7d13d"
          ],
          [
           1,
           "#fcffa4"
          ]
         ]
        },
        "height": 500,
        "legend": {
         "itemsizing": "constant",
         "tracegroupgap": 0
        },
        "mapbox": {
         "center": {
          "lat": 30,
          "lon": -10
         },
         "domain": {
          "x": [
           0,
           1
          ],
          "y": [
           0,
           1
          ]
         },
         "style": "open-street-map",
         "zoom": 1.7
        },
        "margin": {
         "b": 0,
         "l": 0,
         "r": 0,
         "t": 30
        },
        "template": {
         "data": {
          "bar": [
           {
            "error_x": {
             "color": "#2a3f5f"
            },
            "error_y": {
             "color": "#2a3f5f"
            },
            "marker": {
             "line": {
              "color": "#E5ECF6",
              "width": 0.5
             },
             "pattern": {
              "fillmode": "overlay",
              "size": 10,
              "solidity": 0.2
             }
            },
            "type": "bar"
           }
          ],
          "barpolar": [
           {
            "marker": {
             "line": {
              "color": "#E5ECF6",
              "width": 0.5
             },
             "pattern": {
              "fillmode": "overlay",
              "size": 10,
              "solidity": 0.2
             }
            },
            "type": "barpolar"
           }
          ],
          "carpet": [
           {
            "aaxis": {
             "endlinecolor": "#2a3f5f",
             "gridcolor": "white",
             "linecolor": "white",
             "minorgridcolor": "white",
             "startlinecolor": "#2a3f5f"
            },
            "baxis": {
             "endlinecolor": "#2a3f5f",
             "gridcolor": "white",
             "linecolor": "white",
             "minorgridcolor": "white",
             "startlinecolor": "#2a3f5f"
            },
            "type": "carpet"
           }
          ],
          "choropleth": [
           {
            "colorbar": {
             "outlinewidth": 0,
             "ticks": ""
            },
            "type": "choropleth"
           }
          ],
          "contour": [
           {
            "colorbar": {
             "outlinewidth": 0,
             "ticks": ""
            },
            "colorscale": [
             [
              0,
              "#0d0887"
             ],
             [
              0.1111111111111111,
              "#46039f"
             ],
             [
              0.2222222222222222,
              "#7201a8"
             ],
             [
              0.3333333333333333,
              "#9c179e"
             ],
             [
              0.4444444444444444,
              "#bd3786"
             ],
             [
              0.5555555555555556,
              "#d8576b"
             ],
             [
              0.6666666666666666,
              "#ed7953"
             ],
             [
              0.7777777777777778,
              "#fb9f3a"
             ],
             [
              0.8888888888888888,
              "#fdca26"
             ],
             [
              1,
              "#f0f921"
             ]
            ],
            "type": "contour"
           }
          ],
          "contourcarpet": [
           {
            "colorbar": {
             "outlinewidth": 0,
             "ticks": ""
            },
            "type": "contourcarpet"
           }
          ],
          "heatmap": [
           {
            "colorbar": {
             "outlinewidth": 0,
             "ticks": ""
            },
            "colorscale": [
             [
              0,
              "#0d0887"
             ],
             [
              0.1111111111111111,
              "#46039f"
             ],
             [
              0.2222222222222222,
              "#7201a8"
             ],
             [
              0.3333333333333333,
              "#9c179e"
             ],
             [
              0.4444444444444444,
              "#bd3786"
             ],
             [
              0.5555555555555556,
              "#d8576b"
             ],
             [
              0.6666666666666666,
              "#ed7953"
             ],
             [
              0.7777777777777778,
              "#fb9f3a"
             ],
             [
              0.8888888888888888,
              "#fdca26"
             ],
             [
              1,
              "#f0f921"
             ]
            ],
            "type": "heatmap"
           }
          ],
          "heatmapgl": [
           {
            "colorbar": {
             "outlinewidth": 0,
             "ticks": ""
            },
            "colorscale": [
             [
              0,
              "#0d0887"
             ],
             [
              0.1111111111111111,
              "#46039f"
             ],
             [
              0.2222222222222222,
              "#7201a8"
             ],
             [
              0.3333333333333333,
              "#9c179e"
             ],
             [
              0.4444444444444444,
              "#bd3786"
             ],
             [
              0.5555555555555556,
              "#d8576b"
             ],
             [
              0.6666666666666666,
              "#ed7953"
             ],
             [
              0.7777777777777778,
              "#fb9f3a"
             ],
             [
              0.8888888888888888,
              "#fdca26"
             ],
             [
              1,
              "#f0f921"
             ]
            ],
            "type": "heatmapgl"
           }
          ],
          "histogram": [
           {
            "marker": {
             "pattern": {
              "fillmode": "overlay",
              "size": 10,
              "solidity": 0.2
             }
            },
            "type": "histogram"
           }
          ],
          "histogram2d": [
           {
            "colorbar": {
             "outlinewidth": 0,
             "ticks": ""
            },
            "colorscale": [
             [
              0,
              "#0d0887"
             ],
             [
              0.1111111111111111,
              "#46039f"
             ],
             [
              0.2222222222222222,
              "#7201a8"
             ],
             [
              0.3333333333333333,
              "#9c179e"
             ],
             [
              0.4444444444444444,
              "#bd3786"
             ],
             [
              0.5555555555555556,
              "#d8576b"
             ],
             [
              0.6666666666666666,
              "#ed7953"
             ],
             [
              0.7777777777777778,
              "#fb9f3a"
             ],
             [
              0.8888888888888888,
              "#fdca26"
             ],
             [
              1,
              "#f0f921"
             ]
            ],
            "type": "histogram2d"
           }
          ],
          "histogram2dcontour": [
           {
            "colorbar": {
             "outlinewidth": 0,
             "ticks": ""
            },
            "colorscale": [
             [
              0,
              "#0d0887"
             ],
             [
              0.1111111111111111,
              "#46039f"
             ],
             [
              0.2222222222222222,
              "#7201a8"
             ],
             [
              0.3333333333333333,
              "#9c179e"
             ],
             [
              0.4444444444444444,
              "#bd3786"
             ],
             [
              0.5555555555555556,
              "#d8576b"
             ],
             [
              0.6666666666666666,
              "#ed7953"
             ],
             [
              0.7777777777777778,
              "#fb9f3a"
             ],
             [
              0.8888888888888888,
              "#fdca26"
             ],
             [
              1,
              "#f0f921"
             ]
            ],
            "type": "histogram2dcontour"
           }
          ],
          "mesh3d": [
           {
            "colorbar": {
             "outlinewidth": 0,
             "ticks": ""
            },
            "type": "mesh3d"
           }
          ],
          "parcoords": [
           {
            "line": {
             "colorbar": {
              "outlinewidth": 0,
              "ticks": ""
             }
            },
            "type": "parcoords"
           }
          ],
          "pie": [
           {
            "automargin": true,
            "type": "pie"
           }
          ],
          "scatter": [
           {
            "fillpattern": {
             "fillmode": "overlay",
             "size": 10,
             "solidity": 0.2
            },
            "type": "scatter"
           }
          ],
          "scatter3d": [
           {
            "line": {
             "colorbar": {
              "outlinewidth": 0,
              "ticks": ""
             }
            },
            "marker": {
             "colorbar": {
              "outlinewidth": 0,
              "ticks": ""
             }
            },
            "type": "scatter3d"
           }
          ],
          "scattercarpet": [
           {
            "marker": {
             "colorbar": {
              "outlinewidth": 0,
              "ticks": ""
             }
            },
            "type": "scattercarpet"
           }
          ],
          "scattergeo": [
           {
            "marker": {
             "colorbar": {
              "outlinewidth": 0,
              "ticks": ""
             }
            },
            "type": "scattergeo"
           }
          ],
          "scattergl": [
           {
            "marker": {
             "colorbar": {
              "outlinewidth": 0,
              "ticks": ""
             }
            },
            "type": "scattergl"
           }
          ],
          "scattermapbox": [
           {
            "marker": {
             "colorbar": {
              "outlinewidth": 0,
              "ticks": ""
             }
            },
            "type": "scattermapbox"
           }
          ],
          "scatterpolar": [
           {
            "marker": {
             "colorbar": {
              "outlinewidth": 0,
              "ticks": ""
             }
            },
            "type": "scatterpolar"
           }
          ],
          "scatterpolargl": [
           {
            "marker": {
             "colorbar": {
              "outlinewidth": 0,
              "ticks": ""
             }
            },
            "type": "scatterpolargl"
           }
          ],
          "scatterternary": [
           {
            "marker": {
             "colorbar": {
              "outlinewidth": 0,
              "ticks": ""
             }
            },
            "type": "scatterternary"
           }
          ],
          "surface": [
           {
            "colorbar": {
             "outlinewidth": 0,
             "ticks": ""
            },
            "colorscale": [
             [
              0,
              "#0d0887"
             ],
             [
              0.1111111111111111,
              "#46039f"
             ],
             [
              0.2222222222222222,
              "#7201a8"
             ],
             [
              0.3333333333333333,
              "#9c179e"
             ],
             [
              0.4444444444444444,
              "#bd3786"
             ],
             [
              0.5555555555555556,
              "#d8576b"
             ],
             [
              0.6666666666666666,
              "#ed7953"
             ],
             [
              0.7777777777777778,
              "#fb9f3a"
             ],
             [
              0.8888888888888888,
              "#fdca26"
             ],
             [
              1,
              "#f0f921"
             ]
            ],
            "type": "surface"
           }
          ],
          "table": [
           {
            "cells": {
             "fill": {
              "color": "#EBF0F8"
             },
             "line": {
              "color": "white"
             }
            },
            "header": {
             "fill": {
              "color": "#C8D4E3"
             },
             "line": {
              "color": "white"
             }
            },
            "type": "table"
           }
          ]
         },
         "layout": {
          "annotationdefaults": {
           "arrowcolor": "#2a3f5f",
           "arrowhead": 0,
           "arrowwidth": 1
          },
          "autotypenumbers": "strict",
          "coloraxis": {
           "colorbar": {
            "outlinewidth": 0,
            "ticks": ""
           }
          },
          "colorscale": {
           "diverging": [
            [
             0,
             "#8e0152"
            ],
            [
             0.1,
             "#c51b7d"
            ],
            [
             0.2,
             "#de77ae"
            ],
            [
             0.3,
             "#f1b6da"
            ],
            [
             0.4,
             "#fde0ef"
            ],
            [
             0.5,
             "#f7f7f7"
            ],
            [
             0.6,
             "#e6f5d0"
            ],
            [
             0.7,
             "#b8e186"
            ],
            [
             0.8,
             "#7fbc41"
            ],
            [
             0.9,
             "#4d9221"
            ],
            [
             1,
             "#276419"
            ]
           ],
           "sequential": [
            [
             0,
             "#0d0887"
            ],
            [
             0.1111111111111111,
             "#46039f"
            ],
            [
             0.2222222222222222,
             "#7201a8"
            ],
            [
             0.3333333333333333,
             "#9c179e"
            ],
            [
             0.4444444444444444,
             "#bd3786"
            ],
            [
             0.5555555555555556,
             "#d8576b"
            ],
            [
             0.6666666666666666,
             "#ed7953"
            ],
            [
             0.7777777777777778,
             "#fb9f3a"
            ],
            [
             0.8888888888888888,
             "#fdca26"
            ],
            [
             1,
             "#f0f921"
            ]
           ],
           "sequentialminus": [
            [
             0,
             "#0d0887"
            ],
            [
             0.1111111111111111,
             "#46039f"
            ],
            [
             0.2222222222222222,
             "#7201a8"
            ],
            [
             0.3333333333333333,
             "#9c179e"
            ],
            [
             0.4444444444444444,
             "#bd3786"
            ],
            [
             0.5555555555555556,
             "#d8576b"
            ],
            [
             0.6666666666666666,
             "#ed7953"
            ],
            [
             0.7777777777777778,
             "#fb9f3a"
            ],
            [
             0.8888888888888888,
             "#fdca26"
            ],
            [
             1,
             "#f0f921"
            ]
           ]
          },
          "colorway": [
           "#636efa",
           "#EF553B",
           "#00cc96",
           "#ab63fa",
           "#FFA15A",
           "#19d3f3",
           "#FF6692",
           "#B6E880",
           "#FF97FF",
           "#FECB52"
          ],
          "font": {
           "color": "#2a3f5f"
          },
          "geo": {
           "bgcolor": "white",
           "lakecolor": "white",
           "landcolor": "#E5ECF6",
           "showlakes": true,
           "showland": true,
           "subunitcolor": "white"
          },
          "hoverlabel": {
           "align": "left"
          },
          "hovermode": "closest",
          "mapbox": {
           "style": "light"
          },
          "paper_bgcolor": "white",
          "plot_bgcolor": "#E5ECF6",
          "polar": {
           "angularaxis": {
            "gridcolor": "white",
            "linecolor": "white",
            "ticks": ""
           },
           "bgcolor": "#E5ECF6",
           "radialaxis": {
            "gridcolor": "white",
            "linecolor": "white",
            "ticks": ""
           }
          },
          "scene": {
           "xaxis": {
            "backgroundcolor": "#E5ECF6",
            "gridcolor": "white",
            "gridwidth": 2,
            "linecolor": "white",
            "showbackground": true,
            "ticks": "",
            "zerolinecolor": "white"
           },
           "yaxis": {
            "backgroundcolor": "#E5ECF6",
            "gridcolor": "white",
            "gridwidth": 2,
            "linecolor": "white",
            "showbackground": true,
            "ticks": "",
            "zerolinecolor": "white"
           },
           "zaxis": {
            "backgroundcolor": "#E5ECF6",
            "gridcolor": "white",
            "gridwidth": 2,
            "linecolor": "white",
            "showbackground": true,
            "ticks": "",
            "zerolinecolor": "white"
           }
          },
          "shapedefaults": {
           "line": {
            "color": "#2a3f5f"
           }
          },
          "ternary": {
           "aaxis": {
            "gridcolor": "white",
            "linecolor": "white",
            "ticks": ""
           },
           "baxis": {
            "gridcolor": "white",
            "linecolor": "white",
            "ticks": ""
           },
           "bgcolor": "#E5ECF6",
           "caxis": {
            "gridcolor": "white",
            "linecolor": "white",
            "ticks": ""
           }
          },
          "title": {
           "x": 0.05
          },
          "xaxis": {
           "automargin": true,
           "gridcolor": "white",
           "linecolor": "white",
           "ticks": "",
           "title": {
            "standoff": 15
           },
           "zerolinecolor": "white",
           "zerolinewidth": 2
          },
          "yaxis": {
           "automargin": true,
           "gridcolor": "white",
           "linecolor": "white",
           "ticks": "",
           "title": {
            "standoff": 15
           },
           "zerolinecolor": "white",
           "zerolinewidth": 2
          }
         }
        },
        "title": {
         "font": {
          "size": 23
         },
         "text": "Median delay per airport"
        },
        "uniformtext": {
         "minsize": 8,
         "mode": "hide"
        },
        "width": 800
       }
      }
     },
     "metadata": {},
     "output_type": "display_data"
    }
   ],
   "source": [
    "train_plot = train_airport_df.groupby([\"DEPSTN\",\"lat_DEP\",\"lon_DEP\",\"name_DEP\",\"country_DEP\"]).median().reset_index()\n",
    "\n",
    "# Plot a map with the median delay of all Departure airports\n",
    "\n",
    "fig = px.scatter_mapbox(train_plot, lat=\"lat_DEP\", lon=\"lon_DEP\", color=\"target\", size=\"target\", \n",
    "                        hover_data={'lat_DEP':False, 'lon_DEP':False, 'target':True, 'DEPSTN':True,\"country_DEP\":True},\n",
    "                        hover_name=\"name_DEP\",\n",
    "                        zoom=1.7,\n",
    "                        height=500,\n",
    "                        width=800,\n",
    "                        center={'lat':30, 'lon':-10},\n",
    "                        title='Median delay per airport',\n",
    "                        labels={'target': 'Delay (min)'},color_continuous_scale=\"inferno\",\n",
    "                        )\n",
    "fig.update_layout(mapbox_style=\"open-street-map\",\n",
    "                    margin={'r':0, 't':30, 'l':0, 'b':0},\n",
    "                    title_font_size= 23,uniformtext_minsize=8, uniformtext_mode='hide'\n",
    "                    )\n",
    "fig.show()"
   ]
  },
  {
   "cell_type": "markdown",
   "metadata": {},
   "source": [
    "The airports with the largest departure delays are Volgograd International Airport in Russia, Rotterdam Airport in the Netherlands and Boryspil International Airport in Ukraine."
   ]
  },
  {
   "cell_type": "code",
   "execution_count": 19,
   "metadata": {},
   "outputs": [
    {
     "data": {
      "image/png": "[encoded data removed]",
      "text/plain": [
       "<Figure size 1080x360 with 1 Axes>"
      ]
     },
     "metadata": {
      "needs_background": "light"
     },
     "output_type": "display_data"
    }
   ],
   "source": [
    "# count plot on two categorical variable\n",
    "fig, ax = plt.subplots(figsize=(15,5))\n",
    "ax = sns.histplot(x=\"delay_or_onTime\", hue=\"domestic\", data=train_airport_df, stat=\"count\", multiple=\"stack\"\n",
    "             ,shrink = 0.7, ax=ax,edgecolor=\"black\", \n",
    "             linewidth=1)\n",
    "ax.set_ylabel('Count of Flights')\n",
    "ax.set_xlabel('Flight delays')\n",
    "ax.set_xticklabels([\"Flight on time\",\"Flight delayed\"])\n",
    "ax.legend([\"Domestic flights\",\"International Flight\"]);\n",
    "\n",
    "\n",
    "plt.title(\"Deomstic and International flights delays\",fontweight=\"bold\",fontsize=15)\n",
    "plt.tight_layout()"
   ]
  },
  {
   "cell_type": "markdown",
   "metadata": {},
   "source": [
    "\n",
    "* From flights on-time, 16456 (32.90%) are domestic flights and 33554 (67.09%) are international flights. \n",
    "* And the delayed flights, 2445 (4.22%) domestic flights and incredible 55378 (95.77%) international flights are delayed."
   ]
  },
  {
   "cell_type": "code",
   "execution_count": 20,
   "metadata": {},
   "outputs": [],
   "source": [
    "# for the calculation above\n",
    "df_calc_text = train_airport_df.groupby([\"delay_or_onTime\",\"domestic\"]).count().reset_index()"
   ]
  },
  {
   "cell_type": "markdown",
   "metadata": {},
   "source": [
    "#### __2. The season, day of the week and time of day plays a role in the delay__"
   ]
  },
  {
   "cell_type": "code",
   "execution_count": 21,
   "metadata": {},
   "outputs": [
    {
     "data": {
      "image/png": "[encoded data removed]",
      "text/plain": [
       "<Figure size 1080x360 with 1 Axes>"
      ]
     },
     "metadata": {
      "needs_background": "light"
     },
     "output_type": "display_data"
    }
   ],
   "source": [
    "months_mean = train_airport_df.groupby('flight_month').mean().reset_index().round(2)\n",
    "fig, ax = plt.subplots(figsize=(15,5))\n",
    "ax = sns.lineplot(x=\"flight_month\",y ='delayed', data=months_mean, marker=\"o\",markersize=10)\n",
    "ax.set_xlabel(\"Month\",fontsize=15)\n",
    "ax.set_ylabel(\"Count\",fontsize=15)\n",
    "ax.set_title(\"Average Delays for each month\")\n",
    "\n",
    "plt.tight_layout()"
   ]
  },
  {
   "cell_type": "code",
   "execution_count": 22,
   "metadata": {},
   "outputs": [
    {
     "data": {
      "image/png": "[encoded data removed]",
      "text/plain": [
       "<Figure size 1080x360 with 1 Axes>"
      ]
     },
     "metadata": {
      "needs_background": "light"
     },
     "output_type": "display_data"
    }
   ],
   "source": [
    "df_delay = pd.DataFrame(train_airport_df.query(\"delay_or_onTime == 'delay'\").value_counts().reset_index())\n",
    "# Sorting thr days\n",
    "cats = [ 'Monday', 'Tuesday', 'Wednesday', 'Thursday', 'Friday', 'Saturday', 'Sunday']\n",
    "\n",
    "from pandas.api.types import CategoricalDtype\n",
    "cat_type = CategoricalDtype(categories=cats, ordered=True)\n",
    "df_delay[\"dep_weekday\"] = df_delay[\"dep_weekday\"].astype(cat_type)\n",
    "\n",
    "# Function that define how delays are grouped\n",
    "delay_type = lambda x:((0,1)[x > 10],2)[x > 60]\n",
    "df_delay['DELAY_LEVEL'] = df_delay['target'].apply(delay_type)\n",
    "#____________________________________________________\n",
    "fig = plt.figure(1, figsize=(15,5))\n",
    "ax = sns.countplot(y=\"dep_weekday\", hue='DELAY_LEVEL', data=df_delay,edgecolor=\"black\", \n",
    "             linewidth=1,hatch=\"/\")\n",
    "\n",
    "plt.setp(ax.get_xticklabels(), fontsize=10, weight = 'normal', rotation = 0);\n",
    "plt.setp(ax.get_yticklabels(), fontsize=12, weight = 'bold', rotation = 0);\n",
    "ax.yaxis.label.set_visible(False)\n",
    "plt.xlabel('Flight count', fontsize=16, weight = 'bold', labelpad=10)\n",
    "#________________\n",
    "# Set the legend\n",
    "L = plt.legend(title=\"Delay type\",fontsize = 'large', title_fontsize = \"10\",loc = 2, bbox_to_anchor = (1,1))\n",
    "L.get_texts()[0].set_text('small delay (10min < t < 60 min)')\n",
    "L.get_texts()[1].set_text('large delay (t > 60 min)')\n",
    "plt.show()"
   ]
  },
  {
   "cell_type": "markdown",
   "metadata": {},
   "source": [
    "Just at the weekend the flights are just delayed and to the beginning of the week"
   ]
  },
  {
   "cell_type": "markdown",
   "metadata": {},
   "source": [
    "### __3. Are the delays due to the Individual aircraft__"
   ]
  },
  {
   "cell_type": "code",
   "execution_count": 23,
   "metadata": {},
   "outputs": [
    {
     "data": {
      "text/html": [
       "<div>\n",
       "<style scoped>\n",
       "    .dataframe tbody tr th:only-of-type {\n",
       "        vertical-align: middle;\n",
       "    }\n",
       "\n",
       "    .dataframe tbody tr th {\n",
       "        vertical-align: top;\n",
       "    }\n",
       "\n",
       "    .dataframe thead th {\n",
       "        text-align: right;\n",
       "    }\n",
       "</style>\n",
       "<table border=\"1\" class=\"dataframe\">\n",
       "  <thead>\n",
       "    <tr style=\"text-align: right;\">\n",
       "      <th></th>\n",
       "      <th>ID</th>\n",
       "      <th>DATOP</th>\n",
       "      <th>FLTID</th>\n",
       "      <th>DEPSTN</th>\n",
       "      <th>ARRSTN</th>\n",
       "      <th>STD</th>\n",
       "      <th>STA</th>\n",
       "      <th>STATUS</th>\n",
       "      <th>AC</th>\n",
       "      <th>target</th>\n",
       "      <th>...</th>\n",
       "      <th>delayed</th>\n",
       "      <th>domestic</th>\n",
       "      <th>dep_hour</th>\n",
       "      <th>dep_weekday</th>\n",
       "      <th>duration_min</th>\n",
       "      <th>arr_hour</th>\n",
       "      <th>flight_month</th>\n",
       "      <th>flight_month_name</th>\n",
       "      <th>year</th>\n",
       "      <th>distance</th>\n",
       "    </tr>\n",
       "  </thead>\n",
       "  <tbody>\n",
       "    <tr>\n",
       "      <th>0</th>\n",
       "      <td>train_id_15674</td>\n",
       "      <td>2016-01-01</td>\n",
       "      <td>TU 0564</td>\n",
       "      <td>NKC</td>\n",
       "      <td>TUN</td>\n",
       "      <td>2016-01-01 00:15:00</td>\n",
       "      <td>2016-01-01 04:30:00</td>\n",
       "      <td>ATA</td>\n",
       "      <td>TU 320IMV</td>\n",
       "      <td>0.0</td>\n",
       "      <td>...</td>\n",
       "      <td>0</td>\n",
       "      <td>0</td>\n",
       "      <td>0</td>\n",
       "      <td>Friday</td>\n",
       "      <td>255.0</td>\n",
       "      <td>4</td>\n",
       "      <td>1</td>\n",
       "      <td>January</td>\n",
       "      <td>2016</td>\n",
       "      <td>3298.067996</td>\n",
       "    </tr>\n",
       "    <tr>\n",
       "      <th>1</th>\n",
       "      <td>train_id_15676</td>\n",
       "      <td>2016-01-01</td>\n",
       "      <td>TU 0714</td>\n",
       "      <td>JED</td>\n",
       "      <td>TUN</td>\n",
       "      <td>2016-01-01 00:55:00</td>\n",
       "      <td>2016-01-01 05:30:00</td>\n",
       "      <td>ATA</td>\n",
       "      <td>TU 332IFM</td>\n",
       "      <td>195.0</td>\n",
       "      <td>...</td>\n",
       "      <td>1</td>\n",
       "      <td>0</td>\n",
       "      <td>0</td>\n",
       "      <td>Friday</td>\n",
       "      <td>275.0</td>\n",
       "      <td>5</td>\n",
       "      <td>1</td>\n",
       "      <td>January</td>\n",
       "      <td>2016</td>\n",
       "      <td>3256.052105</td>\n",
       "    </tr>\n",
       "    <tr>\n",
       "      <th>2</th>\n",
       "      <td>train_id_15675</td>\n",
       "      <td>2016-01-01</td>\n",
       "      <td>TU 0614</td>\n",
       "      <td>DKR</td>\n",
       "      <td>TUN</td>\n",
       "      <td>2016-01-01 01:20:00</td>\n",
       "      <td>2016-01-01 05:55:00</td>\n",
       "      <td>ATA</td>\n",
       "      <td>TU 320IMU</td>\n",
       "      <td>49.0</td>\n",
       "      <td>...</td>\n",
       "      <td>1</td>\n",
       "      <td>0</td>\n",
       "      <td>1</td>\n",
       "      <td>Friday</td>\n",
       "      <td>275.0</td>\n",
       "      <td>5</td>\n",
       "      <td>1</td>\n",
       "      <td>January</td>\n",
       "      <td>2016</td>\n",
       "      <td>3678.974557</td>\n",
       "    </tr>\n",
       "    <tr>\n",
       "      <th>3</th>\n",
       "      <td>train_id_30980</td>\n",
       "      <td>2016-01-01</td>\n",
       "      <td>UG 0002</td>\n",
       "      <td>TUN</td>\n",
       "      <td>DJE</td>\n",
       "      <td>2016-01-01 06:15:00</td>\n",
       "      <td>2016-01-01 07:15:00</td>\n",
       "      <td>SCH</td>\n",
       "      <td>UG AT7LBD</td>\n",
       "      <td>0.0</td>\n",
       "      <td>...</td>\n",
       "      <td>0</td>\n",
       "      <td>1</td>\n",
       "      <td>6</td>\n",
       "      <td>Friday</td>\n",
       "      <td>60.0</td>\n",
       "      <td>7</td>\n",
       "      <td>1</td>\n",
       "      <td>January</td>\n",
       "      <td>2016</td>\n",
       "      <td>333.916459</td>\n",
       "    </tr>\n",
       "    <tr>\n",
       "      <th>4</th>\n",
       "      <td>train_id_7179</td>\n",
       "      <td>2016-01-01</td>\n",
       "      <td>TU 0880</td>\n",
       "      <td>TUN</td>\n",
       "      <td>AMS</td>\n",
       "      <td>2016-01-01 06:30:00</td>\n",
       "      <td>2016-01-01 09:20:00</td>\n",
       "      <td>ATA</td>\n",
       "      <td>TU 736IOP</td>\n",
       "      <td>36.0</td>\n",
       "      <td>...</td>\n",
       "      <td>1</td>\n",
       "      <td>0</td>\n",
       "      <td>6</td>\n",
       "      <td>Friday</td>\n",
       "      <td>170.0</td>\n",
       "      <td>9</td>\n",
       "      <td>1</td>\n",
       "      <td>January</td>\n",
       "      <td>2016</td>\n",
       "      <td>1770.371959</td>\n",
       "    </tr>\n",
       "    <tr>\n",
       "      <th>...</th>\n",
       "      <td>...</td>\n",
       "      <td>...</td>\n",
       "      <td>...</td>\n",
       "      <td>...</td>\n",
       "      <td>...</td>\n",
       "      <td>...</td>\n",
       "      <td>...</td>\n",
       "      <td>...</td>\n",
       "      <td>...</td>\n",
       "      <td>...</td>\n",
       "      <td>...</td>\n",
       "      <td>...</td>\n",
       "      <td>...</td>\n",
       "      <td>...</td>\n",
       "      <td>...</td>\n",
       "      <td>...</td>\n",
       "      <td>...</td>\n",
       "      <td>...</td>\n",
       "      <td>...</td>\n",
       "      <td>...</td>\n",
       "      <td>...</td>\n",
       "    </tr>\n",
       "    <tr>\n",
       "      <th>107828</th>\n",
       "      <td>train_id_107818</td>\n",
       "      <td>2018-12-31</td>\n",
       "      <td>WKL 0000</td>\n",
       "      <td>TUN</td>\n",
       "      <td>TUN</td>\n",
       "      <td>2018-12-31 22:00:00</td>\n",
       "      <td>2019-01-01 01:00:00</td>\n",
       "      <td>SCH</td>\n",
       "      <td>TU 32AIMF</td>\n",
       "      <td>0.0</td>\n",
       "      <td>...</td>\n",
       "      <td>0</td>\n",
       "      <td>1</td>\n",
       "      <td>22</td>\n",
       "      <td>Monday</td>\n",
       "      <td>180.0</td>\n",
       "      <td>1</td>\n",
       "      <td>12</td>\n",
       "      <td>December</td>\n",
       "      <td>2018</td>\n",
       "      <td>0.000000</td>\n",
       "    </tr>\n",
       "    <tr>\n",
       "      <th>107829</th>\n",
       "      <td>train_id_107776</td>\n",
       "      <td>2018-12-31</td>\n",
       "      <td>WKL 0000</td>\n",
       "      <td>MIR</td>\n",
       "      <td>MIR</td>\n",
       "      <td>2018-12-31 22:00:00</td>\n",
       "      <td>2019-01-01 01:00:00</td>\n",
       "      <td>SCH</td>\n",
       "      <td>TU 736IOM</td>\n",
       "      <td>0.0</td>\n",
       "      <td>...</td>\n",
       "      <td>0</td>\n",
       "      <td>1</td>\n",
       "      <td>22</td>\n",
       "      <td>Monday</td>\n",
       "      <td>180.0</td>\n",
       "      <td>1</td>\n",
       "      <td>12</td>\n",
       "      <td>December</td>\n",
       "      <td>2018</td>\n",
       "      <td>0.000000</td>\n",
       "    </tr>\n",
       "    <tr>\n",
       "      <th>107830</th>\n",
       "      <td>train_id_103139</td>\n",
       "      <td>2018-12-31</td>\n",
       "      <td>TU 0841</td>\n",
       "      <td>DSS</td>\n",
       "      <td>CKY</td>\n",
       "      <td>2018-12-31 22:20:00</td>\n",
       "      <td>2018-12-31 23:35:00</td>\n",
       "      <td>ATA</td>\n",
       "      <td>TU 320IMU</td>\n",
       "      <td>16.0</td>\n",
       "      <td>...</td>\n",
       "      <td>1</td>\n",
       "      <td>0</td>\n",
       "      <td>22</td>\n",
       "      <td>Monday</td>\n",
       "      <td>75.0</td>\n",
       "      <td>23</td>\n",
       "      <td>12</td>\n",
       "      <td>December</td>\n",
       "      <td>2018</td>\n",
       "      <td>677.428198</td>\n",
       "    </tr>\n",
       "    <tr>\n",
       "      <th>107831</th>\n",
       "      <td>train_id_103138</td>\n",
       "      <td>2018-12-31</td>\n",
       "      <td>TU 0399</td>\n",
       "      <td>ABJ</td>\n",
       "      <td>NIM</td>\n",
       "      <td>2018-12-31 22:40:00</td>\n",
       "      <td>2019-01-01 00:35:00</td>\n",
       "      <td>ATA</td>\n",
       "      <td>TU 320IMW</td>\n",
       "      <td>0.0</td>\n",
       "      <td>...</td>\n",
       "      <td>0</td>\n",
       "      <td>0</td>\n",
       "      <td>22</td>\n",
       "      <td>Monday</td>\n",
       "      <td>115.0</td>\n",
       "      <td>0</td>\n",
       "      <td>12</td>\n",
       "      <td>December</td>\n",
       "      <td>2018</td>\n",
       "      <td>1129.691078</td>\n",
       "    </tr>\n",
       "    <tr>\n",
       "      <th>107832</th>\n",
       "      <td>train_id_99851</td>\n",
       "      <td>2018-12-31</td>\n",
       "      <td>TU 6002</td>\n",
       "      <td>MED</td>\n",
       "      <td>SFA</td>\n",
       "      <td>2018-12-31 23:10:00</td>\n",
       "      <td>2019-01-01 03:50:00</td>\n",
       "      <td>ATA</td>\n",
       "      <td>TU 320IMT</td>\n",
       "      <td>10.0</td>\n",
       "      <td>...</td>\n",
       "      <td>0</td>\n",
       "      <td>0</td>\n",
       "      <td>23</td>\n",
       "      <td>Monday</td>\n",
       "      <td>280.0</td>\n",
       "      <td>3</td>\n",
       "      <td>12</td>\n",
       "      <td>December</td>\n",
       "      <td>2018</td>\n",
       "      <td>3013.389030</td>\n",
       "    </tr>\n",
       "  </tbody>\n",
       "</table>\n",
       "<p>107833 rows × 41 columns</p>\n",
       "</div>"
      ],
      "text/plain": [
       "                     ID      DATOP      FLTID DEPSTN ARRSTN  \\\n",
       "0        train_id_15674 2016-01-01   TU 0564     NKC    TUN   \n",
       "1        train_id_15676 2016-01-01   TU 0714     JED    TUN   \n",
       "2        train_id_15675 2016-01-01   TU 0614     DKR    TUN   \n",
       "3        train_id_30980 2016-01-01   UG 0002     TUN    DJE   \n",
       "4         train_id_7179 2016-01-01   TU 0880     TUN    AMS   \n",
       "...                 ...        ...        ...    ...    ...   \n",
       "107828  train_id_107818 2018-12-31  WKL 0000     TUN    TUN   \n",
       "107829  train_id_107776 2018-12-31  WKL 0000     MIR    MIR   \n",
       "107830  train_id_103139 2018-12-31   TU 0841     DSS    CKY   \n",
       "107831  train_id_103138 2018-12-31   TU 0399     ABJ    NIM   \n",
       "107832   train_id_99851 2018-12-31   TU 6002     MED    SFA   \n",
       "\n",
       "                       STD                 STA STATUS         AC  target  ...  \\\n",
       "0      2016-01-01 00:15:00 2016-01-01 04:30:00    ATA  TU 320IMV     0.0  ...   \n",
       "1      2016-01-01 00:55:00 2016-01-01 05:30:00    ATA  TU 332IFM   195.0  ...   \n",
       "2      2016-01-01 01:20:00 2016-01-01 05:55:00    ATA  TU 320IMU    49.0  ...   \n",
       "3      2016-01-01 06:15:00 2016-01-01 07:15:00    SCH  UG AT7LBD     0.0  ...   \n",
       "4      2016-01-01 06:30:00 2016-01-01 09:20:00    ATA  TU 736IOP    36.0  ...   \n",
       "...                    ...                 ...    ...        ...     ...  ...   \n",
       "107828 2018-12-31 22:00:00 2019-01-01 01:00:00    SCH  TU 32AIMF     0.0  ...   \n",
       "107829 2018-12-31 22:00:00 2019-01-01 01:00:00    SCH  TU 736IOM     0.0  ...   \n",
       "107830 2018-12-31 22:20:00 2018-12-31 23:35:00    ATA  TU 320IMU    16.0  ...   \n",
       "107831 2018-12-31 22:40:00 2019-01-01 00:35:00    ATA  TU 320IMW     0.0  ...   \n",
       "107832 2018-12-31 23:10:00 2019-01-01 03:50:00    ATA  TU 320IMT    10.0  ...   \n",
       "\n",
       "       delayed domestic dep_hour dep_weekday duration_min arr_hour  \\\n",
       "0            0        0        0      Friday        255.0        4   \n",
       "1            1        0        0      Friday        275.0        5   \n",
       "2            1        0        1      Friday        275.0        5   \n",
       "3            0        1        6      Friday         60.0        7   \n",
       "4            1        0        6      Friday        170.0        9   \n",
       "...        ...      ...      ...         ...          ...      ...   \n",
       "107828       0        1       22      Monday        180.0        1   \n",
       "107829       0        1       22      Monday        180.0        1   \n",
       "107830       1        0       22      Monday         75.0       23   \n",
       "107831       0        0       22      Monday        115.0        0   \n",
       "107832       0        0       23      Monday        280.0        3   \n",
       "\n",
       "       flight_month flight_month_name  year     distance  \n",
       "0                 1           January  2016  3298.067996  \n",
       "1                 1           January  2016  3256.052105  \n",
       "2                 1           January  2016  3678.974557  \n",
       "3                 1           January  2016   333.916459  \n",
       "4                 1           January  2016  1770.371959  \n",
       "...             ...               ...   ...          ...  \n",
       "107828           12          December  2018     0.000000  \n",
       "107829           12          December  2018     0.000000  \n",
       "107830           12          December  2018   677.428198  \n",
       "107831           12          December  2018  1129.691078  \n",
       "107832           12          December  2018  3013.389030  \n",
       "\n",
       "[107833 rows x 41 columns]"
      ]
     },
     "execution_count": 23,
     "metadata": {},
     "output_type": "execute_result"
    }
   ],
   "source": [
    "train_airport_df"
   ]
  },
  {
   "cell_type": "code",
   "execution_count": 24,
   "metadata": {},
   "outputs": [],
   "source": [
    "list_of_ac = train_airport_df['AC'].unique().tolist()\n",
    "flights_dict = dict()\n",
    "ac_group = train_airport_df.groupby('AC')\n",
    "for x in list_of_ac:\n",
    "    df_ac = ac_group.get_group(x)\n",
    "    flights_dict[x] = train_airport_df[train_airport_df['AC'] == x]['year'].value_counts().to_dict()"
   ]
  },
  {
   "cell_type": "code",
   "execution_count": 25,
   "metadata": {},
   "outputs": [
    {
     "data": {
      "text/plain": [
       "{'TU 320IMV': {2018: 1610, 2017: 1563, 2016: 1416},\n",
       " 'TU 332IFM': {2018: 958, 2017: 870, 2016: 666},\n",
       " 'TU 320IMU': {2018: 1644, 2017: 1602, 2016: 1478},\n",
       " 'UG AT7LBD': {2016: 1010, 2018: 466, 2017: 456},\n",
       " 'TU 736IOP': {2017: 1376, 2016: 1065, 2018: 88},\n",
       " 'TU 32AIML': {2018: 1513, 2017: 1323, 2016: 1286},\n",
       " 'TU 736IOR': {2018: 1160, 2016: 1104, 2017: 906},\n",
       " 'TU 32AIMF': {2018: 1441, 2016: 1322, 2017: 1020},\n",
       " 'TU 736IOK': {2018: 1363, 2016: 1316, 2017: 107},\n",
       " 'TU 736IOL': {2018: 1198, 2017: 1006, 2016: 847},\n",
       " 'TU 31BIMQ': {2018: 1490, 2016: 1296, 2017: 1266},\n",
       " 'TU 32AIMC': {2016: 213, 2017: 1, 2018: 1},\n",
       " 'TU 31BIMO': {2016: 1265, 2018: 1125, 2017: 525},\n",
       " 'TU 320IMT': {2017: 1638, 2018: 1554, 2016: 1442},\n",
       " 'TU 32AIMD': {2018: 1450, 2017: 1273, 2016: 872},\n",
       " 'TU 320IMS': {2016: 1461, 2017: 1410, 2018: 1343},\n",
       " 'TU 736IOQ': {2018: 1391, 2017: 1283, 2016: 398},\n",
       " 'TU 32AIMN': {2018: 1569, 2017: 1264, 2016: 976},\n",
       " 'TU 320IMR': {2017: 1643, 2018: 1620, 2016: 1338},\n",
       " 'UG AT7LBE': {2016: 1098, 2017: 470, 2018: 314},\n",
       " 'TU 32AIMH': {2017: 1575, 2018: 1469, 2016: 982},\n",
       " 'TU 32AIMP': {2017: 1580, 2018: 1412, 2016: 1154},\n",
       " 'TU 320IMW': {2018: 1620, 2017: 1601, 2016: 1464},\n",
       " 'UG AT7AT7': {2017: 633, 2016: 462, 2018: 346},\n",
       " 'TU 32AIMI': {2016: 1290, 2018: 999, 2017: 129},\n",
       " 'TU 31AIMJ': {2017: 1212, 2016: 1110, 2018: 2},\n",
       " 'TU 736ION': {2017: 1261, 2018: 1176, 2016: 922},\n",
       " 'TU 332IFN': {2018: 903, 2017: 811, 2016: 697},\n",
       " 'TU 31AIMK': {2016: 1081, 2017: 81, 2018: 1},\n",
       " 'TU 32AIMG': {2017: 1556, 2018: 1432, 2016: 1031},\n",
       " 'UG CR9CR9': {2017: 22, 2016: 8},\n",
       " 'TU CR9ISA': {2018: 1529, 2017: 1219, 2016: 761},\n",
       " 'TU 32AIMM': {2017: 1348, 2016: 885, 2018: 399},\n",
       " 'UG CR9XXX': {2017: 48, 2016: 32},\n",
       " 'TU 736IOM': {2018: 1226, 2017: 1152, 2016: 350},\n",
       " 'TU 32A32A': {2016: 2},\n",
       " '5K 343TQY': {2016: 54},\n",
       " '5M 343SUN': {2016: 68},\n",
       " 'BJ 320INP': {2016: 22, 2017: 8, 2018: 4},\n",
       " 'BJ 320INQ': {2016: 18, 2017: 14},\n",
       " 'BJ 320INH': {2016: 5, 2017: 1},\n",
       " 'BJ 320INA': {2017: 7, 2016: 5},\n",
       " 'BJ 320INB': {2017: 11, 2018: 6},\n",
       " 'GJ 734CGC': {2018: 37, 2017: 14},\n",
       " 'UJ 320TCF': {2017: 20},\n",
       " 'QS 738TSC': {2017: 32},\n",
       " 'BJ 320INC': {2017: 18, 2018: 12},\n",
       " 'BJ 320INR': {2017: 12, 2018: 4},\n",
       " 'PS 738PSD': {2017: 335},\n",
       " 'D4 319CQG': {2017: 278},\n",
       " '6P M87TRJ': {2017: 6},\n",
       " '5M 343JAI': {2017: 129},\n",
       " '5K 345TFX': {2017: 141, 2018: 73},\n",
       " 'GW 320MQH': {2017: 34},\n",
       " 'TU CR9XXX': {2017: 2},\n",
       " 'D4 320CQP': {2017: 73},\n",
       " 'UG CR9ISA': {2017: 77},\n",
       " 'TU CR9CR9': {2017: 6},\n",
       " 'TU 320320': {2018: 1},\n",
       " 'BJ 320INO': {2018: 8},\n",
       " 'GJ 733EWE': {2018: 324},\n",
       " 'GJ 733LGC': {2018: 25},\n",
       " 'GJ 734PGC': {2018: 285},\n",
       " 'GJ 733GGC': {2018: 216},\n",
       " 'GJ 734MGC': {2018: 225},\n",
       " '5M 343FOX': {2018: 63},\n",
       " 'OL 321ABY': {2018: 5},\n",
       " 'X9 320VEB': {2018: 13}}"
      ]
     },
     "execution_count": 25,
     "metadata": {},
     "output_type": "execute_result"
    }
   ],
   "source": [
    "flights_dict"
   ]
  },
  {
   "cell_type": "code",
   "execution_count": 26,
   "metadata": {},
   "outputs": [
    {
     "data": {
      "text/plain": [
       "1         275.0\n",
       "2         275.0\n",
       "4         170.0\n",
       "5         165.0\n",
       "8         125.0\n",
       "          ...  \n",
       "107817    135.0\n",
       "107818    170.0\n",
       "107820    240.0\n",
       "107823    265.0\n",
       "107830     75.0\n",
       "Name: duration_min, Length: 57823, dtype: float64"
      ]
     },
     "execution_count": 26,
     "metadata": {},
     "output_type": "execute_result"
    }
   ],
   "source": [
    "days = train_airport_df.query(\"delay_or_onTime == 'delay'\")['DATOP']\n",
    "days\n",
    "\n",
    "delay_miami = train_airport_df.query(\"delay_or_onTime == 'delay'\")['duration_min']\n",
    "\n",
    "delay_miami"
   ]
  },
  {
   "cell_type": "code",
   "execution_count": 27,
   "metadata": {},
   "outputs": [
    {
     "data": {
      "text/plain": [
       "0         255.0\n",
       "1         275.0\n",
       "2         275.0\n",
       "3          60.0\n",
       "4         170.0\n",
       "          ...  \n",
       "107828    180.0\n",
       "107829    180.0\n",
       "107830     75.0\n",
       "107831    115.0\n",
       "107832    280.0\n",
       "Name: duration_min, Length: 107833, dtype: float64"
      ]
     },
     "execution_count": 27,
     "metadata": {},
     "output_type": "execute_result"
    }
   ],
   "source": [
    "train_airport_df.duration_min"
   ]
  },
  {
   "cell_type": "markdown",
   "metadata": {},
   "source": [
    "#### Correlation"
   ]
  },
  {
   "cell_type": "code",
   "execution_count": 28,
   "metadata": {},
   "outputs": [
    {
     "data": {
      "image/png": "[encoded data removed]",
      "text/plain": [
       "<Figure size 432x288 with 2 Axes>"
      ]
     },
     "metadata": {
      "needs_background": "light"
     },
     "output_type": "display_data"
    }
   ],
   "source": [
    "# Heatmap of the Pearson correlation coefficients to see releationships\n",
    "\n",
    "sns.heatmap(\n",
    "    round(train_airport_df.corr(), 2),\n",
    "    cmap=\"RdBu_r\",\n",
    "    vmin=-1,\n",
    "    vmax=1,\n",
    "    annot=True,\n",
    "    linewidths=1.1,\n",
    "    linecolor=\"black\",\n",
    "    annot_kws={\"fontsize\": 12, \"fontfamily\": \"serif\", \"fontweight\": \"bold\"},\n",
    ");"
   ]
  },
  {
   "cell_type": "markdown",
   "metadata": {},
   "source": [
    "### CSV files for modelling"
   ]
  },
  {
   "cell_type": "code",
   "execution_count": null,
   "metadata": {},
   "outputs": [],
   "source": [
    "train_airport_df.to_csv(\"data/final_train.csv\")\n",
    "test_airport_df.to_csv(\"data/final_test.csv\")\n"
   ]
  }
 ],
 "metadata": {
  "interpreter": {
   "hash": "f48cdc65bef060b72a4a159d0e03946f8d40da66aeb01231ade7a7fb4d9b8429"
  },
  "kernelspec": {
   "display_name": "Python 3.9.8 ('.venv': venv)",
   "language": "python",
   "name": "python3"
  },
  "language_info": {
   "codemirror_mode": {
    "name": "ipython",
    "version": 3
   },
   "file_extension": ".py",
   "mimetype": "text/x-python",
   "name": "python",
   "nbconvert_exporter": "python",
   "pygments_lexer": "ipython3",
   "version": "3.9.8"
  },
  "orig_nbformat": 4
 },
 "nbformat": 4,
 "nbformat_minor": 2
}
