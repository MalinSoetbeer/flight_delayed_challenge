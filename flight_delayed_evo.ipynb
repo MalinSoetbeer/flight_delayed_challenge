{
 "cells": [
  {
   "cell_type": "markdown",
   "metadata": {},
   "source": [
    "# Flight Delay Prediction\n",
    "Predict airline delays for Tunisian aviation company, Tunisair"
   ]
  },
  {
   "cell_type": "markdown",
   "metadata": {},
   "source": [
    "## Description"
   ]
  },
  {
   "cell_type": "markdown",
   "metadata": {},
   "source": [
    "Flight delays not only irritate air passengers and disrupt their schedules but also cause :\n",
    "\n",
    "* a decrease in efficiency\n",
    "* an increase in capital costs, reallocation of flight crews and aircraft\n",
    "* an additional crew expenses"
   ]
  },
  {
   "cell_type": "markdown",
   "metadata": {},
   "source": [
    "As a result, on an aggregate basis, an airline's record of flight delays may have a negative impact on passenger demand."
   ]
  },
  {
   "cell_type": "markdown",
   "metadata": {},
   "source": [
    "This solution proposes to build a flight delay predictive model using Machine Learning techniques. The accurate prediction of flight delays will help all players in the air travel ecosystem to set up effective action plans to reduce the impact of the delays and avoid loss of time, capital and resources.\n",
    "\n"
   ]
  },
  {
   "cell_type": "markdown",
   "metadata": {},
   "source": [
    "## Business Understanding"
   ]
  },
  {
   "cell_type": "markdown",
   "metadata": {},
   "source": [
    "#### About the stakeholder: Tunisair\n",
    "\n",
    "Tunisair is the flag carrier airline of Tunisia. Formed in 1948, it operates scheduled international services to four continents. Its main base is Tunis–Carthage International Airport. The airline's head office is in Tunis, near Tunis Airport. Tunisair is a member of the Arab Air Carriers Organization"
   ]
  },
  {
   "cell_type": "markdown",
   "metadata": {},
   "source": [
    "<img src=\"images/Tunisair_plane.jpeg\" height=350 />"
   ]
  },
  {
   "cell_type": "markdown",
   "metadata": {},
   "source": [
    "| **Column Names**  |                                                                                                                                                                                          **Description** |\n",
    "| ----------------- | -------------------------------------------------------------------------------------------------------------------------------------------------------------------------------------------------------: |\n",
    "| id                |                                                                                                                                                                            id of record                  |\n",
    "| flight_date          |                                                                                                                                                                                  Date of flight |\n",
    "| flight_number        |                                                                                                                                                                                     Id of flight ( like id of bus line ) |\n",
    "| departure_point    |                                                                                                                                                                                       Departure point |\n",
    "| arrival_point   |                                                                                                                             Arrival point |\n",
    "| scheduled_time_departure|                                                                                                                                                      Scheduled Time departure |\n",
    "| scheduled_time_arrival    |                                                                                                                                                                         Scheduled Time arrival |\n",
    "| flight_status            |                                                                                                                                                                                         Flight status |\n",
    "| aircraft_code        |                                                                                                                                                              Aircraft Code |\n",
    "| target              |                                                                                                                                  Flight Delay ( in minutes ) |"
   ]
  },
  {
   "cell_type": "markdown",
   "metadata": {},
   "source": [
    "## Setting up Problem"
   ]
  },
  {
   "cell_type": "markdown",
   "metadata": {},
   "source": [
    "Lets set some background first:\n",
    "\n",
    "Customer browsing through some flight booking website and want to book flight for some specific date, time, source and destination.\n",
    "\n",
    "__IDEA:__ If during flight booking, we can show to customer whether the flight he/she considering for booking is likely to arrive on time or not. Additionaly, if flight is expected to delay, also show delayed time.\n",
    "\n",
    "If customer know that the flight is likely to be late, he/she might choose to book another flight.\n",
    "\n",
    "From Modelling Propective, need to set two goals:\n",
    "\n",
    "__GOAL I:__ Predict whether flight is going to delay or not.\n",
    "<br>\n",
    "\n",
    "__GOAL II:__ If flight delays, predict amount of time by which it delays."
   ]
  },
  {
   "cell_type": "markdown",
   "metadata": {},
   "source": [
    "## Imports"
   ]
  },
  {
   "cell_type": "code",
   "execution_count": 3,
   "metadata": {},
   "outputs": [],
   "source": [
    "import pandas as pd\n",
    "import numpy as np\n",
    "import warnings\n",
    "warnings.filterwarnings('ignore')\n",
    "\n",
    "# Import airport data\n",
    "import airportsdata\n",
    "airports = airportsdata.load()\n",
    "\n",
    "from script_files.feature_engineering import *\n",
    "from script_files.prepare_flight_data import *\n"
   ]
  },
  {
   "cell_type": "markdown",
   "metadata": {},
   "source": [
    "## Understand the Data"
   ]
  },
  {
   "cell_type": "markdown",
   "metadata": {},
   "source": [
    "1. How many flights are in our data set, in which date period we have data?\n",
    "2. What datatype are in the data?\n",
    "- Are there any missing values?\n",
    "- Which features are continuous or categorical"
   ]
  },
  {
   "cell_type": "code",
   "execution_count": 4,
   "metadata": {},
   "outputs": [
    {
     "name": "stdout",
     "output_type": "stream",
     "text": [
      "========================================================================================================================\n",
      "\u001b[1mAirport data\u001b[0m\n"
     ]
    },
    {
     "data": {
      "text/html": [
       "<div>\n",
       "<style scoped>\n",
       "    .dataframe tbody tr th:only-of-type {\n",
       "        vertical-align: middle;\n",
       "    }\n",
       "\n",
       "    .dataframe tbody tr th {\n",
       "        vertical-align: top;\n",
       "    }\n",
       "\n",
       "    .dataframe thead th {\n",
       "        text-align: right;\n",
       "    }\n",
       "</style>\n",
       "<table border=\"1\" class=\"dataframe\">\n",
       "  <thead>\n",
       "    <tr style=\"text-align: right;\">\n",
       "      <th></th>\n",
       "      <th>icao</th>\n",
       "      <th>iata</th>\n",
       "      <th>name</th>\n",
       "      <th>city</th>\n",
       "      <th>subd</th>\n",
       "      <th>country</th>\n",
       "      <th>elevation</th>\n",
       "      <th>lat</th>\n",
       "      <th>lon</th>\n",
       "      <th>tz</th>\n",
       "    </tr>\n",
       "  </thead>\n",
       "  <tbody>\n",
       "    <tr>\n",
       "      <th>0</th>\n",
       "      <td>00AK</td>\n",
       "      <td></td>\n",
       "      <td>Lowell Field</td>\n",
       "      <td>Anchor Point</td>\n",
       "      <td>Alaska</td>\n",
       "      <td>US</td>\n",
       "      <td>450.0</td>\n",
       "      <td>59.9492</td>\n",
       "      <td>-151.695999</td>\n",
       "      <td>America/Anchorage</td>\n",
       "    </tr>\n",
       "    <tr>\n",
       "      <th>1</th>\n",
       "      <td>00AL</td>\n",
       "      <td></td>\n",
       "      <td>Epps Airpark</td>\n",
       "      <td>Harvest</td>\n",
       "      <td>Alabama</td>\n",
       "      <td>US</td>\n",
       "      <td>820.0</td>\n",
       "      <td>34.864799</td>\n",
       "      <td>-86.770302</td>\n",
       "      <td>America/Chicago</td>\n",
       "    </tr>\n",
       "    <tr>\n",
       "      <th>2</th>\n",
       "      <td>00AZ</td>\n",
       "      <td></td>\n",
       "      <td>Cordes Airport</td>\n",
       "      <td>Cordes</td>\n",
       "      <td>Arizona</td>\n",
       "      <td>US</td>\n",
       "      <td>3810.0</td>\n",
       "      <td>34.305599</td>\n",
       "      <td>-112.165001</td>\n",
       "      <td>America/Phoenix</td>\n",
       "    </tr>\n",
       "    <tr>\n",
       "      <th>3</th>\n",
       "      <td>00CA</td>\n",
       "      <td></td>\n",
       "      <td>Goldstone /Gts/ Airport</td>\n",
       "      <td>Barstow</td>\n",
       "      <td>California</td>\n",
       "      <td>US</td>\n",
       "      <td>3038.0</td>\n",
       "      <td>35.350498</td>\n",
       "      <td>-116.888</td>\n",
       "      <td>America/Los_Angeles</td>\n",
       "    </tr>\n",
       "    <tr>\n",
       "      <th>4</th>\n",
       "      <td>00CO</td>\n",
       "      <td></td>\n",
       "      <td>Cass Field</td>\n",
       "      <td>Briggsdale</td>\n",
       "      <td>Colorado</td>\n",
       "      <td>US</td>\n",
       "      <td>4830.0</td>\n",
       "      <td>40.6222</td>\n",
       "      <td>-104.344002</td>\n",
       "      <td>America/Denver</td>\n",
       "    </tr>\n",
       "  </tbody>\n",
       "</table>\n",
       "</div>"
      ],
      "text/plain": [
       "   icao iata                     name          city        subd country  \\\n",
       "0  00AK                  Lowell Field  Anchor Point      Alaska      US   \n",
       "1  00AL                  Epps Airpark       Harvest     Alabama      US   \n",
       "2  00AZ                Cordes Airport        Cordes     Arizona      US   \n",
       "3  00CA       Goldstone /Gts/ Airport       Barstow  California      US   \n",
       "4  00CO                    Cass Field    Briggsdale    Colorado      US   \n",
       "\n",
       "  elevation        lat         lon                   tz  \n",
       "0     450.0    59.9492 -151.695999    America/Anchorage  \n",
       "1     820.0  34.864799  -86.770302      America/Chicago  \n",
       "2    3810.0  34.305599 -112.165001      America/Phoenix  \n",
       "3    3038.0  35.350498    -116.888  America/Los_Angeles  \n",
       "4    4830.0    40.6222 -104.344002       America/Denver  "
      ]
     },
     "metadata": {},
     "output_type": "display_data"
    },
    {
     "name": "stdout",
     "output_type": "stream",
     "text": [
      "\n",
      "========================================================================================================================\n",
      "\u001b[1mTraining data\u001b[0m\n"
     ]
    },
    {
     "data": {
      "text/html": [
       "<div>\n",
       "<style scoped>\n",
       "    .dataframe tbody tr th:only-of-type {\n",
       "        vertical-align: middle;\n",
       "    }\n",
       "\n",
       "    .dataframe tbody tr th {\n",
       "        vertical-align: top;\n",
       "    }\n",
       "\n",
       "    .dataframe thead th {\n",
       "        text-align: right;\n",
       "    }\n",
       "</style>\n",
       "<table border=\"1\" class=\"dataframe\">\n",
       "  <thead>\n",
       "    <tr style=\"text-align: right;\">\n",
       "      <th></th>\n",
       "      <th>id</th>\n",
       "      <th>flight_date</th>\n",
       "      <th>flight_number</th>\n",
       "      <th>departure_point</th>\n",
       "      <th>arrival_point</th>\n",
       "      <th>scheduled_time_departure</th>\n",
       "      <th>scheduled_time_arrival</th>\n",
       "      <th>flight_status</th>\n",
       "      <th>aircraft_code</th>\n",
       "      <th>target</th>\n",
       "    </tr>\n",
       "  </thead>\n",
       "  <tbody>\n",
       "    <tr>\n",
       "      <th>0</th>\n",
       "      <td>train_id_0</td>\n",
       "      <td>2016-01-03</td>\n",
       "      <td>TU 0712</td>\n",
       "      <td>CMN</td>\n",
       "      <td>TUN</td>\n",
       "      <td>2016-01-03 10:30:00</td>\n",
       "      <td>2016-01-03 12.55.00</td>\n",
       "      <td>ATA</td>\n",
       "      <td>TU 32AIMN</td>\n",
       "      <td>260.0</td>\n",
       "    </tr>\n",
       "    <tr>\n",
       "      <th>1</th>\n",
       "      <td>train_id_1</td>\n",
       "      <td>2016-01-13</td>\n",
       "      <td>TU 0757</td>\n",
       "      <td>MXP</td>\n",
       "      <td>TUN</td>\n",
       "      <td>2016-01-13 15:05:00</td>\n",
       "      <td>2016-01-13 16.55.00</td>\n",
       "      <td>ATA</td>\n",
       "      <td>TU 31BIMO</td>\n",
       "      <td>20.0</td>\n",
       "    </tr>\n",
       "    <tr>\n",
       "      <th>2</th>\n",
       "      <td>train_id_2</td>\n",
       "      <td>2016-01-16</td>\n",
       "      <td>TU 0214</td>\n",
       "      <td>TUN</td>\n",
       "      <td>IST</td>\n",
       "      <td>2016-01-16 04:10:00</td>\n",
       "      <td>2016-01-16 06.45.00</td>\n",
       "      <td>ATA</td>\n",
       "      <td>TU 32AIMN</td>\n",
       "      <td>0.0</td>\n",
       "    </tr>\n",
       "    <tr>\n",
       "      <th>3</th>\n",
       "      <td>train_id_3</td>\n",
       "      <td>2016-01-17</td>\n",
       "      <td>TU 0480</td>\n",
       "      <td>DJE</td>\n",
       "      <td>NTE</td>\n",
       "      <td>2016-01-17 14:10:00</td>\n",
       "      <td>2016-01-17 17.00.00</td>\n",
       "      <td>ATA</td>\n",
       "      <td>TU 736IOK</td>\n",
       "      <td>0.0</td>\n",
       "    </tr>\n",
       "    <tr>\n",
       "      <th>4</th>\n",
       "      <td>train_id_4</td>\n",
       "      <td>2016-01-17</td>\n",
       "      <td>TU 0338</td>\n",
       "      <td>TUN</td>\n",
       "      <td>ALG</td>\n",
       "      <td>2016-01-17 14:30:00</td>\n",
       "      <td>2016-01-17 15.50.00</td>\n",
       "      <td>ATA</td>\n",
       "      <td>TU 320IMU</td>\n",
       "      <td>22.0</td>\n",
       "    </tr>\n",
       "  </tbody>\n",
       "</table>\n",
       "</div>"
      ],
      "text/plain": [
       "           id flight_date flight_number departure_point arrival_point  \\\n",
       "0  train_id_0  2016-01-03      TU 0712              CMN           TUN   \n",
       "1  train_id_1  2016-01-13      TU 0757              MXP           TUN   \n",
       "2  train_id_2  2016-01-16      TU 0214              TUN           IST   \n",
       "3  train_id_3  2016-01-17      TU 0480              DJE           NTE   \n",
       "4  train_id_4  2016-01-17      TU 0338              TUN           ALG   \n",
       "\n",
       "  scheduled_time_departure scheduled_time_arrival flight_status aircraft_code  \\\n",
       "0      2016-01-03 10:30:00    2016-01-03 12.55.00           ATA     TU 32AIMN   \n",
       "1      2016-01-13 15:05:00    2016-01-13 16.55.00           ATA     TU 31BIMO   \n",
       "2      2016-01-16 04:10:00    2016-01-16 06.45.00           ATA     TU 32AIMN   \n",
       "3      2016-01-17 14:10:00    2016-01-17 17.00.00           ATA     TU 736IOK   \n",
       "4      2016-01-17 14:30:00    2016-01-17 15.50.00           ATA     TU 320IMU   \n",
       "\n",
       "   target  \n",
       "0   260.0  \n",
       "1    20.0  \n",
       "2     0.0  \n",
       "3     0.0  \n",
       "4    22.0  "
      ]
     },
     "metadata": {},
     "output_type": "display_data"
    },
    {
     "name": "stdout",
     "output_type": "stream",
     "text": [
      "\n",
      "========================================================================================================================\n",
      "\u001b[1mTest data\u001b[0m\n"
     ]
    },
    {
     "data": {
      "text/html": [
       "<div>\n",
       "<style scoped>\n",
       "    .dataframe tbody tr th:only-of-type {\n",
       "        vertical-align: middle;\n",
       "    }\n",
       "\n",
       "    .dataframe tbody tr th {\n",
       "        vertical-align: top;\n",
       "    }\n",
       "\n",
       "    .dataframe thead th {\n",
       "        text-align: right;\n",
       "    }\n",
       "</style>\n",
       "<table border=\"1\" class=\"dataframe\">\n",
       "  <thead>\n",
       "    <tr style=\"text-align: right;\">\n",
       "      <th></th>\n",
       "      <th>ID</th>\n",
       "      <th>DATOP</th>\n",
       "      <th>FLTID</th>\n",
       "      <th>DEPSTN</th>\n",
       "      <th>ARRSTN</th>\n",
       "      <th>STD</th>\n",
       "      <th>STA</th>\n",
       "      <th>STATUS</th>\n",
       "      <th>AC</th>\n",
       "    </tr>\n",
       "  </thead>\n",
       "  <tbody>\n",
       "    <tr>\n",
       "      <th>0</th>\n",
       "      <td>test_id_0</td>\n",
       "      <td>2016-05-04</td>\n",
       "      <td>TU 0700</td>\n",
       "      <td>DJE</td>\n",
       "      <td>TUN</td>\n",
       "      <td>2016-05-04 06:40:00</td>\n",
       "      <td>2016-05-04 07.30.00</td>\n",
       "      <td>ATA</td>\n",
       "      <td>TU 32AIMF</td>\n",
       "    </tr>\n",
       "    <tr>\n",
       "      <th>1</th>\n",
       "      <td>test_id_1</td>\n",
       "      <td>2016-05-05</td>\n",
       "      <td>TU 0395</td>\n",
       "      <td>TUN</td>\n",
       "      <td>BKO</td>\n",
       "      <td>2016-05-05 15:20:00</td>\n",
       "      <td>2016-05-05 20.05.00</td>\n",
       "      <td>ATA</td>\n",
       "      <td>TU 320IMW</td>\n",
       "    </tr>\n",
       "    <tr>\n",
       "      <th>2</th>\n",
       "      <td>test_id_2</td>\n",
       "      <td>2016-05-06</td>\n",
       "      <td>TU 0745</td>\n",
       "      <td>FRA</td>\n",
       "      <td>TUN</td>\n",
       "      <td>2016-05-06 10:00:00</td>\n",
       "      <td>2016-05-06 12.25.00</td>\n",
       "      <td>ATA</td>\n",
       "      <td>TU 32AIMC</td>\n",
       "    </tr>\n",
       "    <tr>\n",
       "      <th>3</th>\n",
       "      <td>test_id_3</td>\n",
       "      <td>2016-05-11</td>\n",
       "      <td>TU 0848</td>\n",
       "      <td>BEY</td>\n",
       "      <td>TUN</td>\n",
       "      <td>2016-05-11 09:40:00</td>\n",
       "      <td>2016-05-11 13.10.00</td>\n",
       "      <td>ATA</td>\n",
       "      <td>TU 31BIMO</td>\n",
       "    </tr>\n",
       "    <tr>\n",
       "      <th>4</th>\n",
       "      <td>test_id_4</td>\n",
       "      <td>2016-05-11</td>\n",
       "      <td>TU 0635</td>\n",
       "      <td>ORY</td>\n",
       "      <td>MIR</td>\n",
       "      <td>2016-05-11 09:50:00</td>\n",
       "      <td>2016-05-11 12.35.00</td>\n",
       "      <td>ATA</td>\n",
       "      <td>TU 736IOQ</td>\n",
       "    </tr>\n",
       "  </tbody>\n",
       "</table>\n",
       "</div>"
      ],
      "text/plain": [
       "          ID       DATOP     FLTID DEPSTN ARRSTN                  STD  \\\n",
       "0  test_id_0  2016-05-04  TU 0700     DJE    TUN  2016-05-04 06:40:00   \n",
       "1  test_id_1  2016-05-05  TU 0395     TUN    BKO  2016-05-05 15:20:00   \n",
       "2  test_id_2  2016-05-06  TU 0745     FRA    TUN  2016-05-06 10:00:00   \n",
       "3  test_id_3  2016-05-11  TU 0848     BEY    TUN  2016-05-11 09:40:00   \n",
       "4  test_id_4  2016-05-11  TU 0635     ORY    MIR  2016-05-11 09:50:00   \n",
       "\n",
       "                   STA STATUS         AC  \n",
       "0  2016-05-04 07.30.00    ATA  TU 32AIMF  \n",
       "1  2016-05-05 20.05.00    ATA  TU 320IMW  \n",
       "2  2016-05-06 12.25.00    ATA  TU 32AIMC  \n",
       "3  2016-05-11 13.10.00    ATA  TU 31BIMO  \n",
       "4  2016-05-11 12.35.00    ATA  TU 736IOQ  "
      ]
     },
     "metadata": {},
     "output_type": "display_data"
    }
   ],
   "source": [
    "# Loading the data in and Shape to fit\n",
    "airports = pd.DataFrame(airports).T.reset_index(drop=True)\n",
    "# test data\n",
    "train_df = pd.read_csv(\"data/Train.csv\")\n",
    "# rename the columns\n",
    "train_df.columns=['id','flight_date','flight_number','departure_point','arrival_point','scheduled_time_departure','scheduled_time_arrival','flight_status','aircraft_code',\"target\"]\n",
    "# train data\n",
    "test_df = pd.read_csv(\"data/Test.csv\")\n",
    "\n",
    "\n",
    "print(\"===\"*40)\n",
    "print('\\033[1m'+\"Airport data\"+ '\\033[0m')\n",
    "display(airports.head())\n",
    "print()\n",
    "print(\"===\"*40)\n",
    "print('\\033[1m'+\"Training data\"+ '\\033[0m')\n",
    "display(train_df.head())\n",
    "print()\n",
    "print(\"===\"*40)\n",
    "print('\\033[1m'+\"Test data\"+ '\\033[0m')\n",
    "display(test_df.head())"
   ]
  },
  {
   "cell_type": "markdown",
   "metadata": {},
   "source": [
    "__1. How many flights are in our data set, in which date period we have data?__"
   ]
  },
  {
   "cell_type": "code",
   "execution_count": 5,
   "metadata": {},
   "outputs": [
    {
     "name": "stdout",
     "output_type": "stream",
     "text": [
      "2016-01-01\n",
      "2018-12-31\n"
     ]
    }
   ],
   "source": [
    "print(train_df[\"flight_date\"].min())\n",
    "print(train_df[\"flight_date\"].max())"
   ]
  },
  {
   "cell_type": "markdown",
   "metadata": {},
   "source": [
    "Dates of flights from 2016-01-01 till 2018-12-31"
   ]
  },
  {
   "cell_type": "code",
   "execution_count": 6,
   "metadata": {},
   "outputs": [
    {
     "name": "stdout",
     "output_type": "stream",
     "text": [
      "Number of rows in the flightdata dataset :  107833\n",
      "Number of columns in the flightdata dataset :  10\n"
     ]
    }
   ],
   "source": [
    "# Getting an idea of the dimension\n",
    "print('Number of rows in the flightdata dataset : ',train_df.shape[0])\n",
    "print('Number of columns in the flightdata dataset : ',train_df.shape[1])"
   ]
  },
  {
   "cell_type": "markdown",
   "metadata": {},
   "source": [
    "We can observe that the data set contain 107833 rows and 19 columns."
   ]
  },
  {
   "cell_type": "markdown",
   "metadata": {},
   "source": [
    "__2. What datatype are in the data?__"
   ]
  },
  {
   "cell_type": "code",
   "execution_count": 7,
   "metadata": {},
   "outputs": [
    {
     "name": "stdout",
     "output_type": "stream",
     "text": [
      "<class 'pandas.core.frame.DataFrame'>\n",
      "RangeIndex: 107833 entries, 0 to 107832\n",
      "Data columns (total 10 columns):\n",
      " #   Column                    Non-Null Count   Dtype  \n",
      "---  ------                    --------------   -----  \n",
      " 0   id                        107833 non-null  object \n",
      " 1   flight_date               107833 non-null  object \n",
      " 2   flight_number             107833 non-null  object \n",
      " 3   departure_point           107833 non-null  object \n",
      " 4   arrival_point             107833 non-null  object \n",
      " 5   scheduled_time_departure  107833 non-null  object \n",
      " 6   scheduled_time_arrival    107833 non-null  object \n",
      " 7   flight_status             107833 non-null  object \n",
      " 8   aircraft_code             107833 non-null  object \n",
      " 9   target                    107833 non-null  float64\n",
      "dtypes: float64(1), object(9)\n",
      "memory usage: 8.2+ MB\n"
     ]
    }
   ],
   "source": [
    "train_df.info()"
   ]
  },
  {
   "cell_type": "markdown",
   "metadata": {},
   "source": [
    "**Data-types**  \n",
    "- The dataset contains 9 columns with objects (text) and the target variable is a float type. <br>\n",
    "\n",
    "- We expect that all information about the date will be given as datatime type."
   ]
  },
  {
   "cell_type": "markdown",
   "metadata": {},
   "source": [
    "__3. Are there any missing values?__"
   ]
  },
  {
   "cell_type": "code",
   "execution_count": 8,
   "metadata": {},
   "outputs": [
    {
     "name": "stdout",
     "output_type": "stream",
     "text": [
      "Your selected dataframe has 10 columns and 107833 Rows.\n",
      "There are 0 columns that have missing values.\n"
     ]
    },
    {
     "data": {
      "text/html": [
       "<div>\n",
       "<style scoped>\n",
       "    .dataframe tbody tr th:only-of-type {\n",
       "        vertical-align: middle;\n",
       "    }\n",
       "\n",
       "    .dataframe tbody tr th {\n",
       "        vertical-align: top;\n",
       "    }\n",
       "\n",
       "    .dataframe thead th {\n",
       "        text-align: right;\n",
       "    }\n",
       "</style>\n",
       "<table border=\"1\" class=\"dataframe\">\n",
       "  <thead>\n",
       "    <tr style=\"text-align: right;\">\n",
       "      <th></th>\n",
       "      <th>Zero Values</th>\n",
       "      <th>Missing Values</th>\n",
       "      <th>% of Total Values</th>\n",
       "      <th>Total Zero and Missing Values</th>\n",
       "      <th>Data Type</th>\n",
       "    </tr>\n",
       "  </thead>\n",
       "  <tbody>\n",
       "  </tbody>\n",
       "</table>\n",
       "</div>"
      ],
      "text/plain": [
       "Empty DataFrame\n",
       "Columns: [Zero Values, Missing Values, % of Total Values, Total Zero and Missing Values, Data Type]\n",
       "Index: []"
      ]
     },
     "execution_count": 8,
     "metadata": {},
     "output_type": "execute_result"
    }
   ],
   "source": [
    "# import from script files folder feature engineering script\n",
    "missing_values_table(train_df)"
   ]
  },
  {
   "cell_type": "markdown",
   "metadata": {},
   "source": [
    "As we can see we have no missing data"
   ]
  },
  {
   "cell_type": "markdown",
   "metadata": {},
   "source": [
    "__4. Which features are continuous or categorical__"
   ]
  },
  {
   "cell_type": "code",
   "execution_count": 9,
   "metadata": {},
   "outputs": [
    {
     "data": {
      "text/plain": [
       "Index(['id', 'flight_date', 'flight_number', 'departure_point',\n",
       "       'arrival_point', 'scheduled_time_departure', 'scheduled_time_arrival',\n",
       "       'flight_status', 'aircraft_code'],\n",
       "      dtype='object')"
      ]
     },
     "execution_count": 9,
     "metadata": {},
     "output_type": "execute_result"
    }
   ],
   "source": [
    "# All continuous variables\n",
    "train_df.select_dtypes(\"object\").columns"
   ]
  },
  {
   "cell_type": "code",
   "execution_count": 10,
   "metadata": {},
   "outputs": [
    {
     "data": {
      "text/html": [
       "<div>\n",
       "<style scoped>\n",
       "    .dataframe tbody tr th:only-of-type {\n",
       "        vertical-align: middle;\n",
       "    }\n",
       "\n",
       "    .dataframe tbody tr th {\n",
       "        vertical-align: top;\n",
       "    }\n",
       "\n",
       "    .dataframe thead th {\n",
       "        text-align: right;\n",
       "    }\n",
       "</style>\n",
       "<table border=\"1\" class=\"dataframe\">\n",
       "  <thead>\n",
       "    <tr style=\"text-align: right;\">\n",
       "      <th></th>\n",
       "      <th>count</th>\n",
       "      <th>mean</th>\n",
       "      <th>std</th>\n",
       "      <th>min</th>\n",
       "      <th>25%</th>\n",
       "      <th>50%</th>\n",
       "      <th>75%</th>\n",
       "      <th>max</th>\n",
       "    </tr>\n",
       "  </thead>\n",
       "  <tbody>\n",
       "    <tr>\n",
       "      <th>target</th>\n",
       "      <td>107833.0</td>\n",
       "      <td>48.733013</td>\n",
       "      <td>117.135562</td>\n",
       "      <td>0.0</td>\n",
       "      <td>0.0</td>\n",
       "      <td>14.0</td>\n",
       "      <td>43.0</td>\n",
       "      <td>3451.0</td>\n",
       "    </tr>\n",
       "  </tbody>\n",
       "</table>\n",
       "</div>"
      ],
      "text/plain": [
       "           count       mean         std  min  25%   50%   75%     max\n",
       "target  107833.0  48.733013  117.135562  0.0  0.0  14.0  43.0  3451.0"
      ]
     },
     "execution_count": 10,
     "metadata": {},
     "output_type": "execute_result"
    }
   ],
   "source": [
    "train_df.describe().T"
   ]
  },
  {
   "cell_type": "markdown",
   "metadata": {},
   "source": [
    "The maxinum and minimum duration of flight delay is 3451 minutes and 0 minutes respectively"
   ]
  },
  {
   "cell_type": "code",
   "execution_count": 11,
   "metadata": {},
   "outputs": [
    {
     "data": {
      "text/html": [
       "<div>\n",
       "<style scoped>\n",
       "    .dataframe tbody tr th:only-of-type {\n",
       "        vertical-align: middle;\n",
       "    }\n",
       "\n",
       "    .dataframe tbody tr th {\n",
       "        vertical-align: top;\n",
       "    }\n",
       "\n",
       "    .dataframe thead th {\n",
       "        text-align: right;\n",
       "    }\n",
       "</style>\n",
       "<table border=\"1\" class=\"dataframe\">\n",
       "  <thead>\n",
       "    <tr style=\"text-align: right;\">\n",
       "      <th></th>\n",
       "      <th>id</th>\n",
       "      <th>flight_date</th>\n",
       "      <th>flight_number</th>\n",
       "      <th>departure_point</th>\n",
       "      <th>arrival_point</th>\n",
       "      <th>scheduled_time_departure</th>\n",
       "      <th>scheduled_time_arrival</th>\n",
       "      <th>flight_status</th>\n",
       "      <th>aircraft_code</th>\n",
       "      <th>target</th>\n",
       "    </tr>\n",
       "  </thead>\n",
       "  <tbody>\n",
       "    <tr>\n",
       "      <th>0</th>\n",
       "      <td>train_id_0</td>\n",
       "      <td>2016-01-03</td>\n",
       "      <td>TU 0712</td>\n",
       "      <td>CMN</td>\n",
       "      <td>TUN</td>\n",
       "      <td>2016-01-03 10:30:00</td>\n",
       "      <td>2016-01-03 12.55.00</td>\n",
       "      <td>ATA</td>\n",
       "      <td>TU 32AIMN</td>\n",
       "      <td>260.0</td>\n",
       "    </tr>\n",
       "    <tr>\n",
       "      <th>1</th>\n",
       "      <td>train_id_1</td>\n",
       "      <td>2016-01-13</td>\n",
       "      <td>TU 0757</td>\n",
       "      <td>MXP</td>\n",
       "      <td>TUN</td>\n",
       "      <td>2016-01-13 15:05:00</td>\n",
       "      <td>2016-01-13 16.55.00</td>\n",
       "      <td>ATA</td>\n",
       "      <td>TU 31BIMO</td>\n",
       "      <td>20.0</td>\n",
       "    </tr>\n",
       "    <tr>\n",
       "      <th>2</th>\n",
       "      <td>train_id_2</td>\n",
       "      <td>2016-01-16</td>\n",
       "      <td>TU 0214</td>\n",
       "      <td>TUN</td>\n",
       "      <td>IST</td>\n",
       "      <td>2016-01-16 04:10:00</td>\n",
       "      <td>2016-01-16 06.45.00</td>\n",
       "      <td>ATA</td>\n",
       "      <td>TU 32AIMN</td>\n",
       "      <td>0.0</td>\n",
       "    </tr>\n",
       "    <tr>\n",
       "      <th>3</th>\n",
       "      <td>train_id_3</td>\n",
       "      <td>2016-01-17</td>\n",
       "      <td>TU 0480</td>\n",
       "      <td>DJE</td>\n",
       "      <td>NTE</td>\n",
       "      <td>2016-01-17 14:10:00</td>\n",
       "      <td>2016-01-17 17.00.00</td>\n",
       "      <td>ATA</td>\n",
       "      <td>TU 736IOK</td>\n",
       "      <td>0.0</td>\n",
       "    </tr>\n",
       "    <tr>\n",
       "      <th>4</th>\n",
       "      <td>train_id_4</td>\n",
       "      <td>2016-01-17</td>\n",
       "      <td>TU 0338</td>\n",
       "      <td>TUN</td>\n",
       "      <td>ALG</td>\n",
       "      <td>2016-01-17 14:30:00</td>\n",
       "      <td>2016-01-17 15.50.00</td>\n",
       "      <td>ATA</td>\n",
       "      <td>TU 320IMU</td>\n",
       "      <td>22.0</td>\n",
       "    </tr>\n",
       "    <tr>\n",
       "      <th>...</th>\n",
       "      <td>...</td>\n",
       "      <td>...</td>\n",
       "      <td>...</td>\n",
       "      <td>...</td>\n",
       "      <td>...</td>\n",
       "      <td>...</td>\n",
       "      <td>...</td>\n",
       "      <td>...</td>\n",
       "      <td>...</td>\n",
       "      <td>...</td>\n",
       "    </tr>\n",
       "    <tr>\n",
       "      <th>107828</th>\n",
       "      <td>train_id_107828</td>\n",
       "      <td>2018-07-05</td>\n",
       "      <td>WKL 0000</td>\n",
       "      <td>TUN</td>\n",
       "      <td>TUN</td>\n",
       "      <td>2018-07-05 23:00:00</td>\n",
       "      <td>2018-07-06 02.00.00</td>\n",
       "      <td>SCH</td>\n",
       "      <td>TU 32AIML</td>\n",
       "      <td>0.0</td>\n",
       "    </tr>\n",
       "    <tr>\n",
       "      <th>107829</th>\n",
       "      <td>train_id_107829</td>\n",
       "      <td>2018-01-13</td>\n",
       "      <td>UG 0003</td>\n",
       "      <td>DJE</td>\n",
       "      <td>TUN</td>\n",
       "      <td>2018-01-13 08:00:00</td>\n",
       "      <td>2018-01-13 09.00.00</td>\n",
       "      <td>SCH</td>\n",
       "      <td>UG AT7AT7</td>\n",
       "      <td>0.0</td>\n",
       "    </tr>\n",
       "    <tr>\n",
       "      <th>107830</th>\n",
       "      <td>train_id_107830</td>\n",
       "      <td>2018-11-07</td>\n",
       "      <td>SGT 0000</td>\n",
       "      <td>TUN</td>\n",
       "      <td>TUN</td>\n",
       "      <td>2018-11-07 05:00:00</td>\n",
       "      <td>2018-11-07 12.50.00</td>\n",
       "      <td>SCH</td>\n",
       "      <td>TU 736IOK</td>\n",
       "      <td>0.0</td>\n",
       "    </tr>\n",
       "    <tr>\n",
       "      <th>107831</th>\n",
       "      <td>train_id_107831</td>\n",
       "      <td>2018-01-23</td>\n",
       "      <td>UG 0010</td>\n",
       "      <td>TUN</td>\n",
       "      <td>DJE</td>\n",
       "      <td>2018-01-23 18:00:00</td>\n",
       "      <td>2018-01-23 18.45.00</td>\n",
       "      <td>ATA</td>\n",
       "      <td>TU CR9ISA</td>\n",
       "      <td>0.0</td>\n",
       "    </tr>\n",
       "    <tr>\n",
       "      <th>107832</th>\n",
       "      <td>train_id_107832</td>\n",
       "      <td>2018-11-13</td>\n",
       "      <td>UG 0002</td>\n",
       "      <td>TUN</td>\n",
       "      <td>DJE</td>\n",
       "      <td>2018-11-13 06:15:00</td>\n",
       "      <td>2018-11-13 07.05.00</td>\n",
       "      <td>SCH</td>\n",
       "      <td>TU CR9ISA</td>\n",
       "      <td>0.0</td>\n",
       "    </tr>\n",
       "  </tbody>\n",
       "</table>\n",
       "<p>107833 rows × 10 columns</p>\n",
       "</div>"
      ],
      "text/plain": [
       "                     id flight_date flight_number departure_point  \\\n",
       "0            train_id_0  2016-01-03      TU 0712              CMN   \n",
       "1            train_id_1  2016-01-13      TU 0757              MXP   \n",
       "2            train_id_2  2016-01-16      TU 0214              TUN   \n",
       "3            train_id_3  2016-01-17      TU 0480              DJE   \n",
       "4            train_id_4  2016-01-17      TU 0338              TUN   \n",
       "...                 ...         ...           ...             ...   \n",
       "107828  train_id_107828  2018-07-05     WKL 0000              TUN   \n",
       "107829  train_id_107829  2018-01-13      UG 0003              DJE   \n",
       "107830  train_id_107830  2018-11-07     SGT 0000              TUN   \n",
       "107831  train_id_107831  2018-01-23      UG 0010              TUN   \n",
       "107832  train_id_107832  2018-11-13      UG 0002              TUN   \n",
       "\n",
       "       arrival_point scheduled_time_departure scheduled_time_arrival  \\\n",
       "0                TUN      2016-01-03 10:30:00    2016-01-03 12.55.00   \n",
       "1                TUN      2016-01-13 15:05:00    2016-01-13 16.55.00   \n",
       "2                IST      2016-01-16 04:10:00    2016-01-16 06.45.00   \n",
       "3                NTE      2016-01-17 14:10:00    2016-01-17 17.00.00   \n",
       "4                ALG      2016-01-17 14:30:00    2016-01-17 15.50.00   \n",
       "...              ...                      ...                    ...   \n",
       "107828           TUN      2018-07-05 23:00:00    2018-07-06 02.00.00   \n",
       "107829           TUN      2018-01-13 08:00:00    2018-01-13 09.00.00   \n",
       "107830           TUN      2018-11-07 05:00:00    2018-11-07 12.50.00   \n",
       "107831           DJE      2018-01-23 18:00:00    2018-01-23 18.45.00   \n",
       "107832           DJE      2018-11-13 06:15:00    2018-11-13 07.05.00   \n",
       "\n",
       "       flight_status aircraft_code  target  \n",
       "0                ATA     TU 32AIMN   260.0  \n",
       "1                ATA     TU 31BIMO    20.0  \n",
       "2                ATA     TU 32AIMN     0.0  \n",
       "3                ATA     TU 736IOK     0.0  \n",
       "4                ATA     TU 320IMU    22.0  \n",
       "...              ...           ...     ...  \n",
       "107828           SCH     TU 32AIML     0.0  \n",
       "107829           SCH     UG AT7AT7     0.0  \n",
       "107830           SCH     TU 736IOK     0.0  \n",
       "107831           ATA     TU CR9ISA     0.0  \n",
       "107832           SCH     TU CR9ISA     0.0  \n",
       "\n",
       "[107833 rows x 10 columns]"
      ]
     },
     "execution_count": 11,
     "metadata": {},
     "output_type": "execute_result"
    }
   ],
   "source": [
    "train_df"
   ]
  },
  {
   "cell_type": "code",
   "execution_count": 18,
   "metadata": {},
   "outputs": [],
   "source": [
    "delays = train_df.query(\"target >= 10.0\")"
   ]
  },
  {
   "cell_type": "code",
   "execution_count": null,
   "metadata": {},
   "outputs": [],
   "source": [
    "on_time = train_df.query(\"target \")"
   ]
  },
  {
   "cell_type": "markdown",
   "metadata": {},
   "source": [
    "**Data Insights:**\n",
    "\n",
    "1. We have **3622** expressions for the price of sold houses: many houses were sold for the same price.\n",
    "2. Although the \"grade\" is an index from **1-13**, we have only **11** different values included.\n",
    "   -   [King County](https://info.kingcounty.gov/assessor/esales/Glossary.aspx?type=r)<br>\n",
    "  \n",
    "3. The houses in our dataset were built in **116** different years.<br>\n",
    "   \n",
    "4. On **average**, the houses in this data set cost **USD 540 296** . The **most expensive** house sold for **USD 7 700 000** , the **cheapest** for **USD 78 000**.\n",
    "5.  **50%** of the houses have **3** or less bedrooms. The house with the most bedrooms has 33! (does this make sense?)\n",
    "6.  on **average**, each house has **2.1** bathrooms per bedroom.\n",
    "7.  **75%** of houses have **2** or fewer floors.\n",
    "8.  only **10%** of the houses have a view to the Waterfront (Since waterfront only carries the values 0 and 1, i.e. for true or false, the average can be interpreted as a percentage number for houses with waterfront.).\n",
    "9.  the **oldest house** in our dataset is from **1900**, the **newest house** from 2015."
   ]
  },
  {
   "cell_type": "markdown",
   "metadata": {},
   "source": [
    "## Exploratory Data Analysis"
   ]
  },
  {
   "cell_type": "code",
   "execution_count": 12,
   "metadata": {},
   "outputs": [],
   "source": [
    "depart10 = train_df['departure_point'].value_counts().head(10).to_frame().reset_index()\n",
    "depart10.columns = ['departure_point', 'Count']"
   ]
  },
  {
   "cell_type": "code",
   "execution_count": 13,
   "metadata": {},
   "outputs": [],
   "source": [
    "arrival10 = train_df['arrival_point'].value_counts().head(10).to_frame().reset_index()\n",
    "arrival10.columns = ['arrival_point', 'Count']"
   ]
  },
  {
   "cell_type": "code",
   "execution_count": null,
   "metadata": {},
   "outputs": [],
   "source": []
  },
  {
   "cell_type": "markdown",
   "metadata": {},
   "source": [
    "## Feature Engineering"
   ]
  },
  {
   "cell_type": "code",
   "execution_count": 14,
   "metadata": {},
   "outputs": [
    {
     "ename": "KeyError",
     "evalue": "'flight_length'",
     "output_type": "error",
     "traceback": [
      "\u001b[0;31m---------------------------------------------------------------------------\u001b[0m",
      "\u001b[0;31mKeyError\u001b[0m                                  Traceback (most recent call last)",
      "File \u001b[0;32m~/Documents/neue_fische_DS/Flight_Delayed_Challenge/.venv/lib/python3.9/site-packages/pandas/core/indexes/base.py:3361\u001b[0m, in \u001b[0;36mIndex.get_loc\u001b[0;34m(self, key, method, tolerance)\u001b[0m\n\u001b[1;32m   <a href='file:///Users/evo/Documents/neue_fische_DS/Flight_Delayed_Challenge/.venv/lib/python3.9/site-packages/pandas/core/indexes/base.py?line=3359'>3360</a>\u001b[0m \u001b[39mtry\u001b[39;00m:\n\u001b[0;32m-> <a href='file:///Users/evo/Documents/neue_fische_DS/Flight_Delayed_Challenge/.venv/lib/python3.9/site-packages/pandas/core/indexes/base.py?line=3360'>3361</a>\u001b[0m     \u001b[39mreturn\u001b[39;00m \u001b[39mself\u001b[39;49m\u001b[39m.\u001b[39;49m_engine\u001b[39m.\u001b[39;49mget_loc(casted_key)\n\u001b[1;32m   <a href='file:///Users/evo/Documents/neue_fische_DS/Flight_Delayed_Challenge/.venv/lib/python3.9/site-packages/pandas/core/indexes/base.py?line=3361'>3362</a>\u001b[0m \u001b[39mexcept\u001b[39;00m \u001b[39mKeyError\u001b[39;00m \u001b[39mas\u001b[39;00m err:\n",
      "File \u001b[0;32m~/Documents/neue_fische_DS/Flight_Delayed_Challenge/.venv/lib/python3.9/site-packages/pandas/_libs/index.pyx:76\u001b[0m, in \u001b[0;36mpandas._libs.index.IndexEngine.get_loc\u001b[0;34m()\u001b[0m\n",
      "File \u001b[0;32m~/Documents/neue_fische_DS/Flight_Delayed_Challenge/.venv/lib/python3.9/site-packages/pandas/_libs/index.pyx:108\u001b[0m, in \u001b[0;36mpandas._libs.index.IndexEngine.get_loc\u001b[0;34m()\u001b[0m\n",
      "File \u001b[0;32mpandas/_libs/hashtable_class_helper.pxi:5198\u001b[0m, in \u001b[0;36mpandas._libs.hashtable.PyObjectHashTable.get_item\u001b[0;34m()\u001b[0m\n",
      "File \u001b[0;32mpandas/_libs/hashtable_class_helper.pxi:5206\u001b[0m, in \u001b[0;36mpandas._libs.hashtable.PyObjectHashTable.get_item\u001b[0;34m()\u001b[0m\n",
      "\u001b[0;31mKeyError\u001b[0m: 'flight_length'",
      "\nThe above exception was the direct cause of the following exception:\n",
      "\u001b[0;31mKeyError\u001b[0m                                  Traceback (most recent call last)",
      "\u001b[1;32m/Users/evo/Documents/neue_fische_DS/Flight_Delayed_Challenge/flight_delayed_challange.ipynb Cell 39'\u001b[0m in \u001b[0;36m<cell line: 4>\u001b[0;34m()\u001b[0m\n\u001b[1;32m      <a href='vscode-notebook-cell:/Users/evo/Documents/neue_fische_DS/Flight_Delayed_Challenge/flight_delayed_challange.ipynb#ch0000036?line=1'>2</a>\u001b[0m time_data(train_df)\n\u001b[1;32m      <a href='vscode-notebook-cell:/Users/evo/Documents/neue_fische_DS/Flight_Delayed_Challenge/flight_delayed_challange.ipynb#ch0000036?line=2'>3</a>\u001b[0m \u001b[39m# create a column for flight length\u001b[39;00m\n\u001b[0;32m----> <a href='vscode-notebook-cell:/Users/evo/Documents/neue_fische_DS/Flight_Delayed_Challenge/flight_delayed_challange.ipynb#ch0000036?line=3'>4</a>\u001b[0m train_df[\u001b[39m\"\u001b[39m\u001b[39mflight_length\u001b[39m\u001b[39m\"\u001b[39m] \u001b[39m=\u001b[39m train_df[\u001b[39m\"\u001b[39;49m\u001b[39mflight_length\u001b[39;49m\u001b[39m\"\u001b[39;49m]\u001b[39m.\u001b[39mapply(\u001b[39mlambda\u001b[39;00m x: x\u001b[39m.\u001b[39mtotal_seconds()\u001b[39m/\u001b[39m\u001b[39m60\u001b[39m)\n",
      "File \u001b[0;32m~/Documents/neue_fische_DS/Flight_Delayed_Challenge/.venv/lib/python3.9/site-packages/pandas/core/frame.py:3458\u001b[0m, in \u001b[0;36mDataFrame.__getitem__\u001b[0;34m(self, key)\u001b[0m\n\u001b[1;32m   <a href='file:///Users/evo/Documents/neue_fische_DS/Flight_Delayed_Challenge/.venv/lib/python3.9/site-packages/pandas/core/frame.py?line=3455'>3456</a>\u001b[0m \u001b[39mif\u001b[39;00m \u001b[39mself\u001b[39m\u001b[39m.\u001b[39mcolumns\u001b[39m.\u001b[39mnlevels \u001b[39m>\u001b[39m \u001b[39m1\u001b[39m:\n\u001b[1;32m   <a href='file:///Users/evo/Documents/neue_fische_DS/Flight_Delayed_Challenge/.venv/lib/python3.9/site-packages/pandas/core/frame.py?line=3456'>3457</a>\u001b[0m     \u001b[39mreturn\u001b[39;00m \u001b[39mself\u001b[39m\u001b[39m.\u001b[39m_getitem_multilevel(key)\n\u001b[0;32m-> <a href='file:///Users/evo/Documents/neue_fische_DS/Flight_Delayed_Challenge/.venv/lib/python3.9/site-packages/pandas/core/frame.py?line=3457'>3458</a>\u001b[0m indexer \u001b[39m=\u001b[39m \u001b[39mself\u001b[39;49m\u001b[39m.\u001b[39;49mcolumns\u001b[39m.\u001b[39;49mget_loc(key)\n\u001b[1;32m   <a href='file:///Users/evo/Documents/neue_fische_DS/Flight_Delayed_Challenge/.venv/lib/python3.9/site-packages/pandas/core/frame.py?line=3458'>3459</a>\u001b[0m \u001b[39mif\u001b[39;00m is_integer(indexer):\n\u001b[1;32m   <a href='file:///Users/evo/Documents/neue_fische_DS/Flight_Delayed_Challenge/.venv/lib/python3.9/site-packages/pandas/core/frame.py?line=3459'>3460</a>\u001b[0m     indexer \u001b[39m=\u001b[39m [indexer]\n",
      "File \u001b[0;32m~/Documents/neue_fische_DS/Flight_Delayed_Challenge/.venv/lib/python3.9/site-packages/pandas/core/indexes/base.py:3363\u001b[0m, in \u001b[0;36mIndex.get_loc\u001b[0;34m(self, key, method, tolerance)\u001b[0m\n\u001b[1;32m   <a href='file:///Users/evo/Documents/neue_fische_DS/Flight_Delayed_Challenge/.venv/lib/python3.9/site-packages/pandas/core/indexes/base.py?line=3360'>3361</a>\u001b[0m         \u001b[39mreturn\u001b[39;00m \u001b[39mself\u001b[39m\u001b[39m.\u001b[39m_engine\u001b[39m.\u001b[39mget_loc(casted_key)\n\u001b[1;32m   <a href='file:///Users/evo/Documents/neue_fische_DS/Flight_Delayed_Challenge/.venv/lib/python3.9/site-packages/pandas/core/indexes/base.py?line=3361'>3362</a>\u001b[0m     \u001b[39mexcept\u001b[39;00m \u001b[39mKeyError\u001b[39;00m \u001b[39mas\u001b[39;00m err:\n\u001b[0;32m-> <a href='file:///Users/evo/Documents/neue_fische_DS/Flight_Delayed_Challenge/.venv/lib/python3.9/site-packages/pandas/core/indexes/base.py?line=3362'>3363</a>\u001b[0m         \u001b[39mraise\u001b[39;00m \u001b[39mKeyError\u001b[39;00m(key) \u001b[39mfrom\u001b[39;00m \u001b[39merr\u001b[39;00m\n\u001b[1;32m   <a href='file:///Users/evo/Documents/neue_fische_DS/Flight_Delayed_Challenge/.venv/lib/python3.9/site-packages/pandas/core/indexes/base.py?line=3364'>3365</a>\u001b[0m \u001b[39mif\u001b[39;00m is_scalar(key) \u001b[39mand\u001b[39;00m isna(key) \u001b[39mand\u001b[39;00m \u001b[39mnot\u001b[39;00m \u001b[39mself\u001b[39m\u001b[39m.\u001b[39mhasnans:\n\u001b[1;32m   <a href='file:///Users/evo/Documents/neue_fische_DS/Flight_Delayed_Challenge/.venv/lib/python3.9/site-packages/pandas/core/indexes/base.py?line=3365'>3366</a>\u001b[0m     \u001b[39mraise\u001b[39;00m \u001b[39mKeyError\u001b[39;00m(key)\n",
      "\u001b[0;31mKeyError\u001b[0m: 'flight_length'"
     ]
    }
   ],
   "source": [
    "# import from script files folder feature engineering script\n",
    "time_data(train_df)\n",
    "# create a column for flight length\n",
    "train_df[\"flight_length\"] = train_df[\"flight_length\"].apply(lambda x: x.total_seconds()/60)"
   ]
  },
  {
   "cell_type": "code",
   "execution_count": null,
   "metadata": {},
   "outputs": [],
   "source": [
    "airports"
   ]
  },
  {
   "cell_type": "markdown",
   "metadata": {},
   "source": [
    "## Exploratory Data Analysis"
   ]
  }
 ],
 "metadata": {
  "interpreter": {
   "hash": "f48cdc65bef060b72a4a159d0e03946f8d40da66aeb01231ade7a7fb4d9b8429"
  },
  "kernelspec": {
   "display_name": "Python 3.9.8 ('.venv': venv)",
   "language": "python",
   "name": "python3"
  },
  "language_info": {
   "codemirror_mode": {
    "name": "ipython",
    "version": 3
   },
   "file_extension": ".py",
   "mimetype": "text/x-python",
   "name": "python",
   "nbconvert_exporter": "python",
   "pygments_lexer": "ipython3",
   "version": "3.9.8"
  },
  "orig_nbformat": 4
 },
 "nbformat": 4,
 "nbformat_minor": 2
}
