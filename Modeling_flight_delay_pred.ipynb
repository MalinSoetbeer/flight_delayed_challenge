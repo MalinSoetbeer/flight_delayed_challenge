{
 "cells": [
  {
   "cell_type": "markdown",
   "metadata": {},
   "source": [
    "# Modelling for Flight Delay Prediction"
   ]
  },
  {
   "cell_type": "markdown",
   "metadata": {},
   "source": [
    "## Import\n",
    "Import of relevant packages"
   ]
  },
  {
   "cell_type": "code",
   "execution_count": 2,
   "metadata": {},
   "outputs": [],
   "source": [
    "# Import \n",
    "import pandas as pd\n",
    "import numpy as np\n",
    "import seaborn as sns\n",
    "import matplotlib.pyplot as plt\n",
    "%matplotlib inline\n",
    "\n",
    "import warnings\n",
    "warnings.filterwarnings('ignore')\n",
    "\n",
    "from sklearn.model_selection import train_test_split\n",
    "from sklearn.metrics import f1_score ,classification_report, mean_squared_error, make_scorer\n",
    "from sklearn.pipeline import Pipeline\n",
    "from sklearn.compose import ColumnTransformer\n",
    "from sklearn.preprocessing import OneHotEncoder, StandardScaler\n",
    "from sklearn.impute import SimpleImputer\n",
    "from sklearn.experimental import enable_halving_search_cv\n",
    "from sklearn.model_selection import GridSearchCV, HalvingGridSearchCV\n",
    "\n",
    "# Import models\n",
    "from sklearn.linear_model import LogisticRegression, LinearRegression, SGDClassifier, SGDRegressor\n",
    "from sklearn.neighbors import KNeighborsClassifier, KNeighborsRegressor\n",
    "from sklearn.tree import DecisionTreeClassifier, DecisionTreeRegressor\n",
    "from sklearn.ensemble import RandomForestClassifier, RandomForestRegressor, AdaBoostClassifier, AdaBoostRegressor\n",
    "from sklearn.svm import SVC\n",
    "from sklearn.naive_bayes import GaussianNB\n",
    "from sklearn import svm\n",
    "from xgboost import XGBClassifier, XGBRegressor\n",
    "\n",
    "from tqdm.notebook import tqdm,trange\n",
    "import time \n",
    "\n",
    "# Import scripts\n",
    "from script_files.feature_engineering import *\n",
    "from script_files.prepare_flight_data import *\n",
    "from script_files.dummies import *\n",
    "from script_files.predict import *\n",
    "\n",
    "RSEED = 42"
   ]
  },
  {
   "cell_type": "code",
   "execution_count": 3,
   "metadata": {},
   "outputs": [
    {
     "data": {
      "text/html": [
       "<div>\n",
       "<style scoped>\n",
       "    .dataframe tbody tr th:only-of-type {\n",
       "        vertical-align: middle;\n",
       "    }\n",
       "\n",
       "    .dataframe tbody tr th {\n",
       "        vertical-align: top;\n",
       "    }\n",
       "\n",
       "    .dataframe thead th {\n",
       "        text-align: right;\n",
       "    }\n",
       "</style>\n",
       "<table border=\"1\" class=\"dataframe\">\n",
       "  <thead>\n",
       "    <tr style=\"text-align: right;\">\n",
       "      <th></th>\n",
       "      <th>ID</th>\n",
       "      <th>DATOP</th>\n",
       "      <th>FLTID</th>\n",
       "      <th>DEPSTN</th>\n",
       "      <th>ARRSTN</th>\n",
       "      <th>STD</th>\n",
       "      <th>STA</th>\n",
       "      <th>STATUS</th>\n",
       "      <th>AC</th>\n",
       "      <th>target</th>\n",
       "      <th>...</th>\n",
       "      <th>delayed</th>\n",
       "      <th>domestic</th>\n",
       "      <th>dep_hour</th>\n",
       "      <th>dep_weekday</th>\n",
       "      <th>duration_min</th>\n",
       "      <th>arr_hour</th>\n",
       "      <th>flight_month</th>\n",
       "      <th>flight_month_name</th>\n",
       "      <th>year</th>\n",
       "      <th>distance</th>\n",
       "    </tr>\n",
       "  </thead>\n",
       "  <tbody>\n",
       "    <tr>\n",
       "      <th>0</th>\n",
       "      <td>train_id_15674</td>\n",
       "      <td>2016-01-01 00:00:00</td>\n",
       "      <td>TU 0564</td>\n",
       "      <td>NKC</td>\n",
       "      <td>TUN</td>\n",
       "      <td>2016-01-01 00:15:00</td>\n",
       "      <td>2016-01-01 04:30:00</td>\n",
       "      <td>ATA</td>\n",
       "      <td>TU 320IMV</td>\n",
       "      <td>0.0</td>\n",
       "      <td>...</td>\n",
       "      <td>0</td>\n",
       "      <td>0</td>\n",
       "      <td>0</td>\n",
       "      <td>Friday</td>\n",
       "      <td>255.0</td>\n",
       "      <td>4</td>\n",
       "      <td>1</td>\n",
       "      <td>January</td>\n",
       "      <td>2016</td>\n",
       "      <td>3298.067996</td>\n",
       "    </tr>\n",
       "    <tr>\n",
       "      <th>1</th>\n",
       "      <td>train_id_15676</td>\n",
       "      <td>2016-01-01 00:00:00</td>\n",
       "      <td>TU 0714</td>\n",
       "      <td>JED</td>\n",
       "      <td>TUN</td>\n",
       "      <td>2016-01-01 00:55:00</td>\n",
       "      <td>2016-01-01 05:30:00</td>\n",
       "      <td>ATA</td>\n",
       "      <td>TU 332IFM</td>\n",
       "      <td>195.0</td>\n",
       "      <td>...</td>\n",
       "      <td>1</td>\n",
       "      <td>0</td>\n",
       "      <td>0</td>\n",
       "      <td>Friday</td>\n",
       "      <td>275.0</td>\n",
       "      <td>5</td>\n",
       "      <td>1</td>\n",
       "      <td>January</td>\n",
       "      <td>2016</td>\n",
       "      <td>3256.052105</td>\n",
       "    </tr>\n",
       "    <tr>\n",
       "      <th>2</th>\n",
       "      <td>train_id_15675</td>\n",
       "      <td>2016-01-01 00:00:00</td>\n",
       "      <td>TU 0614</td>\n",
       "      <td>DKR</td>\n",
       "      <td>TUN</td>\n",
       "      <td>2016-01-01 01:20:00</td>\n",
       "      <td>2016-01-01 05:55:00</td>\n",
       "      <td>ATA</td>\n",
       "      <td>TU 320IMU</td>\n",
       "      <td>49.0</td>\n",
       "      <td>...</td>\n",
       "      <td>1</td>\n",
       "      <td>0</td>\n",
       "      <td>1</td>\n",
       "      <td>Friday</td>\n",
       "      <td>275.0</td>\n",
       "      <td>5</td>\n",
       "      <td>1</td>\n",
       "      <td>January</td>\n",
       "      <td>2016</td>\n",
       "      <td>3678.974557</td>\n",
       "    </tr>\n",
       "    <tr>\n",
       "      <th>3</th>\n",
       "      <td>train_id_30980</td>\n",
       "      <td>2016-01-01 00:00:00</td>\n",
       "      <td>UG 0002</td>\n",
       "      <td>TUN</td>\n",
       "      <td>DJE</td>\n",
       "      <td>2016-01-01 06:15:00</td>\n",
       "      <td>2016-01-01 07:15:00</td>\n",
       "      <td>SCH</td>\n",
       "      <td>UG AT7LBD</td>\n",
       "      <td>0.0</td>\n",
       "      <td>...</td>\n",
       "      <td>0</td>\n",
       "      <td>1</td>\n",
       "      <td>6</td>\n",
       "      <td>Friday</td>\n",
       "      <td>60.0</td>\n",
       "      <td>7</td>\n",
       "      <td>1</td>\n",
       "      <td>January</td>\n",
       "      <td>2016</td>\n",
       "      <td>333.916459</td>\n",
       "    </tr>\n",
       "    <tr>\n",
       "      <th>4</th>\n",
       "      <td>train_id_7179</td>\n",
       "      <td>2016-01-01 00:00:00</td>\n",
       "      <td>TU 0880</td>\n",
       "      <td>TUN</td>\n",
       "      <td>AMS</td>\n",
       "      <td>2016-01-01 06:30:00</td>\n",
       "      <td>2016-01-01 09:20:00</td>\n",
       "      <td>ATA</td>\n",
       "      <td>TU 736IOP</td>\n",
       "      <td>36.0</td>\n",
       "      <td>...</td>\n",
       "      <td>1</td>\n",
       "      <td>0</td>\n",
       "      <td>6</td>\n",
       "      <td>Friday</td>\n",
       "      <td>170.0</td>\n",
       "      <td>9</td>\n",
       "      <td>1</td>\n",
       "      <td>January</td>\n",
       "      <td>2016</td>\n",
       "      <td>1770.371959</td>\n",
       "    </tr>\n",
       "  </tbody>\n",
       "</table>\n",
       "<p>5 rows × 41 columns</p>\n",
       "</div>"
      ],
      "text/plain": [
       "               ID                DATOP     FLTID DEPSTN ARRSTN  \\\n",
       "0  train_id_15674  2016-01-01 00:00:00  TU 0564     NKC    TUN   \n",
       "1  train_id_15676  2016-01-01 00:00:00  TU 0714     JED    TUN   \n",
       "2  train_id_15675  2016-01-01 00:00:00  TU 0614     DKR    TUN   \n",
       "3  train_id_30980  2016-01-01 00:00:00  UG 0002     TUN    DJE   \n",
       "4   train_id_7179  2016-01-01 00:00:00  TU 0880     TUN    AMS   \n",
       "\n",
       "                   STD                  STA STATUS         AC  target  ...  \\\n",
       "0  2016-01-01 00:15:00  2016-01-01 04:30:00    ATA  TU 320IMV     0.0  ...   \n",
       "1  2016-01-01 00:55:00  2016-01-01 05:30:00    ATA  TU 332IFM   195.0  ...   \n",
       "2  2016-01-01 01:20:00  2016-01-01 05:55:00    ATA  TU 320IMU    49.0  ...   \n",
       "3  2016-01-01 06:15:00  2016-01-01 07:15:00    SCH  UG AT7LBD     0.0  ...   \n",
       "4  2016-01-01 06:30:00  2016-01-01 09:20:00    ATA  TU 736IOP    36.0  ...   \n",
       "\n",
       "  delayed domestic dep_hour dep_weekday duration_min arr_hour  flight_month  \\\n",
       "0       0        0        0      Friday        255.0        4             1   \n",
       "1       1        0        0      Friday        275.0        5             1   \n",
       "2       1        0        1      Friday        275.0        5             1   \n",
       "3       0        1        6      Friday         60.0        7             1   \n",
       "4       1        0        6      Friday        170.0        9             1   \n",
       "\n",
       "   flight_month_name  year     distance  \n",
       "0            January  2016  3298.067996  \n",
       "1            January  2016  3256.052105  \n",
       "2            January  2016  3678.974557  \n",
       "3            January  2016   333.916459  \n",
       "4            January  2016  1770.371959  \n",
       "\n",
       "[5 rows x 41 columns]"
      ]
     },
     "execution_count": 3,
     "metadata": {},
     "output_type": "execute_result"
    }
   ],
   "source": [
    "# Loading the data in and Shape to fit\n",
    "train_df = pd.read_csv('data/final_train.csv', index_col=[0])\n",
    "train_df.head()"
   ]
  },
  {
   "cell_type": "markdown",
   "metadata": {},
   "source": [
    "## Feature Engineering\n",
    "Firstly we drop a number of columns that we should not use for modeling. Afterwards we separate the data set into features and the response that we are going to predict. "
   ]
  },
  {
   "cell_type": "code",
   "execution_count": 4,
   "metadata": {},
   "outputs": [],
   "source": [
    "# List of dropping feature for classification\n",
    "drop_features_class = ['DATOP', 'ID','FLTID','STD', 'STA','target','icao_DEP', 'iata_DEP', 'name_DEP', 'city_DEP',\n",
    "       'subd_DEP', 'country_DEP', 'elevation_DEP', 'lat_DEP', 'lon_DEP',\n",
    "       'tz_DEP', 'icao_ARR', 'iata_ARR', 'name_ARR', 'city_ARR', 'subd_ARR',\n",
    "       'country_ARR', 'elevation_ARR', 'lat_ARR', 'lon_ARR', 'tz_ARR','arr_hour', 'flight_month','delay_or_onTime', 'delayed']"
   ]
  },
  {
   "cell_type": "code",
   "execution_count": 5,
   "metadata": {},
   "outputs": [],
   "source": [
    "# List of dropping feature for regression\n",
    "drop_features_reg = ['DATOP', 'ID','FLTID','STD', 'STA','icao_DEP', 'iata_DEP', 'name_DEP', 'city_DEP',\n",
    "       'subd_DEP', 'country_DEP', 'elevation_DEP', 'lat_DEP', 'lon_DEP',\n",
    "       'tz_DEP', 'icao_ARR', 'iata_ARR', 'name_ARR', 'city_ARR', 'subd_ARR',\n",
    "       'country_ARR', 'elevation_ARR', 'lat_ARR', 'lon_ARR', 'tz_ARR','arr_hour', 'flight_month','delay_or_onTime', 'target']"
   ]
  },
  {
   "cell_type": "code",
   "execution_count": 6,
   "metadata": {},
   "outputs": [],
   "source": [
    "# Feature and target variable for Classification modelling\n",
    "X_class = drop_column(train_df, drop_features_class)\n",
    "y_class = train_df['delayed']\n",
    "# Feature and target variable for Regression modelling\n",
    "X_reg = drop_column(train_df.query(\"delayed == 1\"), drop_features_reg)\n",
    "y_reg = train_df.query(\"delayed == 1\")['target']"
   ]
  },
  {
   "cell_type": "markdown",
   "metadata": {},
   "source": [
    "### Shuffle and Split Data\n",
    "80% of the data will be used for training and 20% for testing.  "
   ]
  },
  {
   "cell_type": "code",
   "execution_count": 7,
   "metadata": {},
   "outputs": [
    {
     "name": "stdout",
     "output_type": "stream",
     "text": [
      "Train data\n",
      "# Training data for classification:     81848\n",
      "# Training data for regression     46072\n",
      "==================\n",
      "Test data\n",
      "# Test data for classification:     20462\n",
      "# Test data for regression:     11518\n"
     ]
    }
   ],
   "source": [
    "# Split the 'features' and 'target' data into training and testing sets for classification\n",
    "X_train_class, X_test_class, y_train_class, y_test_class = train_test_split(X_class, y_class, test_size=0.2, stratify=y_class, random_state=RSEED)\n",
    "# Split the 'features' and 'target' data into training and testing sets for classification\n",
    "X_train_reg, X_test_reg, y_train_reg, y_test_reg = train_test_split(X_reg, y_reg, test_size=0.2, random_state=RSEED)\n",
    "\n",
    "# resetting indices\n",
    "reset_indices(X_train_class,X_test_class,X_train_reg,X_test_reg)\n",
    "\n",
    "# Print shape of the test and train data\n",
    "print('Train data')\n",
    "print('# Training data for classification:     {}'.format(X_train_class.shape[0]))\n",
    "print('# Training data for regression     {}'.format(X_train_reg.shape[0]))\n",
    "print('==================')\n",
    "print('Test data')\n",
    "print('# Test data for classification:     {}'.format(X_test_class.shape[0]))\n",
    "print('# Test data for regression:     {}'.format(X_test_reg.shape[0]))\n"
   ]
  },
  {
   "cell_type": "markdown",
   "metadata": {},
   "source": [
    "## Baseline Model\n",
    "\n",
    "Before we start training our first model, we should define a proper baseline model."
   ]
  },
  {
   "cell_type": "markdown",
   "metadata": {},
   "source": [
    "### Classification"
   ]
  },
  {
   "cell_type": "code",
   "execution_count": 8,
   "metadata": {},
   "outputs": [
    {
     "name": "stdout",
     "output_type": "stream",
     "text": [
      "                       Baseline Model\n",
      "============================================================\n",
      "             F1 macro avg. score: 0.5756225441245043\n",
      "------------------------------------------------------------\n",
      "              precision    recall  f1-score   support\n",
      "\n",
      "           0       0.84      0.26      0.39      8944\n",
      "           1       0.63      0.96      0.76     11518\n",
      "\n",
      "    accuracy                           0.65     20462\n",
      "   macro avg       0.73      0.61      0.58     20462\n",
      "weighted avg       0.72      0.65      0.60     20462\n",
      "\n",
      "------------------------------------------------------------\n"
     ]
    },
    {
     "data": {
      "image/png": "[encoded data removed]",
      "text/plain": [
       "<Figure size 432x288 with 2 Axes>"
      ]
     },
     "metadata": {
      "needs_background": "light"
     },
     "output_type": "display_data"
    }
   ],
   "source": [
    "# Plot confusion matrix and classification report for the baseline model\n",
    "# Creating a naive predictions based on the flight being domestic or not\n",
    "y_pred_dumm_class = dummie_class(X_test_class)\n",
    "\n",
    "print(\"                       Baseline Model\")\n",
    "print(\"===\"*20)\n",
    "print('             F1 macro avg. score:', f1_score(y_test_class, y_pred_dumm_class, average='macro'))\n",
    "print(\"---\"*20)\n",
    "print(classification_report(y_test_class, y_pred_dumm_class))\n",
    "print(\"---\"*20)\n",
    "plot_confusion_matrix(y_test_class, y_pred_dumm_class)"
   ]
  },
  {
   "cell_type": "markdown",
   "metadata": {},
   "source": [
    "Our baseline model reaches a accuracy of 67% and what is even more important a F1 score of 61%. That is the value we have to beat with our more sophisticated models."
   ]
  },
  {
   "cell_type": "markdown",
   "metadata": {},
   "source": [
    "### Regression"
   ]
  },
  {
   "cell_type": "code",
   "execution_count": 9,
   "metadata": {},
   "outputs": [],
   "source": [
    "# Creating a Dummie regressor that always predicts the same value\n",
    "y_pred_dumm_reg = dummie_reg(X_test_reg)"
   ]
  },
  {
   "cell_type": "code",
   "execution_count": 10,
   "metadata": {},
   "outputs": [
    {
     "name": "stdout",
     "output_type": "stream",
     "text": [
      "                 Linear Regression Model:\n",
      "============================================================\n",
      "                 RSME: 140.09043602473963\n",
      "============================================================\n"
     ]
    }
   ],
   "source": [
    "print(\"                 Linear Regression Model:\")\n",
    "print(\"===\"*20)\n",
    "print(\"                 RSME:\",mean_squared_error(y_test_reg, y_pred_dumm_reg,squared=False))\n",
    "print(\"===\"*20)"
   ]
  },
  {
   "cell_type": "code",
   "execution_count": null,
   "metadata": {},
   "outputs": [],
   "source": []
  },
  {
   "cell_type": "markdown",
   "metadata": {},
   "source": [
    "### Error Analyse"
   ]
  },
  {
   "cell_type": "markdown",
   "metadata": {},
   "source": [
    "To validate our regression models, we use a residual plot to visually confirm the validity of your model."
   ]
  },
  {
   "cell_type": "code",
   "execution_count": 11,
   "metadata": {},
   "outputs": [
    {
     "data": {
      "image/png": "[encoded data removed]",
      "text/plain": [
       "<Figure size 1080x360 with 2 Axes>"
      ]
     },
     "metadata": {
      "needs_background": "light"
     },
     "output_type": "display_data"
    }
   ],
   "source": [
    "error_analysis(y_test_reg, y_pred_dumm_reg)"
   ]
  },
  {
   "cell_type": "markdown",
   "metadata": {},
   "source": [
    "## Data Preprocessing\n",
    "From the table in **Exploring the Data**, we can see there are several features for each record that are non-numeric. So we create  _\"dummy\"_ variables for each possible category of each non-numeric feature.\n",
    "\n",
    "We also applying scaling to the numerical features in this case we Standatizing ensures that each numerical "
   ]
  },
  {
   "cell_type": "code",
   "execution_count": 12,
   "metadata": {},
   "outputs": [],
   "source": [
    "# Creating list for categorical predictors/features \n",
    "# (dates are also objects so if you have them in your data you would deal with them first)\n",
    "cat_features = ['DEPSTN', 'ARRSTN', 'STATUS', 'AC', 'domestic', 'dep_hour', 'dep_weekday', 'flight_month_name', 'year']\n",
    "\n",
    "num_features = ['duration_min', 'distance']"
   ]
  },
  {
   "cell_type": "markdown",
   "metadata": {},
   "source": [
    "#### Scaling and Encoding: Classification features"
   ]
  },
  {
   "cell_type": "code",
   "execution_count": 13,
   "metadata": {},
   "outputs": [],
   "source": [
    "# Initialize a scaler, then apply it to the features \n",
    "scaler_class = StandardScaler()\n",
    "scaler_class.fit(X_train_class[num_features])\n",
    "X_train_class[num_features] = scaler_class.transform(X_train_class[num_features])\n",
    "X_test_class[num_features] = scaler_class.transform(X_test_class[num_features])\n",
    "\n",
    "# Rename the columns from the Encoded df\n",
    "col = OneHotEncoder_labels(X_train_class, cat_features)\n",
    "\n",
    "# One-hot encode the 'features' data using sklearn OneHotEncoder to Encode categorical features as a one-hot numeric array.\n",
    "encoder_class = OneHotEncoder(handle_unknown='ignore', sparse=False, drop='first')\n",
    "encoder_class.fit(X_train_class[cat_features])\n",
    "\n",
    "# Fit OneHotEncoder to X, then transform X. Here Train Data\n",
    "X_train_dummie_columns = pd.DataFrame(encoder_class.transform(X_train_class[cat_features]))\n",
    "X_train_class = X_train_class.drop(cat_features, axis=1)\n",
    "X_train_class = X_train_class.join(X_train_dummie_columns)\n",
    "X_train_class.columns = col\n",
    "\n",
    "# Fit OneHotEncoder to X, then transform X. Here Test Data\n",
    "X_test_dummie_columns = pd.DataFrame(encoder_class.transform(X_test_class[cat_features]))\n",
    "X_test_class = X_test_class.drop(cat_features, axis=1)\n",
    "X_test_class = X_test_class.join(X_test_dummie_columns)\n",
    "X_test_class.columns = col"
   ]
  },
  {
   "cell_type": "markdown",
   "metadata": {},
   "source": [
    "#### Scaling and Encoding: Regression features"
   ]
  },
  {
   "cell_type": "code",
   "execution_count": 14,
   "metadata": {},
   "outputs": [],
   "source": [
    "scaler_reg = StandardScaler()\n",
    "scaler_reg.fit(X_train_reg[num_features])\n",
    "X_train_reg[num_features] = scaler_reg.transform(X_train_reg[num_features])\n",
    "X_test_reg[num_features] = scaler_reg.transform(X_test_reg[num_features])\n",
    "\n",
    "col2 = OneHotEncoder_labels(X_train_reg, cat_features)\n",
    "\n",
    "encoder_reg = OneHotEncoder(handle_unknown='ignore', sparse=False, drop='first')\n",
    "encoder_reg.fit(X_train_reg[cat_features])\n",
    "\n",
    "X_train_dummie_columns = pd.DataFrame(encoder_reg.transform(X_train_reg[cat_features]))\n",
    "X_train_reg = X_train_reg.drop(cat_features, axis=1)\n",
    "X_train_reg = X_train_reg.join(X_train_dummie_columns)\n",
    "X_train_reg.columns = col2\n",
    "\n",
    "X_test_dummie_columns = pd.DataFrame(encoder_reg.transform(X_test_reg[cat_features]))\n",
    "X_test_reg = X_test_reg.drop(cat_features, axis=1)\n",
    "X_test_reg = X_test_reg.join(X_test_dummie_columns)\n",
    "X_test_reg.columns = col2"
   ]
  },
  {
   "cell_type": "markdown",
   "metadata": {},
   "source": [
    "### Train and Compare the Models\n",
    "After we got our benchmark via the baseline model, we can now test different model types to figure out which ones can handle our data best. So in the next step we will train, evaluate and compare different models."
   ]
  },
  {
   "cell_type": "markdown",
   "metadata": {},
   "source": [
    "##### __Classification Models__\n",
    "We import 9 classifiers to be contenders for the best classifier.\n"
   ]
  },
  {
   "cell_type": "code",
   "execution_count": 15,
   "metadata": {},
   "outputs": [],
   "source": [
    "# List of individual classification models stored as a tuple with name and classifier function.\n",
    "model_class = classification_models()"
   ]
  },
  {
   "cell_type": "code",
   "execution_count": 16,
   "metadata": {},
   "outputs": [
    {
     "data": {
      "text/plain": [
       "[('KNN', KNeighborsClassifier()),\n",
       " ('SVC', SVC()),\n",
       " ('LR', LogisticRegression()),\n",
       " ('DT', DecisionTreeClassifier()),\n",
       " ('RF', RandomForestClassifier()),\n",
       " ('GNB', GaussianNB()),\n",
       " ('XGB',\n",
       "  XGBClassifier(base_score=None, booster=None, callbacks=None,\n",
       "                colsample_bylevel=None, colsample_bynode=None,\n",
       "                colsample_bytree=None, early_stopping_rounds=None,\n",
       "                enable_categorical=False, eval_metric=None, gamma=None,\n",
       "                gpu_id=None, grow_policy=None, importance_type=None,\n",
       "                interaction_constraints=None, learning_rate=None, max_bin=None,\n",
       "                max_cat_to_onehot=None, max_delta_step=None, max_depth=None,\n",
       "                max_leaves=None, min_child_weight=None, missing=nan,\n",
       "                monotone_constraints=None, n_estimators=100, n_jobs=None,\n",
       "                num_parallel_tree=None, predictor=None, random_state=None,\n",
       "                reg_alpha=None, reg_lambda=None, ...)),\n",
       " ('ADA', AdaBoostClassifier()),\n",
       " ('SGD', SGDClassifier())]"
      ]
     },
     "execution_count": 16,
     "metadata": {},
     "output_type": "execute_result"
    }
   ],
   "source": [
    "model_class"
   ]
  },
  {
   "cell_type": "code",
   "execution_count": 17,
   "metadata": {},
   "outputs": [
    {
     "data": {
      "application/vnd.jupyter.widget-view+json": {
       "model_id": "161954fe751e40a1a58e94ef13252875",
       "version_major": 2,
       "version_minor": 0
      },
      "text/plain": [
       "Classification Model:   0%|          | 0/9 [00:00<?, ?it/s]"
      ]
     },
     "metadata": {},
     "output_type": "display_data"
    },
    {
     "name": "stdout",
     "output_type": "stream",
     "text": [
      "1 KNN\n"
     ]
    }
   ],
   "source": [
    "# Test different types of models\n",
    "names = []\n",
    "f1_scores = []\n",
    "i = 0\n",
    "\n",
    "# loop through the lists created over it and store the scores in the lists to reflect them with name and value\n",
    "for name, model in tqdm(model_class, desc=\"Classification Model\"):\n",
    "\n",
    "    model.fit(X_train_class, y_train_class)\n",
    "    y_pred_class = model.predict(X_test_class)\n",
    "    # Collect results on the learners\n",
    "    f1_scores.append(f1_score(y_test_class, y_pred_class))\n",
    "    names.append(name)\n",
    "    print(f\"{i+1}\",names[i])\n",
    "    i += 1\n",
    "print(\"Loop completed\")\n",
    "\n",
    "tr_split_class = pd.DataFrame({'Name': names,\"F1\":f1_scores})\n",
    "print(tr_split_class)"
   ]
  },
  {
   "cell_type": "code",
   "execution_count": null,
   "metadata": {},
   "outputs": [
    {
     "ename": "NameError",
     "evalue": "name 'model_class' is not defined",
     "output_type": "error",
     "traceback": [
      "\u001b[0;31m---------------------------------------------------------------------------\u001b[0m",
      "\u001b[0;31mNameError\u001b[0m                                 Traceback (most recent call last)",
      "\u001b[1;32m/Users/evo/Documents/neue_fische_DS/Flight_Delayed_Challenge/modeling_evo.ipynb Cell 32'\u001b[0m in \u001b[0;36m<cell line: 1>\u001b[0;34m()\u001b[0m\n\u001b[0;32m----> <a href='vscode-notebook-cell:/Users/evo/Documents/neue_fische_DS/Flight_Delayed_Challenge/modeling_evo.ipynb#ch0000058?line=0'>1</a>\u001b[0m model_class\n",
      "\u001b[0;31mNameError\u001b[0m: name 'model_class' is not defined"
     ]
    }
   ],
   "source": [
    "model_class"
   ]
  },
  {
   "cell_type": "code",
   "execution_count": null,
   "metadata": {},
   "outputs": [
    {
     "name": "stdout",
     "output_type": "stream",
     "text": [
      "KNN\n"
     ]
    },
    {
     "ename": "TypeError",
     "evalue": "Singleton array 1 cannot be considered a valid collection.",
     "output_type": "error",
     "traceback": [
      "\u001b[0;31m---------------------------------------------------------------------------\u001b[0m",
      "\u001b[0;31mTypeError\u001b[0m                                 Traceback (most recent call last)",
      "\u001b[1;32m/Users/evo/Documents/neue_fische_DS/Flight_Delayed_Challenge/modeling_evo.ipynb Cell 32'\u001b[0m in \u001b[0;36m<cell line: 2>\u001b[0;34m()\u001b[0m\n\u001b[1;32m      <a href='vscode-notebook-cell:/Users/evo/Documents/neue_fische_DS/Flight_Delayed_Challenge/modeling_evo.ipynb#ch0000031?line=1'>2</a>\u001b[0m \u001b[39mfor\u001b[39;00m i \u001b[39min\u001b[39;00m \u001b[39mrange\u001b[39m(\u001b[39mlen\u001b[39m(model_class)):\n\u001b[1;32m      <a href='vscode-notebook-cell:/Users/evo/Documents/neue_fische_DS/Flight_Delayed_Challenge/modeling_evo.ipynb#ch0000031?line=2'>3</a>\u001b[0m     \u001b[39mprint\u001b[39m(names[i])\n\u001b[0;32m----> <a href='vscode-notebook-cell:/Users/evo/Documents/neue_fische_DS/Flight_Delayed_Challenge/modeling_evo.ipynb#ch0000031?line=3'>4</a>\u001b[0m     \u001b[39mprint\u001b[39m(classification_report(y_test_class, y_pred_class[i]))\n\u001b[1;32m      <a href='vscode-notebook-cell:/Users/evo/Documents/neue_fische_DS/Flight_Delayed_Challenge/modeling_evo.ipynb#ch0000031?line=4'>5</a>\u001b[0m     plot_confusion_matrix(y_test_class, y_pred_class[i])\n",
      "File \u001b[0;32m~/Documents/neue_fische_DS/Flight_Delayed_Challenge/.venv/lib/python3.9/site-packages/sklearn/metrics/_classification.py:2110\u001b[0m, in \u001b[0;36mclassification_report\u001b[0;34m(y_true, y_pred, labels, target_names, sample_weight, digits, output_dict, zero_division)\u001b[0m\n\u001b[1;32m   <a href='file:///Users/evo/Documents/neue_fische_DS/Flight_Delayed_Challenge/.venv/lib/python3.9/site-packages/sklearn/metrics/_classification.py?line=1997'>1998</a>\u001b[0m \u001b[39mdef\u001b[39;00m \u001b[39mclassification_report\u001b[39m(\n\u001b[1;32m   <a href='file:///Users/evo/Documents/neue_fische_DS/Flight_Delayed_Challenge/.venv/lib/python3.9/site-packages/sklearn/metrics/_classification.py?line=1998'>1999</a>\u001b[0m     y_true,\n\u001b[1;32m   <a href='file:///Users/evo/Documents/neue_fische_DS/Flight_Delayed_Challenge/.venv/lib/python3.9/site-packages/sklearn/metrics/_classification.py?line=1999'>2000</a>\u001b[0m     y_pred,\n\u001b[0;32m   (...)\u001b[0m\n\u001b[1;32m   <a href='file:///Users/evo/Documents/neue_fische_DS/Flight_Delayed_Challenge/.venv/lib/python3.9/site-packages/sklearn/metrics/_classification.py?line=2006'>2007</a>\u001b[0m     zero_division\u001b[39m=\u001b[39m\u001b[39m\"\u001b[39m\u001b[39mwarn\u001b[39m\u001b[39m\"\u001b[39m,\n\u001b[1;32m   <a href='file:///Users/evo/Documents/neue_fische_DS/Flight_Delayed_Challenge/.venv/lib/python3.9/site-packages/sklearn/metrics/_classification.py?line=2007'>2008</a>\u001b[0m ):\n\u001b[1;32m   <a href='file:///Users/evo/Documents/neue_fische_DS/Flight_Delayed_Challenge/.venv/lib/python3.9/site-packages/sklearn/metrics/_classification.py?line=2008'>2009</a>\u001b[0m     \u001b[39m\"\"\"Build a text report showing the main classification metrics.\u001b[39;00m\n\u001b[1;32m   <a href='file:///Users/evo/Documents/neue_fische_DS/Flight_Delayed_Challenge/.venv/lib/python3.9/site-packages/sklearn/metrics/_classification.py?line=2009'>2010</a>\u001b[0m \n\u001b[1;32m   <a href='file:///Users/evo/Documents/neue_fische_DS/Flight_Delayed_Challenge/.venv/lib/python3.9/site-packages/sklearn/metrics/_classification.py?line=2010'>2011</a>\u001b[0m \u001b[39m    Read more in the :ref:`User Guide <classification_report>`.\u001b[39;00m\n\u001b[0;32m   (...)\u001b[0m\n\u001b[1;32m   <a href='file:///Users/evo/Documents/neue_fische_DS/Flight_Delayed_Challenge/.venv/lib/python3.9/site-packages/sklearn/metrics/_classification.py?line=2106'>2107</a>\u001b[0m \u001b[39m    <BLANKLINE>\u001b[39;00m\n\u001b[1;32m   <a href='file:///Users/evo/Documents/neue_fische_DS/Flight_Delayed_Challenge/.venv/lib/python3.9/site-packages/sklearn/metrics/_classification.py?line=2107'>2108</a>\u001b[0m \u001b[39m    \"\"\"\u001b[39;00m\n\u001b[0;32m-> <a href='file:///Users/evo/Documents/neue_fische_DS/Flight_Delayed_Challenge/.venv/lib/python3.9/site-packages/sklearn/metrics/_classification.py?line=2109'>2110</a>\u001b[0m     y_type, y_true, y_pred \u001b[39m=\u001b[39m _check_targets(y_true, y_pred)\n\u001b[1;32m   <a href='file:///Users/evo/Documents/neue_fische_DS/Flight_Delayed_Challenge/.venv/lib/python3.9/site-packages/sklearn/metrics/_classification.py?line=2111'>2112</a>\u001b[0m     \u001b[39mif\u001b[39;00m labels \u001b[39mis\u001b[39;00m \u001b[39mNone\u001b[39;00m:\n\u001b[1;32m   <a href='file:///Users/evo/Documents/neue_fische_DS/Flight_Delayed_Challenge/.venv/lib/python3.9/site-packages/sklearn/metrics/_classification.py?line=2112'>2113</a>\u001b[0m         labels \u001b[39m=\u001b[39m unique_labels(y_true, y_pred)\n",
      "File \u001b[0;32m~/Documents/neue_fische_DS/Flight_Delayed_Challenge/.venv/lib/python3.9/site-packages/sklearn/metrics/_classification.py:84\u001b[0m, in \u001b[0;36m_check_targets\u001b[0;34m(y_true, y_pred)\u001b[0m\n\u001b[1;32m     <a href='file:///Users/evo/Documents/neue_fische_DS/Flight_Delayed_Challenge/.venv/lib/python3.9/site-packages/sklearn/metrics/_classification.py?line=56'>57</a>\u001b[0m \u001b[39mdef\u001b[39;00m \u001b[39m_check_targets\u001b[39m(y_true, y_pred):\n\u001b[1;32m     <a href='file:///Users/evo/Documents/neue_fische_DS/Flight_Delayed_Challenge/.venv/lib/python3.9/site-packages/sklearn/metrics/_classification.py?line=57'>58</a>\u001b[0m     \u001b[39m\"\"\"Check that y_true and y_pred belong to the same classification task.\u001b[39;00m\n\u001b[1;32m     <a href='file:///Users/evo/Documents/neue_fische_DS/Flight_Delayed_Challenge/.venv/lib/python3.9/site-packages/sklearn/metrics/_classification.py?line=58'>59</a>\u001b[0m \n\u001b[1;32m     <a href='file:///Users/evo/Documents/neue_fische_DS/Flight_Delayed_Challenge/.venv/lib/python3.9/site-packages/sklearn/metrics/_classification.py?line=59'>60</a>\u001b[0m \u001b[39m    This converts multiclass or binary types to a common shape, and raises a\u001b[39;00m\n\u001b[0;32m   (...)\u001b[0m\n\u001b[1;32m     <a href='file:///Users/evo/Documents/neue_fische_DS/Flight_Delayed_Challenge/.venv/lib/python3.9/site-packages/sklearn/metrics/_classification.py?line=81'>82</a>\u001b[0m \u001b[39m    y_pred : array or indicator matrix\u001b[39;00m\n\u001b[1;32m     <a href='file:///Users/evo/Documents/neue_fische_DS/Flight_Delayed_Challenge/.venv/lib/python3.9/site-packages/sklearn/metrics/_classification.py?line=82'>83</a>\u001b[0m \u001b[39m    \"\"\"\u001b[39;00m\n\u001b[0;32m---> <a href='file:///Users/evo/Documents/neue_fische_DS/Flight_Delayed_Challenge/.venv/lib/python3.9/site-packages/sklearn/metrics/_classification.py?line=83'>84</a>\u001b[0m     check_consistent_length(y_true, y_pred)\n\u001b[1;32m     <a href='file:///Users/evo/Documents/neue_fische_DS/Flight_Delayed_Challenge/.venv/lib/python3.9/site-packages/sklearn/metrics/_classification.py?line=84'>85</a>\u001b[0m     type_true \u001b[39m=\u001b[39m type_of_target(y_true)\n\u001b[1;32m     <a href='file:///Users/evo/Documents/neue_fische_DS/Flight_Delayed_Challenge/.venv/lib/python3.9/site-packages/sklearn/metrics/_classification.py?line=85'>86</a>\u001b[0m     type_pred \u001b[39m=\u001b[39m type_of_target(y_pred)\n",
      "File \u001b[0;32m~/Documents/neue_fische_DS/Flight_Delayed_Challenge/.venv/lib/python3.9/site-packages/sklearn/utils/validation.py:329\u001b[0m, in \u001b[0;36mcheck_consistent_length\u001b[0;34m(*arrays)\u001b[0m\n\u001b[1;32m    <a href='file:///Users/evo/Documents/neue_fische_DS/Flight_Delayed_Challenge/.venv/lib/python3.9/site-packages/sklearn/utils/validation.py?line=317'>318</a>\u001b[0m \u001b[39mdef\u001b[39;00m \u001b[39mcheck_consistent_length\u001b[39m(\u001b[39m*\u001b[39marrays):\n\u001b[1;32m    <a href='file:///Users/evo/Documents/neue_fische_DS/Flight_Delayed_Challenge/.venv/lib/python3.9/site-packages/sklearn/utils/validation.py?line=318'>319</a>\u001b[0m     \u001b[39m\"\"\"Check that all arrays have consistent first dimensions.\u001b[39;00m\n\u001b[1;32m    <a href='file:///Users/evo/Documents/neue_fische_DS/Flight_Delayed_Challenge/.venv/lib/python3.9/site-packages/sklearn/utils/validation.py?line=319'>320</a>\u001b[0m \n\u001b[1;32m    <a href='file:///Users/evo/Documents/neue_fische_DS/Flight_Delayed_Challenge/.venv/lib/python3.9/site-packages/sklearn/utils/validation.py?line=320'>321</a>\u001b[0m \u001b[39m    Checks whether all objects in arrays have the same shape or length.\u001b[39;00m\n\u001b[0;32m   (...)\u001b[0m\n\u001b[1;32m    <a href='file:///Users/evo/Documents/neue_fische_DS/Flight_Delayed_Challenge/.venv/lib/python3.9/site-packages/sklearn/utils/validation.py?line=325'>326</a>\u001b[0m \u001b[39m        Objects that will be checked for consistent length.\u001b[39;00m\n\u001b[1;32m    <a href='file:///Users/evo/Documents/neue_fische_DS/Flight_Delayed_Challenge/.venv/lib/python3.9/site-packages/sklearn/utils/validation.py?line=326'>327</a>\u001b[0m \u001b[39m    \"\"\"\u001b[39;00m\n\u001b[0;32m--> <a href='file:///Users/evo/Documents/neue_fische_DS/Flight_Delayed_Challenge/.venv/lib/python3.9/site-packages/sklearn/utils/validation.py?line=328'>329</a>\u001b[0m     lengths \u001b[39m=\u001b[39m [_num_samples(X) \u001b[39mfor\u001b[39;00m X \u001b[39min\u001b[39;00m arrays \u001b[39mif\u001b[39;00m X \u001b[39mis\u001b[39;00m \u001b[39mnot\u001b[39;00m \u001b[39mNone\u001b[39;00m]\n\u001b[1;32m    <a href='file:///Users/evo/Documents/neue_fische_DS/Flight_Delayed_Challenge/.venv/lib/python3.9/site-packages/sklearn/utils/validation.py?line=329'>330</a>\u001b[0m     uniques \u001b[39m=\u001b[39m np\u001b[39m.\u001b[39munique(lengths)\n\u001b[1;32m    <a href='file:///Users/evo/Documents/neue_fische_DS/Flight_Delayed_Challenge/.venv/lib/python3.9/site-packages/sklearn/utils/validation.py?line=330'>331</a>\u001b[0m     \u001b[39mif\u001b[39;00m \u001b[39mlen\u001b[39m(uniques) \u001b[39m>\u001b[39m \u001b[39m1\u001b[39m:\n",
      "File \u001b[0;32m~/Documents/neue_fische_DS/Flight_Delayed_Challenge/.venv/lib/python3.9/site-packages/sklearn/utils/validation.py:329\u001b[0m, in \u001b[0;36m<listcomp>\u001b[0;34m(.0)\u001b[0m\n\u001b[1;32m    <a href='file:///Users/evo/Documents/neue_fische_DS/Flight_Delayed_Challenge/.venv/lib/python3.9/site-packages/sklearn/utils/validation.py?line=317'>318</a>\u001b[0m \u001b[39mdef\u001b[39;00m \u001b[39mcheck_consistent_length\u001b[39m(\u001b[39m*\u001b[39marrays):\n\u001b[1;32m    <a href='file:///Users/evo/Documents/neue_fische_DS/Flight_Delayed_Challenge/.venv/lib/python3.9/site-packages/sklearn/utils/validation.py?line=318'>319</a>\u001b[0m     \u001b[39m\"\"\"Check that all arrays have consistent first dimensions.\u001b[39;00m\n\u001b[1;32m    <a href='file:///Users/evo/Documents/neue_fische_DS/Flight_Delayed_Challenge/.venv/lib/python3.9/site-packages/sklearn/utils/validation.py?line=319'>320</a>\u001b[0m \n\u001b[1;32m    <a href='file:///Users/evo/Documents/neue_fische_DS/Flight_Delayed_Challenge/.venv/lib/python3.9/site-packages/sklearn/utils/validation.py?line=320'>321</a>\u001b[0m \u001b[39m    Checks whether all objects in arrays have the same shape or length.\u001b[39;00m\n\u001b[0;32m   (...)\u001b[0m\n\u001b[1;32m    <a href='file:///Users/evo/Documents/neue_fische_DS/Flight_Delayed_Challenge/.venv/lib/python3.9/site-packages/sklearn/utils/validation.py?line=325'>326</a>\u001b[0m \u001b[39m        Objects that will be checked for consistent length.\u001b[39;00m\n\u001b[1;32m    <a href='file:///Users/evo/Documents/neue_fische_DS/Flight_Delayed_Challenge/.venv/lib/python3.9/site-packages/sklearn/utils/validation.py?line=326'>327</a>\u001b[0m \u001b[39m    \"\"\"\u001b[39;00m\n\u001b[0;32m--> <a href='file:///Users/evo/Documents/neue_fische_DS/Flight_Delayed_Challenge/.venv/lib/python3.9/site-packages/sklearn/utils/validation.py?line=328'>329</a>\u001b[0m     lengths \u001b[39m=\u001b[39m [_num_samples(X) \u001b[39mfor\u001b[39;00m X \u001b[39min\u001b[39;00m arrays \u001b[39mif\u001b[39;00m X \u001b[39mis\u001b[39;00m \u001b[39mnot\u001b[39;00m \u001b[39mNone\u001b[39;00m]\n\u001b[1;32m    <a href='file:///Users/evo/Documents/neue_fische_DS/Flight_Delayed_Challenge/.venv/lib/python3.9/site-packages/sklearn/utils/validation.py?line=329'>330</a>\u001b[0m     uniques \u001b[39m=\u001b[39m np\u001b[39m.\u001b[39munique(lengths)\n\u001b[1;32m    <a href='file:///Users/evo/Documents/neue_fische_DS/Flight_Delayed_Challenge/.venv/lib/python3.9/site-packages/sklearn/utils/validation.py?line=330'>331</a>\u001b[0m     \u001b[39mif\u001b[39;00m \u001b[39mlen\u001b[39m(uniques) \u001b[39m>\u001b[39m \u001b[39m1\u001b[39m:\n",
      "File \u001b[0;32m~/Documents/neue_fische_DS/Flight_Delayed_Challenge/.venv/lib/python3.9/site-packages/sklearn/utils/validation.py:269\u001b[0m, in \u001b[0;36m_num_samples\u001b[0;34m(x)\u001b[0m\n\u001b[1;32m    <a href='file:///Users/evo/Documents/neue_fische_DS/Flight_Delayed_Challenge/.venv/lib/python3.9/site-packages/sklearn/utils/validation.py?line=266'>267</a>\u001b[0m \u001b[39mif\u001b[39;00m \u001b[39mhasattr\u001b[39m(x, \u001b[39m\"\u001b[39m\u001b[39mshape\u001b[39m\u001b[39m\"\u001b[39m) \u001b[39mand\u001b[39;00m x\u001b[39m.\u001b[39mshape \u001b[39mis\u001b[39;00m \u001b[39mnot\u001b[39;00m \u001b[39mNone\u001b[39;00m:\n\u001b[1;32m    <a href='file:///Users/evo/Documents/neue_fische_DS/Flight_Delayed_Challenge/.venv/lib/python3.9/site-packages/sklearn/utils/validation.py?line=267'>268</a>\u001b[0m     \u001b[39mif\u001b[39;00m \u001b[39mlen\u001b[39m(x\u001b[39m.\u001b[39mshape) \u001b[39m==\u001b[39m \u001b[39m0\u001b[39m:\n\u001b[0;32m--> <a href='file:///Users/evo/Documents/neue_fische_DS/Flight_Delayed_Challenge/.venv/lib/python3.9/site-packages/sklearn/utils/validation.py?line=268'>269</a>\u001b[0m         \u001b[39mraise\u001b[39;00m \u001b[39mTypeError\u001b[39;00m(\n\u001b[1;32m    <a href='file:///Users/evo/Documents/neue_fische_DS/Flight_Delayed_Challenge/.venv/lib/python3.9/site-packages/sklearn/utils/validation.py?line=269'>270</a>\u001b[0m             \u001b[39m\"\u001b[39m\u001b[39mSingleton array \u001b[39m\u001b[39m%r\u001b[39;00m\u001b[39m cannot be considered a valid collection.\u001b[39m\u001b[39m\"\u001b[39m \u001b[39m%\u001b[39m x\n\u001b[1;32m    <a href='file:///Users/evo/Documents/neue_fische_DS/Flight_Delayed_Challenge/.venv/lib/python3.9/site-packages/sklearn/utils/validation.py?line=270'>271</a>\u001b[0m         )\n\u001b[1;32m    <a href='file:///Users/evo/Documents/neue_fische_DS/Flight_Delayed_Challenge/.venv/lib/python3.9/site-packages/sklearn/utils/validation.py?line=271'>272</a>\u001b[0m     \u001b[39m# Check that shape is returning an integer or default to len\u001b[39;00m\n\u001b[1;32m    <a href='file:///Users/evo/Documents/neue_fische_DS/Flight_Delayed_Challenge/.venv/lib/python3.9/site-packages/sklearn/utils/validation.py?line=272'>273</a>\u001b[0m     \u001b[39m# Dask dataframes may not return numeric shape[0] value\u001b[39;00m\n\u001b[1;32m    <a href='file:///Users/evo/Documents/neue_fische_DS/Flight_Delayed_Challenge/.venv/lib/python3.9/site-packages/sklearn/utils/validation.py?line=273'>274</a>\u001b[0m     \u001b[39mif\u001b[39;00m \u001b[39misinstance\u001b[39m(x\u001b[39m.\u001b[39mshape[\u001b[39m0\u001b[39m], numbers\u001b[39m.\u001b[39mIntegral):\n",
      "\u001b[0;31mTypeError\u001b[0m: Singleton array 1 cannot be considered a valid collection."
     ]
    }
   ],
   "source": [
    "# Plot the confusion matrix for each of the 9 models\n",
    "for i in range(len(model_class)):\n",
    "    print(names[i])\n",
    "    print(classification_report(y_test_class, y_pred_class[i]))\n",
    "    plot_confusion_matrix(y_test_class, y_pred_class[i])"
   ]
  },
  {
   "cell_type": "markdown",
   "metadata": {},
   "source": [
    "##### __Regression Models__\n",
    "\n",
    "We import 8 regression models to be contenders for the best delay prediction."
   ]
  },
  {
   "cell_type": "code",
   "execution_count": null,
   "metadata": {},
   "outputs": [],
   "source": [
    "# List of individual regression models stored as a tuple with name and regression function\n",
    "models_reg = regression_models()"
   ]
  },
  {
   "cell_type": "code",
   "execution_count": null,
   "metadata": {},
   "outputs": [
    {
     "data": {
      "application/vnd.jupyter.widget-view+json": {
       "model_id": "827d0f9ecd0a41e996edcb99a16570c6",
       "version_major": 2,
       "version_minor": 0
      },
      "text/plain": [
       "Regression Model:   0%|          | 0/8 [00:00<?, ?it/s]"
      ]
     },
     "metadata": {},
     "output_type": "display_data"
    },
    {
     "name": "stdout",
     "output_type": "stream",
     "text": [
      "1 KNN\n",
      "2 LREG\n"
     ]
    }
   ],
   "source": [
    "# Test different types of models\n",
    "names = []\n",
    "RSME = []\n",
    "i = 0\n",
    "\n",
    "# loop\n",
    "for name, model in tqdm(models_reg,desc= \"Regression Model\"):\n",
    "    model.fit(X_train_reg, y_train_reg)\n",
    "    y_pred_reg = model.predict(X_test_reg)\n",
    "    # Collect results on the learners\n",
    "    RSME.append(mean_squared_error(y_test_reg, y_pred_reg,squared=False))\n",
    "    names.append(name)\n",
    "    print(f\"{i+1}\",names[i])\n",
    "    i += 1\n",
    "\n",
    "print(\"Loop completed\")\n",
    "    \n",
    "tr_split_reg = pd.DataFrame({'Name': names,\"RSME\":RSME})\n",
    "print(tr_split_reg)"
   ]
  },
  {
   "cell_type": "code",
   "execution_count": null,
   "metadata": {},
   "outputs": [],
   "source": [
    "# Plot the scores as a Barchart in this case lower is better because we plot the RSME\n",
    "axis = sns.barplot(x = 'Name', y = 'RSME', data = tr_split_reg)\n",
    "axis.set(xlabel='Regression', ylabel='RSME')\n",
    "for p in axis.patches:\n",
    "    height = p.get_height()\n",
    "    axis.text(p.get_x() + p.get_width()/2, height + 0.005, '{:1.4f}'.format(height), ha=\"center\") \n",
    "    \n",
    "plt.show()"
   ]
  },
  {
   "cell_type": "markdown",
   "metadata": {},
   "source": [
    "### Hyperparameter Tuning\n",
    "We pick now the two most promising models for Classification aswell as for  Regression and using grid search (`GridSearchCV`) with different parameter/value combinations, to tune our model for even better results."
   ]
  },
  {
   "cell_type": "markdown",
   "metadata": {},
   "source": [
    "---\n",
    "##### __Model Tuning for Classification__"
   ]
  },
  {
   "cell_type": "markdown",
   "metadata": {},
   "source": [
    "For our Classification SVC and XGB with gbtree are the best models in average F1 score. So we will do the first GridSearch on them\n",
    "\n",
    "---"
   ]
  },
  {
   "cell_type": "markdown",
   "metadata": {},
   "source": [
    "##### Hyperparameter Tuning SVC"
   ]
  },
  {
   "cell_type": "code",
   "execution_count": null,
   "metadata": {},
   "outputs": [],
   "source": [
    "# Initialize the SVC classifier\n",
    "SVC_clf = SVC(kernel='rbf',cache_size=1000) \n",
    "\n",
    "# Create the parameters list \n",
    "parameters = {'C':[0.01, 0.1, 1, 10],                 \n",
    "              'gamma':[0.01, 0.06, 0.1, 0.6]                          \n",
    "             } \n",
    "\n",
    "# making a macro average f1 scorer\n",
    "scorer = make_scorer(f1_score,average='macro') \n",
    "\n",
    "\n",
    "# Perform grid search on the classifier using macro average f1 score as the scoring method\n",
    "SVC_gridsearch = HalvingGridSearchCV(SVC_clf, parameters, scoring=scorer, cv=3, verbose=4)\n",
    "\n",
    "# Fit the grid search object to the training data and find the optimal parameters\n",
    "SVC_gridsearch.fit(X_train_class, y_train_class)\n"
   ]
  },
  {
   "cell_type": "code",
   "execution_count": null,
   "metadata": {},
   "outputs": [],
   "source": [
    "# Returning best score after GridSearch and parameter combination\n",
    "print(\"                Best score:\", SVC_gridsearch.best_score_.round(4))\n",
    "print(\"Best parameter combination:\", SVC_gridsearch.best_params_)\n",
    "best_SVC_clf = SVC_gridsearch.best_estimator_"
   ]
  },
  {
   "cell_type": "markdown",
   "metadata": {},
   "source": [
    "##### Hyperparameter Tuning XGBoost"
   ]
  },
  {
   "cell_type": "code",
   "execution_count": null,
   "metadata": {},
   "outputs": [],
   "source": [
    "# Initialize the XGB classifier\n",
    "XGB_clf = XGBClassifier() \n",
    "\n",
    "# Create the parameters list \n",
    "parameters_XGB = {'eta':[0.1,0.3,0.7],                 \n",
    "                'gamma':[0, 0.1, 1],\n",
    "                'max_depth':[3,6,9,12],  \n",
    "                'min_child_weight':[1,5,10],\n",
    "                'subsample':[0.5, 0.8, 1],  \n",
    "                'lambda':[0,0.5,1],\n",
    "                'alpha':[0,0.5,1]              \n",
    "             } \n",
    "\n",
    "# making a macro average f1 scorer\n",
    "scorer = make_scorer(f1_score,average='macro') \n",
    "\n",
    "# Perform grid search on the classifier using macro average f1 score as the scoring method\n",
    "XGB_gridsearch = HalvingGridSearchCV(XGB_clf, parameters_XGB, scoring=scorer, cv=5, verbose=4)\n",
    "\n",
    "# Fit the grid search object to the training data and find the optimal parameters\n",
    "XGB_gridsearch.fit(X_train_class, y_train_class)\n"
   ]
  },
  {
   "cell_type": "code",
   "execution_count": null,
   "metadata": {},
   "outputs": [],
   "source": [
    "# Returning best score after GridSearch and parameter combination\n",
    "print(\"                Best score:\", XGB_gridsearch.best_score_.round(4))\n",
    "print(\"Best parameter combination:\", XGB_gridsearch.best_params_)\n",
    "best_XGB_clf = XGB_gridsearch.best_estimator_"
   ]
  },
  {
   "cell_type": "markdown",
   "metadata": {},
   "source": [
    "### Model Evaluation: Classification"
   ]
  },
  {
   "cell_type": "markdown",
   "metadata": {},
   "source": [
    "##### __Support Vector Classifier__"
   ]
  },
  {
   "cell_type": "code",
   "execution_count": null,
   "metadata": {},
   "outputs": [],
   "source": [
    "# Plot confusion matrix and classification report for best Support Vector Classifier model\n",
    "SVC_best_predictions = best_SVC_clf.predict(X_test_class)\n",
    "\n",
    "print(\"Support Vector Classifier on test data\")\n",
    "print(\"===\"*20)\n",
    "print(\"Optimal SVC F1 macro average:\", f1_score(y_test_class, SVC_best_predictions, average=\"marco\").round(4))\n",
    "print(\"---\"*20)\n",
    "print(classification_report(y_test_class, SVC_best_predictions))\n",
    "print(\"---\"*20)\n",
    "\n",
    "cm = confusion_matrix(y_test_class, SVC_best_predictions)\n",
    "sns.heatmap(cm, cmap=\"YlGnBu_r\", annot=True, fmt=\".0f\");"
   ]
  },
  {
   "cell_type": "markdown",
   "metadata": {},
   "source": [
    "##### __XGBoost Classifier__"
   ]
  },
  {
   "cell_type": "code",
   "execution_count": null,
   "metadata": {},
   "outputs": [],
   "source": [
    "# Plot confusion matrix and classification report for best XGBoost Classifier model\n",
    "XGB_best_predictions = best_XGB_clf.predict(X_test_class)\n",
    "\n",
    "print(\"Support Vector Classifier on test data\")\n",
    "print(\"===\"*20)\n",
    "print(\"Optimal XGB F1 macro average:\", f1_score(y_test_class, XGB_best_predictions, average=\"marco\").round(4))\n",
    "print(\"---\"*20)\n",
    "print(classification_report(y_test_class, XGB_best_predictions))\n",
    "print(\"---\"*20)\n",
    "\n",
    "cm = confusion_matrix(y_test_class, XGB_best_predictions)\n",
    "sns.heatmap(cm, cmap=\"YlGnBu_r\", annot=True, fmt=\".0f\");"
   ]
  },
  {
   "cell_type": "markdown",
   "metadata": {},
   "source": [
    "---\n",
    "##### __Model Tuning for Regression__"
   ]
  },
  {
   "cell_type": "markdown",
   "metadata": {},
   "source": [
    "We search for the best parameters for SGD Regressor as they have the lowest MSE."
   ]
  },
  {
   "cell_type": "markdown",
   "metadata": {},
   "source": [
    "##### Hyperparameter Tuning SGD"
   ]
  },
  {
   "cell_type": "code",
   "execution_count": null,
   "metadata": {},
   "outputs": [],
   "source": [
    "sgd_regression = SGDRegressor()\n",
    "\n",
    "# Defining parameter grid (as dictionary)\n",
    "param_grid_sgd = {\"loss\" : [\"squared_error\", \"huber\", \"epsilon_insensitive\", \"squared_epsilon_insensitive\"],\n",
    "              \"alpha\" : np.linspace(0.0001, 0.5, 500),\n",
    "              \"penalty\" : [\"l2\", \"l1\", \"elasticnet\"]}\n",
    "\n",
    "#Instantiate gridsearch and define the metric to optimize \n",
    "gs_sgd = GridSearchCV(SGDRegressor(random_state=RSEED), param_grid=param_grid_sgd, scoring= 'r2', verbose=4, n_jobs=-1, error_score=\"raise\")\n",
    "\n",
    "gs_sgd.fit(X_train_reg, y_train_reg)"
   ]
  },
  {
   "cell_type": "code",
   "execution_count": null,
   "metadata": {},
   "outputs": [],
   "source": [
    "# Returning best score after GridSearch and parameter combination\n",
    "print(\"                Best score:\", gs_sgd .best_score_.round(4))\n",
    "print(\"Best parameter combination:\",  gs_sgd .best_params_)\n",
    "gs_sgd_best_model = gs_sgd .best_estimator_"
   ]
  },
  {
   "cell_type": "markdown",
   "metadata": {},
   "source": [
    "### Model Evaluation: Regression"
   ]
  },
  {
   "cell_type": "code",
   "execution_count": null,
   "metadata": {},
   "outputs": [],
   "source": [
    "# Making predictions on the test set\n",
    "y_pred_best_sgd = gs_sgd_best_model.predict(X_test_reg)\n",
    "\n",
    "print(\"Linear Regression on test data\")\n",
    "print(\"===\"*20)\n",
    "print('Mean Squared Error:', mean_squared_error(y_test_reg, y_pred_best_sgd))\n",
    "print(\"---\"*20)\n",
    "print('R2:', r2_score(y_test_reg, y_pred_best_sgd))\n",
    "print(\"---\"*20)\n",
    "error_analysis(y_test_reg, y_pred_best_sgd)"
   ]
  }
 ],
 "metadata": {
  "interpreter": {
   "hash": "b36029b6bf991c2e4fa07d2f3680c87dbd610e211d0ef652fe4a3142fdf9d82f"
  },
  "kernelspec": {
   "display_name": "Python 3.9.8 ('.venv': venv)",
   "language": "python",
   "name": "python3"
  },
  "language_info": {
   "codemirror_mode": {
    "name": "ipython",
    "version": 3
   },
   "file_extension": ".py",
   "mimetype": "text/x-python",
   "name": "python",
   "nbconvert_exporter": "python",
   "pygments_lexer": "ipython3",
   "version": "3.9.8"
  },
  "orig_nbformat": 4
 },
 "nbformat": 4,
 "nbformat_minor": 2
}
