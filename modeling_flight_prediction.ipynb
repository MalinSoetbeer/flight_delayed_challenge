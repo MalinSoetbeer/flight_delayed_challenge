{
 "cells": [
  {
   "cell_type": "markdown",
   "metadata": {},
   "source": [
    "# Modelling for Flight Delay Prediction"
   ]
  },
  {
   "cell_type": "markdown",
   "metadata": {},
   "source": [
    "## Import\n",
    "Import of relevant packages"
   ]
  },
  {
   "cell_type": "code",
   "execution_count": 1,
   "metadata": {},
   "outputs": [],
   "source": [
    "# Import \n",
    "import pandas as pd\n",
    "import numpy as np\n",
    "import seaborn as sns\n",
    "import matplotlib.pyplot as plt\n",
    "%matplotlib inline\n",
    "\n",
    "import warnings\n",
    "warnings.filterwarnings('ignore')\n",
    "\n",
    "from sklearn.model_selection import train_test_split\n",
    "from sklearn.metrics import f1_score ,classification_report, mean_squared_error, make_scorer\n",
    "from sklearn.pipeline import Pipeline\n",
    "from sklearn.compose import ColumnTransformer\n",
    "from sklearn.preprocessing import OneHotEncoder, StandardScaler\n",
    "from sklearn.impute import SimpleImputer\n",
    "from sklearn.experimental import enable_halving_search_cv\n",
    "from sklearn.model_selection import GridSearchCV, HalvingGridSearchCV\n",
    "\n",
    "# Import models\n",
    "from sklearn.linear_model import LogisticRegression, LinearRegression, SGDClassifier, SGDRegressor\n",
    "from sklearn.neighbors import KNeighborsClassifier, KNeighborsRegressor\n",
    "from sklearn.tree import DecisionTreeClassifier, DecisionTreeRegressor\n",
    "from sklearn.ensemble import RandomForestClassifier, RandomForestRegressor, AdaBoostClassifier, AdaBoostRegressor\n",
    "from sklearn.svm import SVC\n",
    "from sklearn.naive_bayes import GaussianNB\n",
    "from sklearn import svm\n",
    "from xgboost import XGBClassifier, XGBRegressor\n",
    "\n",
    "from tqdm.notebook import tqdm,trange\n",
    "import time \n",
    "\n",
    "# Import scripts\n",
    "from script_files.feature_engineering import *\n",
    "from script_files.prepare_flight_data import *\n",
    "from script_files.dummies import *\n",
    "from script_files.predict import *\n",
    "\n",
    "RSEED = 42"
   ]
  },
  {
   "cell_type": "code",
   "execution_count": 2,
   "metadata": {},
   "outputs": [
    {
     "data": {
      "text/html": [
       "<div>\n",
       "<style scoped>\n",
       "    .dataframe tbody tr th:only-of-type {\n",
       "        vertical-align: middle;\n",
       "    }\n",
       "\n",
       "    .dataframe tbody tr th {\n",
       "        vertical-align: top;\n",
       "    }\n",
       "\n",
       "    .dataframe thead th {\n",
       "        text-align: right;\n",
       "    }\n",
       "</style>\n",
       "<table border=\"1\" class=\"dataframe\">\n",
       "  <thead>\n",
       "    <tr style=\"text-align: right;\">\n",
       "      <th></th>\n",
       "      <th>ID</th>\n",
       "      <th>DATOP</th>\n",
       "      <th>FLTID</th>\n",
       "      <th>DEPSTN</th>\n",
       "      <th>ARRSTN</th>\n",
       "      <th>STD</th>\n",
       "      <th>STA</th>\n",
       "      <th>STATUS</th>\n",
       "      <th>AC</th>\n",
       "      <th>target</th>\n",
       "      <th>...</th>\n",
       "      <th>delayed</th>\n",
       "      <th>domestic</th>\n",
       "      <th>dep_hour</th>\n",
       "      <th>dep_weekday</th>\n",
       "      <th>duration_min</th>\n",
       "      <th>arr_hour</th>\n",
       "      <th>flight_month</th>\n",
       "      <th>flight_month_name</th>\n",
       "      <th>year</th>\n",
       "      <th>distance</th>\n",
       "    </tr>\n",
       "  </thead>\n",
       "  <tbody>\n",
       "    <tr>\n",
       "      <th>0</th>\n",
       "      <td>train_id_15674</td>\n",
       "      <td>2016-01-01 00:00:00</td>\n",
       "      <td>TU 0564</td>\n",
       "      <td>NKC</td>\n",
       "      <td>TUN</td>\n",
       "      <td>2016-01-01 00:15:00</td>\n",
       "      <td>2016-01-01 04:30:00</td>\n",
       "      <td>ATA</td>\n",
       "      <td>TU 320IMV</td>\n",
       "      <td>0.0</td>\n",
       "      <td>...</td>\n",
       "      <td>0</td>\n",
       "      <td>0</td>\n",
       "      <td>0</td>\n",
       "      <td>Friday</td>\n",
       "      <td>255.0</td>\n",
       "      <td>4</td>\n",
       "      <td>1</td>\n",
       "      <td>January</td>\n",
       "      <td>2016</td>\n",
       "      <td>3298.067996</td>\n",
       "    </tr>\n",
       "    <tr>\n",
       "      <th>1</th>\n",
       "      <td>train_id_15676</td>\n",
       "      <td>2016-01-01 00:00:00</td>\n",
       "      <td>TU 0714</td>\n",
       "      <td>JED</td>\n",
       "      <td>TUN</td>\n",
       "      <td>2016-01-01 00:55:00</td>\n",
       "      <td>2016-01-01 05:30:00</td>\n",
       "      <td>ATA</td>\n",
       "      <td>TU 332IFM</td>\n",
       "      <td>195.0</td>\n",
       "      <td>...</td>\n",
       "      <td>1</td>\n",
       "      <td>0</td>\n",
       "      <td>0</td>\n",
       "      <td>Friday</td>\n",
       "      <td>275.0</td>\n",
       "      <td>5</td>\n",
       "      <td>1</td>\n",
       "      <td>January</td>\n",
       "      <td>2016</td>\n",
       "      <td>3256.052105</td>\n",
       "    </tr>\n",
       "    <tr>\n",
       "      <th>2</th>\n",
       "      <td>train_id_15675</td>\n",
       "      <td>2016-01-01 00:00:00</td>\n",
       "      <td>TU 0614</td>\n",
       "      <td>DKR</td>\n",
       "      <td>TUN</td>\n",
       "      <td>2016-01-01 01:20:00</td>\n",
       "      <td>2016-01-01 05:55:00</td>\n",
       "      <td>ATA</td>\n",
       "      <td>TU 320IMU</td>\n",
       "      <td>49.0</td>\n",
       "      <td>...</td>\n",
       "      <td>1</td>\n",
       "      <td>0</td>\n",
       "      <td>1</td>\n",
       "      <td>Friday</td>\n",
       "      <td>275.0</td>\n",
       "      <td>5</td>\n",
       "      <td>1</td>\n",
       "      <td>January</td>\n",
       "      <td>2016</td>\n",
       "      <td>3678.974557</td>\n",
       "    </tr>\n",
       "    <tr>\n",
       "      <th>3</th>\n",
       "      <td>train_id_30980</td>\n",
       "      <td>2016-01-01 00:00:00</td>\n",
       "      <td>UG 0002</td>\n",
       "      <td>TUN</td>\n",
       "      <td>DJE</td>\n",
       "      <td>2016-01-01 06:15:00</td>\n",
       "      <td>2016-01-01 07:15:00</td>\n",
       "      <td>SCH</td>\n",
       "      <td>UG AT7LBD</td>\n",
       "      <td>0.0</td>\n",
       "      <td>...</td>\n",
       "      <td>0</td>\n",
       "      <td>1</td>\n",
       "      <td>6</td>\n",
       "      <td>Friday</td>\n",
       "      <td>60.0</td>\n",
       "      <td>7</td>\n",
       "      <td>1</td>\n",
       "      <td>January</td>\n",
       "      <td>2016</td>\n",
       "      <td>333.916459</td>\n",
       "    </tr>\n",
       "    <tr>\n",
       "      <th>4</th>\n",
       "      <td>train_id_7179</td>\n",
       "      <td>2016-01-01 00:00:00</td>\n",
       "      <td>TU 0880</td>\n",
       "      <td>TUN</td>\n",
       "      <td>AMS</td>\n",
       "      <td>2016-01-01 06:30:00</td>\n",
       "      <td>2016-01-01 09:20:00</td>\n",
       "      <td>ATA</td>\n",
       "      <td>TU 736IOP</td>\n",
       "      <td>36.0</td>\n",
       "      <td>...</td>\n",
       "      <td>1</td>\n",
       "      <td>0</td>\n",
       "      <td>6</td>\n",
       "      <td>Friday</td>\n",
       "      <td>170.0</td>\n",
       "      <td>9</td>\n",
       "      <td>1</td>\n",
       "      <td>January</td>\n",
       "      <td>2016</td>\n",
       "      <td>1770.371959</td>\n",
       "    </tr>\n",
       "  </tbody>\n",
       "</table>\n",
       "<p>5 rows × 41 columns</p>\n",
       "</div>"
      ],
      "text/plain": [
       "               ID                DATOP     FLTID DEPSTN ARRSTN  \\\n",
       "0  train_id_15674  2016-01-01 00:00:00  TU 0564     NKC    TUN   \n",
       "1  train_id_15676  2016-01-01 00:00:00  TU 0714     JED    TUN   \n",
       "2  train_id_15675  2016-01-01 00:00:00  TU 0614     DKR    TUN   \n",
       "3  train_id_30980  2016-01-01 00:00:00  UG 0002     TUN    DJE   \n",
       "4   train_id_7179  2016-01-01 00:00:00  TU 0880     TUN    AMS   \n",
       "\n",
       "                   STD                  STA STATUS         AC  target  ...  \\\n",
       "0  2016-01-01 00:15:00  2016-01-01 04:30:00    ATA  TU 320IMV     0.0  ...   \n",
       "1  2016-01-01 00:55:00  2016-01-01 05:30:00    ATA  TU 332IFM   195.0  ...   \n",
       "2  2016-01-01 01:20:00  2016-01-01 05:55:00    ATA  TU 320IMU    49.0  ...   \n",
       "3  2016-01-01 06:15:00  2016-01-01 07:15:00    SCH  UG AT7LBD     0.0  ...   \n",
       "4  2016-01-01 06:30:00  2016-01-01 09:20:00    ATA  TU 736IOP    36.0  ...   \n",
       "\n",
       "  delayed domestic dep_hour dep_weekday duration_min arr_hour  flight_month  \\\n",
       "0       0        0        0      Friday        255.0        4             1   \n",
       "1       1        0        0      Friday        275.0        5             1   \n",
       "2       1        0        1      Friday        275.0        5             1   \n",
       "3       0        1        6      Friday         60.0        7             1   \n",
       "4       1        0        6      Friday        170.0        9             1   \n",
       "\n",
       "   flight_month_name  year     distance  \n",
       "0            January  2016  3298.067996  \n",
       "1            January  2016  3256.052105  \n",
       "2            January  2016  3678.974557  \n",
       "3            January  2016   333.916459  \n",
       "4            January  2016  1770.371959  \n",
       "\n",
       "[5 rows x 41 columns]"
      ]
     },
     "execution_count": 2,
     "metadata": {},
     "output_type": "execute_result"
    }
   ],
   "source": [
    "# Loading the data in and Shape to fit\n",
    "train_df = pd.read_csv('data/final_train.csv', index_col=[0])\n",
    "train_df.head()"
   ]
  },
  {
   "cell_type": "markdown",
   "metadata": {},
   "source": [
    "## Feature Engineering\n",
    "Firstly we drop a number of columns that we should not use for modeling. Afterwards we separate the data set into features and the response that we are going to predict. "
   ]
  },
  {
   "cell_type": "code",
   "execution_count": 3,
   "metadata": {},
   "outputs": [],
   "source": [
    "# List of dropping feature for classification\n",
    "drop_features_class = ['DATOP', 'ID','FLTID','STD', 'STA','target','icao_DEP', 'iata_DEP', 'name_DEP', 'city_DEP',\n",
    "       'subd_DEP', 'country_DEP', 'elevation_DEP', 'lat_DEP', 'lon_DEP',\n",
    "       'tz_DEP', 'icao_ARR', 'iata_ARR', 'name_ARR', 'city_ARR', 'subd_ARR',\n",
    "       'country_ARR', 'elevation_ARR', 'lat_ARR', 'lon_ARR', 'tz_ARR','arr_hour', 'flight_month','delay_or_onTime', 'delayed']"
   ]
  },
  {
   "cell_type": "code",
   "execution_count": 4,
   "metadata": {},
   "outputs": [],
   "source": [
    "# List of dropping feature for regression\n",
    "drop_features_reg = ['DATOP', 'ID','FLTID','STD', 'STA','icao_DEP', 'iata_DEP', 'name_DEP', 'city_DEP',\n",
    "       'subd_DEP', 'country_DEP', 'elevation_DEP', 'lat_DEP', 'lon_DEP',\n",
    "       'tz_DEP', 'icao_ARR', 'iata_ARR', 'name_ARR', 'city_ARR', 'subd_ARR',\n",
    "       'country_ARR', 'elevation_ARR', 'lat_ARR', 'lon_ARR', 'tz_ARR','arr_hour', 'flight_month','delay_or_onTime', 'target']"
   ]
  },
  {
   "cell_type": "code",
   "execution_count": 5,
   "metadata": {},
   "outputs": [],
   "source": [
    "# Feature and target variable for Classification modelling\n",
    "X_class = drop_column(train_df, drop_features_class)\n",
    "y_class = train_df['delayed']\n",
    "# Feature and target variable for Regression modelling\n",
    "X_reg = drop_column(train_df.query(\"delayed == 1\"), drop_features_reg)\n",
    "y_reg = train_df.query(\"delayed == 1\")['target']"
   ]
  },
  {
   "cell_type": "markdown",
   "metadata": {},
   "source": [
    "### Shuffle and Split Data\n",
    "80% of the data will be used for training and 20% for testing.  "
   ]
  },
  {
   "cell_type": "code",
   "execution_count": 6,
   "metadata": {},
   "outputs": [
    {
     "name": "stdout",
     "output_type": "stream",
     "text": [
      "Train data\n",
      "# Training data for classification:     81848\n",
      "# Training data for regression     46072\n",
      "==================\n",
      "Test data\n",
      "# Test data for classification:     20462\n",
      "# Test data for regression:     11518\n"
     ]
    }
   ],
   "source": [
    "# Split the 'features' and 'target' data into training and testing sets for classification\n",
    "X_train_class, X_test_class, y_train_class, y_test_class = train_test_split(X_class, y_class, test_size=0.2, stratify=y_class, random_state=RSEED)\n",
    "# Split the 'features' and 'target' data into training and testing sets for classification\n",
    "X_train_reg, X_test_reg, y_train_reg, y_test_reg = train_test_split(X_reg, y_reg, test_size=0.2, random_state=RSEED)\n",
    "\n",
    "# resetting indices\n",
    "reset_indices(X_train_class,X_test_class,X_train_reg,X_test_reg)\n",
    "\n",
    "# Print shape of the test and train data\n",
    "print('Train data')\n",
    "print('# Training data for classification:     {}'.format(X_train_class.shape[0]))\n",
    "print('# Training data for regression     {}'.format(X_train_reg.shape[0]))\n",
    "print('==================')\n",
    "print('Test data')\n",
    "print('# Test data for classification:     {}'.format(X_test_class.shape[0]))\n",
    "print('# Test data for regression:     {}'.format(X_test_reg.shape[0]))\n"
   ]
  },
  {
   "cell_type": "markdown",
   "metadata": {},
   "source": [
    "## Baseline Model\n",
    "\n",
    "Before we start training our first model, we should define a proper baseline model."
   ]
  },
  {
   "cell_type": "markdown",
   "metadata": {},
   "source": [
    "### Classification"
   ]
  },
  {
   "cell_type": "code",
   "execution_count": 7,
   "metadata": {},
   "outputs": [
    {
     "name": "stdout",
     "output_type": "stream",
     "text": [
      "                       Baseline Model\n",
      "============================================================\n",
      "             F1 macro avg. score: 0.5756225441245043\n",
      "------------------------------------------------------------\n",
      "              precision    recall  f1-score   support\n",
      "\n",
      "           0       0.84      0.26      0.39      8944\n",
      "           1       0.63      0.96      0.76     11518\n",
      "\n",
      "    accuracy                           0.65     20462\n",
      "   macro avg       0.73      0.61      0.58     20462\n",
      "weighted avg       0.72      0.65      0.60     20462\n",
      "\n",
      "------------------------------------------------------------\n"
     ]
    },
    {
     "data": {
      "image/png": "[encoded data removed]",
      "text/plain": [
       "<Figure size 432x288 with 2 Axes>"
      ]
     },
     "metadata": {
      "needs_background": "light"
     },
     "output_type": "display_data"
    }
   ],
   "source": [
    "# Plot confusion matrix and classification report for the baseline model\n",
    "# Creating a naive predictions based on the flight being domestic or not\n",
    "y_pred_dumm_class = dummie_class(X_test_class)\n",
    "\n",
    "print(\"                       Baseline Model\")\n",
    "print(\"===\"*20)\n",
    "print('             F1 macro avg. score:', f1_score(y_test_class, y_pred_dumm_class, average='macro'))\n",
    "print(\"---\"*20)\n",
    "print(classification_report(y_test_class, y_pred_dumm_class))\n",
    "print(\"---\"*20)\n",
    "plot_confusion_matrix(y_test_class, y_pred_dumm_class)"
   ]
  },
  {
   "cell_type": "markdown",
   "metadata": {},
   "source": [
    "Our baseline model reaches a accuracy of 67% and what is even more important a F1 score of 61%. That is the value we have to beat with our more sophisticated models."
   ]
  },
  {
   "cell_type": "markdown",
   "metadata": {},
   "source": [
    "### Regression"
   ]
  },
  {
   "cell_type": "code",
   "execution_count": 8,
   "metadata": {},
   "outputs": [],
   "source": [
    "# Creating a Dummie regressor that always predicts the same value\n",
    "y_pred_dumm_reg = dummie_reg(X_test_reg)"
   ]
  },
  {
   "cell_type": "code",
   "execution_count": 9,
   "metadata": {},
   "outputs": [
    {
     "name": "stdout",
     "output_type": "stream",
     "text": [
      "                 Linear Regression Model:\n",
      "============================================================\n",
      "                 RSME: 140.09043602473963\n",
      "============================================================\n"
     ]
    }
   ],
   "source": [
    "print(\"                 Linear Regression Model:\")\n",
    "print(\"===\"*20)\n",
    "print(\"                 RSME:\",mean_squared_error(y_test_reg, y_pred_dumm_reg,squared=False))\n",
    "print(\"===\"*20)"
   ]
  },
  {
   "cell_type": "code",
   "execution_count": null,
   "metadata": {},
   "outputs": [],
   "source": []
  },
  {
   "cell_type": "markdown",
   "metadata": {},
   "source": [
    "### Error Analyse"
   ]
  },
  {
   "cell_type": "markdown",
   "metadata": {},
   "source": [
    "To validate our regression models, we use a residual plot to visually confirm the validity of your model."
   ]
  },
  {
   "cell_type": "code",
   "execution_count": 10,
   "metadata": {},
   "outputs": [
    {
     "data": {
      "image/png": "[encoded data removed]",
      "text/plain": [
       "<Figure size 1080x360 with 2 Axes>"
      ]
     },
     "metadata": {
      "needs_background": "light"
     },
     "output_type": "display_data"
    }
   ],
   "source": [
    "error_analysis(y_test_reg, y_pred_dumm_reg)"
   ]
  },
  {
   "cell_type": "markdown",
   "metadata": {},
   "source": [
    "## Data Preprocessing\n",
    "From the table in **Exploring the Data**, we can see there are several features for each record that are non-numeric. So we create  _\"dummy\"_ variables for each possible category of each non-numeric feature.\n",
    "\n",
    "We also applying scaling to the numerical features in this case we Standatizing ensures that each numerical "
   ]
  },
  {
   "cell_type": "code",
   "execution_count": 11,
   "metadata": {},
   "outputs": [],
   "source": [
    "# Creating list for categorical predictors/features \n",
    "# (dates are also objects so if you have them in your data you would deal with them first)\n",
    "cat_features = ['DEPSTN', 'ARRSTN', 'STATUS', 'AC', 'domestic', 'dep_hour', 'dep_weekday', 'flight_month_name', 'year']\n",
    "\n",
    "num_features = ['duration_min', 'distance']"
   ]
  },
  {
   "cell_type": "markdown",
   "metadata": {},
   "source": [
    "#### Scaling and Encoding: Classification features"
   ]
  },
  {
   "cell_type": "code",
   "execution_count": 12,
   "metadata": {},
   "outputs": [],
   "source": [
    "# Initialize a scaler, then apply it to the features \n",
    "scaler_class = StandardScaler()\n",
    "scaler_class.fit(X_train_class[num_features])\n",
    "X_train_class[num_features] = scaler_class.transform(X_train_class[num_features])\n",
    "X_test_class[num_features] = scaler_class.transform(X_test_class[num_features])\n",
    "\n",
    "# Rename the columns from the Encoded df\n",
    "col = OneHotEncoder_labels(X_train_class, cat_features)\n",
    "\n",
    "# One-hot encode the 'features' data using sklearn OneHotEncoder to Encode categorical features as a one-hot numeric array.\n",
    "encoder_class = OneHotEncoder(handle_unknown='ignore', sparse=False, drop='first')\n",
    "encoder_class.fit(X_train_class[cat_features])\n",
    "\n",
    "# Fit OneHotEncoder to X, then transform X. Here Train Data\n",
    "X_train_dummie_columns = pd.DataFrame(encoder_class.transform(X_train_class[cat_features]))\n",
    "X_train_class = X_train_class.drop(cat_features, axis=1)\n",
    "X_train_class = X_train_class.join(X_train_dummie_columns)\n",
    "X_train_class.columns = col\n",
    "\n",
    "# Fit OneHotEncoder to X, then transform X. Here Test Data\n",
    "X_test_dummie_columns = pd.DataFrame(encoder_class.transform(X_test_class[cat_features]))\n",
    "X_test_class = X_test_class.drop(cat_features, axis=1)\n",
    "X_test_class = X_test_class.join(X_test_dummie_columns)\n",
    "X_test_class.columns = col"
   ]
  },
  {
   "cell_type": "markdown",
   "metadata": {},
   "source": [
    "#### Scaling and Encoding: Regression features"
   ]
  },
  {
   "cell_type": "code",
   "execution_count": 13,
   "metadata": {},
   "outputs": [],
   "source": [
    "scaler_reg = StandardScaler()\n",
    "scaler_reg.fit(X_train_reg[num_features])\n",
    "X_train_reg[num_features] = scaler_reg.transform(X_train_reg[num_features])\n",
    "X_test_reg[num_features] = scaler_reg.transform(X_test_reg[num_features])\n",
    "\n",
    "col2 = OneHotEncoder_labels(X_train_reg, cat_features)\n",
    "\n",
    "encoder_reg = OneHotEncoder(handle_unknown='ignore', sparse=False, drop='first')\n",
    "encoder_reg.fit(X_train_reg[cat_features])\n",
    "\n",
    "X_train_dummie_columns = pd.DataFrame(encoder_reg.transform(X_train_reg[cat_features]))\n",
    "X_train_reg = X_train_reg.drop(cat_features, axis=1)\n",
    "X_train_reg = X_train_reg.join(X_train_dummie_columns)\n",
    "X_train_reg.columns = col2\n",
    "\n",
    "X_test_dummie_columns = pd.DataFrame(encoder_reg.transform(X_test_reg[cat_features]))\n",
    "X_test_reg = X_test_reg.drop(cat_features, axis=1)\n",
    "X_test_reg = X_test_reg.join(X_test_dummie_columns)\n",
    "X_test_reg.columns = col2"
   ]
  },
  {
   "cell_type": "markdown",
   "metadata": {},
   "source": [
    "### Train and Compare the Models\n",
    "After we got our benchmark via the baseline model, we can now test different model types to figure out which ones can handle our data best. So in the next step we will train, evaluate and compare different models."
   ]
  },
  {
   "cell_type": "markdown",
   "metadata": {},
   "source": [
    "##### __Classification Models__\n",
    "We import 9 classifiers to be contenders for the best classifier.\n"
   ]
  },
  {
   "cell_type": "code",
   "execution_count": 14,
   "metadata": {},
   "outputs": [],
   "source": [
    "# List of individual classification models stored as a tuple with name and classifier function.\n",
    "model_class = classification_models()"
   ]
  },
  {
   "cell_type": "code",
   "execution_count": 15,
   "metadata": {},
   "outputs": [
    {
     "data": {
      "text/plain": [
       "[('KNN', KNeighborsClassifier()),\n",
       " ('SVC', SVC()),\n",
       " ('LR', LogisticRegression()),\n",
       " ('DT', DecisionTreeClassifier()),\n",
       " ('RF', RandomForestClassifier()),\n",
       " ('GNB', GaussianNB()),\n",
       " ('XGB',\n",
       "  XGBClassifier(base_score=None, booster=None, callbacks=None,\n",
       "                colsample_bylevel=None, colsample_bynode=None,\n",
       "                colsample_bytree=None, early_stopping_rounds=None,\n",
       "                enable_categorical=False, eval_metric=None, gamma=None,\n",
       "                gpu_id=None, grow_policy=None, importance_type=None,\n",
       "                interaction_constraints=None, learning_rate=None, max_bin=None,\n",
       "                max_cat_to_onehot=None, max_delta_step=None, max_depth=None,\n",
       "                max_leaves=None, min_child_weight=None, missing=nan,\n",
       "                monotone_constraints=None, n_estimators=100, n_jobs=None,\n",
       "                num_parallel_tree=None, predictor=None, random_state=None,\n",
       "                reg_alpha=None, reg_lambda=None, ...)),\n",
       " ('ADA', AdaBoostClassifier()),\n",
       " ('SGD', SGDClassifier())]"
      ]
     },
     "execution_count": 15,
     "metadata": {},
     "output_type": "execute_result"
    }
   ],
   "source": [
    "model_class"
   ]
  },
  {
   "cell_type": "code",
   "execution_count": 16,
   "metadata": {},
   "outputs": [
    {
     "data": {
      "application/vnd.jupyter.widget-view+json": {
       "model_id": "5ac3bf868e1446489c6ba667ec160b71",
       "version_major": 2,
       "version_minor": 0
      },
      "text/plain": [
       "  0%|          | 0/9 [00:00<?, ?it/s]"
      ]
     },
     "metadata": {},
     "output_type": "display_data"
    },
    {
     "name": "stdout",
     "output_type": "stream",
     "text": [
      "KNN\n",
      "SVC\n",
      "LR\n",
      "DT\n",
      "RF\n",
      "GNB\n",
      "XGB\n",
      "ADA\n",
      "SGD\n",
      "  Name        F1\n",
      "0  KNN  0.710425\n",
      "1  SVC  0.736740\n",
      "2   LR  0.712774\n",
      "3   DT  0.676482\n",
      "4   RF  0.716245\n",
      "5  GNB  0.570938\n",
      "6  XGB  0.729273\n",
      "7  ADA  0.696297\n",
      "8  SGD  0.698636\n"
     ]
    }
   ],
   "source": [
    "names = []\n",
    "f1_scores = []\n",
    "y_pred_class = []\n",
    "i = 0\n",
    "\n",
    "for name, model in tqdm(model_class):\n",
    "    model.fit(X_train_class, y_train_class)\n",
    "    y_pred_class.append(model.predict(X_test_class))\n",
    "    f1_scores.append(f1_score(y_test_class, y_pred_class[i], average='macro'))\n",
    "    names.append(name)\n",
    "    print(names[i])\n",
    "    i += 1\n",
    "    \n",
    "tr_split = pd.DataFrame({'Name': names,\"F1\":f1_scores})\n",
    "print(tr_split)"
   ]
  },
  {
   "cell_type": "code",
   "execution_count": 17,
   "metadata": {},
   "outputs": [
    {
     "name": "stdout",
     "output_type": "stream",
     "text": [
      "KNN\n",
      "              precision    recall  f1-score   support\n",
      "\n",
      "           0       0.69      0.64      0.66      8944\n",
      "           1       0.74      0.78      0.76     11518\n",
      "\n",
      "    accuracy                           0.72     20462\n",
      "   macro avg       0.71      0.71      0.71     20462\n",
      "weighted avg       0.72      0.72      0.72     20462\n",
      "\n"
     ]
    },
    {
     "data": {
      "image/png": "[encoded data removed]",
      "text/plain": [
       "<Figure size 432x288 with 2 Axes>"
      ]
     },
     "metadata": {
      "needs_background": "light"
     },
     "output_type": "display_data"
    },
    {
     "name": "stdout",
     "output_type": "stream",
     "text": [
      "SVC\n",
      "              precision    recall  f1-score   support\n",
      "\n",
      "           0       0.76      0.62      0.68      8944\n",
      "           1       0.74      0.85      0.79     11518\n",
      "\n",
      "    accuracy                           0.75     20462\n",
      "   macro avg       0.75      0.73      0.74     20462\n",
      "weighted avg       0.75      0.75      0.74     20462\n",
      "\n"
     ]
    },
    {
     "data": {
      "image/png": "[encoded data removed]",
      "text/plain": [
       "<Figure size 432x288 with 2 Axes>"
      ]
     },
     "metadata": {
      "needs_background": "light"
     },
     "output_type": "display_data"
    },
    {
     "name": "stdout",
     "output_type": "stream",
     "text": [
      "LR\n",
      "              precision    recall  f1-score   support\n",
      "\n",
      "           0       0.74      0.58      0.65      8944\n",
      "           1       0.72      0.84      0.78     11518\n",
      "\n",
      "    accuracy                           0.73     20462\n",
      "   macro avg       0.73      0.71      0.71     20462\n",
      "weighted avg       0.73      0.73      0.72     20462\n",
      "\n"
     ]
    },
    {
     "data": {
      "image/png": "[encoded data removed]",
      "text/plain": [
       "<Figure size 432x288 with 2 Axes>"
      ]
     },
     "metadata": {
      "needs_background": "light"
     },
     "output_type": "display_data"
    },
    {
     "name": "stdout",
     "output_type": "stream",
     "text": [
      "DT\n",
      "              precision    recall  f1-score   support\n",
      "\n",
      "           0       0.63      0.65      0.64      8944\n",
      "           1       0.72      0.70      0.71     11518\n",
      "\n",
      "    accuracy                           0.68     20462\n",
      "   macro avg       0.68      0.68      0.68     20462\n",
      "weighted avg       0.68      0.68      0.68     20462\n",
      "\n"
     ]
    },
    {
     "data": {
      "image/png": "[encoded data removed]",
      "text/plain": [
       "<Figure size 432x288 with 2 Axes>"
      ]
     },
     "metadata": {
      "needs_background": "light"
     },
     "output_type": "display_data"
    },
    {
     "name": "stdout",
     "output_type": "stream",
     "text": [
      "RF\n",
      "              precision    recall  f1-score   support\n",
      "\n",
      "           0       0.70      0.64      0.67      8944\n",
      "           1       0.74      0.79      0.76     11518\n",
      "\n",
      "    accuracy                           0.72     20462\n",
      "   macro avg       0.72      0.71      0.72     20462\n",
      "weighted avg       0.72      0.72      0.72     20462\n",
      "\n"
     ]
    },
    {
     "data": {
      "image/png": "[encoded data removed]",
      "text/plain": [
       "<Figure size 432x288 with 2 Axes>"
      ]
     },
     "metadata": {
      "needs_background": "light"
     },
     "output_type": "display_data"
    },
    {
     "name": "stdout",
     "output_type": "stream",
     "text": [
      "GNB\n",
      "              precision    recall  f1-score   support\n",
      "\n",
      "           0       0.88      0.24      0.38      8944\n",
      "           1       0.62      0.98      0.76     11518\n",
      "\n",
      "    accuracy                           0.66     20462\n",
      "   macro avg       0.75      0.61      0.57     20462\n",
      "weighted avg       0.74      0.66      0.59     20462\n",
      "\n"
     ]
    },
    {
     "data": {
      "image/png": "[encoded data removed]",
      "text/plain": [
       "<Figure size 432x288 with 2 Axes>"
      ]
     },
     "metadata": {
      "needs_background": "light"
     },
     "output_type": "display_data"
    },
    {
     "name": "stdout",
     "output_type": "stream",
     "text": [
      "XGB\n",
      "              precision    recall  f1-score   support\n",
      "\n",
      "           0       0.75      0.61      0.67      8944\n",
      "           1       0.74      0.84      0.79     11518\n",
      "\n",
      "    accuracy                           0.74     20462\n",
      "   macro avg       0.74      0.73      0.73     20462\n",
      "weighted avg       0.74      0.74      0.74     20462\n",
      "\n"
     ]
    },
    {
     "data": {
      "image/png": "[encoded data removed]",
      "text/plain": [
       "<Figure size 432x288 with 2 Axes>"
      ]
     },
     "metadata": {
      "needs_background": "light"
     },
     "output_type": "display_data"
    },
    {
     "name": "stdout",
     "output_type": "stream",
     "text": [
      "ADA\n",
      "              precision    recall  f1-score   support\n",
      "\n",
      "           0       0.74      0.53      0.62      8944\n",
      "           1       0.70      0.86      0.77     11518\n",
      "\n",
      "    accuracy                           0.72     20462\n",
      "   macro avg       0.72      0.69      0.70     20462\n",
      "weighted avg       0.72      0.72      0.71     20462\n",
      "\n"
     ]
    },
    {
     "data": {
      "image/png": "[encoded data removed]",
      "text/plain": [
       "<Figure size 432x288 with 2 Axes>"
      ]
     },
     "metadata": {
      "needs_background": "light"
     },
     "output_type": "display_data"
    },
    {
     "name": "stdout",
     "output_type": "stream",
     "text": [
      "SGD\n",
      "              precision    recall  f1-score   support\n",
      "\n",
      "           0       0.76      0.53      0.62      8944\n",
      "           1       0.70      0.87      0.78     11518\n",
      "\n",
      "    accuracy                           0.72     20462\n",
      "   macro avg       0.73      0.70      0.70     20462\n",
      "weighted avg       0.73      0.72      0.71     20462\n",
      "\n"
     ]
    },
    {
     "data": {
      "image/png": "[encoded data removed]",
      "text/plain": [
       "<Figure size 432x288 with 2 Axes>"
      ]
     },
     "metadata": {
      "needs_background": "light"
     },
     "output_type": "display_data"
    }
   ],
   "source": [
    "for i in range(len(model_class)):\n",
    "    print(names[i])\n",
    "    print(classification_report(y_test_class, y_pred_class[i]))\n",
    "    plot_confusion_matrix(y_test_class, y_pred_class[i])"
   ]
  },
  {
   "cell_type": "markdown",
   "metadata": {},
   "source": [
    "##### __Regression Models__\n",
    "\n",
    "We import 8 regression models to be contenders for the best delay prediction."
   ]
  },
  {
   "cell_type": "code",
   "execution_count": 18,
   "metadata": {},
   "outputs": [],
   "source": [
    "# List of individual regression models stored as a tuple with name and regression function\n",
    "models_reg = regression_models()"
   ]
  },
  {
   "cell_type": "code",
   "execution_count": 19,
   "metadata": {},
   "outputs": [
    {
     "data": {
      "application/vnd.jupyter.widget-view+json": {
       "model_id": "86c31636375f442aba90ab366c879dbf",
       "version_major": 2,
       "version_minor": 0
      },
      "text/plain": [
       "Regression Model:   0%|          | 0/8 [00:00<?, ?it/s]"
      ]
     },
     "metadata": {},
     "output_type": "display_data"
    },
    {
     "name": "stdout",
     "output_type": "stream",
     "text": [
      "1 KNN\n",
      "2 LREG\n",
      "3 SVM\n",
      "4 DT\n",
      "5 RF\n",
      "6 XGBC\n",
      "7 ADA\n",
      "8 SGD\n",
      "Loop completed\n",
      "   Name        RSME\n",
      "0   KNN  146.361009\n",
      "1  LREG  136.295957\n",
      "2   SVM  145.625712\n",
      "3    DT  183.806227\n",
      "4    RF  141.925770\n",
      "5  XGBC  137.935697\n",
      "6   ADA  151.134550\n",
      "7   SGD  136.220128\n"
     ]
    }
   ],
   "source": [
    "# Test different types of models\n",
    "names = []\n",
    "RSME = []\n",
    "i = 0\n",
    "\n",
    "# loop\n",
    "for name, model in tqdm(models_reg,desc= \"Regression Model\"):\n",
    "    model.fit(X_train_reg, y_train_reg)\n",
    "    y_pred_reg = model.predict(X_test_reg)\n",
    "    # Collect results on the learners\n",
    "    RSME.append(mean_squared_error(y_test_reg, y_pred_reg,squared=False))\n",
    "    names.append(name)\n",
    "    print(f\"{i+1}\",names[i])\n",
    "    i += 1\n",
    "\n",
    "print(\"Loop completed\")\n",
    "    \n",
    "tr_split_reg = pd.DataFrame({'Name': names,\"RSME\":RSME})\n",
    "print(tr_split_reg)"
   ]
  },
  {
   "cell_type": "code",
   "execution_count": 20,
   "metadata": {},
   "outputs": [
    {
     "data": {
      "image/png": "[encoded data removed]",
      "text/plain": [
       "<Figure size 432x288 with 1 Axes>"
      ]
     },
     "metadata": {
      "needs_background": "light"
     },
     "output_type": "display_data"
    }
   ],
   "source": [
    "# Plot the scores as a Barchart in this case lower is better because we plot the RSME\n",
    "axis = sns.barplot(x = 'Name', y = 'RSME', data = tr_split_reg)\n",
    "axis.set(xlabel='Regression', ylabel='RSME')\n",
    "for p in axis.patches:\n",
    "    height = p.get_height()\n",
    "    axis.text(p.get_x() + p.get_width()/2, height + 0.005, '{:1.4f}'.format(height), ha=\"center\") \n",
    "    \n",
    "plt.show()"
   ]
  },
  {
   "cell_type": "markdown",
   "metadata": {},
   "source": [
    "### Hyperparameter Tuning\n",
    "We pick now the two most promising models for Classification aswell as for  Regression and using grid search (`GridSearchCV`) with different parameter/value combinations, to tune our model for even better results."
   ]
  },
  {
   "cell_type": "markdown",
   "metadata": {},
   "source": [
    "---\n",
    "##### __Model Tuning for Classification__"
   ]
  },
  {
   "cell_type": "markdown",
   "metadata": {},
   "source": [
    "For our Classification SVC and XGB with gbtree are the best models in average F1 score. So we will do the first GridSearch on them\n",
    "\n",
    "---"
   ]
  },
  {
   "cell_type": "markdown",
   "metadata": {},
   "source": [
    "##### Hyperparameter Tuning SVC"
   ]
  },
  {
   "cell_type": "code",
   "execution_count": 21,
   "metadata": {},
   "outputs": [
    {
     "name": "stdout",
     "output_type": "stream",
     "text": [
      "n_iterations: 3\n",
      "n_required_iterations: 3\n",
      "n_possible_iterations: 3\n",
      "min_resources_: 9094\n",
      "max_resources_: 81848\n",
      "aggressive_elimination: False\n",
      "factor: 3\n",
      "----------\n",
      "iter: 0\n",
      "n_candidates: 16\n",
      "n_resources: 9094\n",
      "Fitting 3 folds for each of 16 candidates, totalling 48 fits\n",
      "[CV 1/3] END C=0.01, gamma=0.01;, score=(train=0.360, test=0.360) total time=  11.2s\n",
      "[CV 2/3] END C=0.01, gamma=0.01;, score=(train=0.365, test=0.361) total time=  11.1s\n",
      "[CV 3/3] END C=0.01, gamma=0.01;, score=(train=0.361, test=0.359) total time=  11.2s\n",
      "[CV 1/3] END C=0.01, gamma=0.06;, score=(train=0.579, test=0.572) total time=  11.1s\n",
      "[CV 2/3] END C=0.01, gamma=0.06;, score=(train=0.499, test=0.515) total time=  10.8s\n",
      "[CV 3/3] END C=0.01, gamma=0.06;, score=(train=0.535, test=0.532) total time=  11.2s\n",
      "[CV 1/3] END C=0.01, gamma=0.1;, score=(train=0.571, test=0.566) total time=  11.6s\n",
      "[CV 2/3] END C=0.01, gamma=0.1;, score=(train=0.491, test=0.510) total time=  11.4s\n",
      "[CV 3/3] END C=0.01, gamma=0.1;, score=(train=0.514, test=0.512) total time=  11.8s\n",
      "[CV 1/3] END C=0.01, gamma=0.6;, score=(train=0.360, test=0.360) total time=  12.4s\n",
      "[CV 2/3] END C=0.01, gamma=0.6;, score=(train=0.365, test=0.361) total time=  12.2s\n",
      "[CV 3/3] END C=0.01, gamma=0.6;, score=(train=0.361, test=0.359) total time=  12.3s\n",
      "[CV 1/3] END C=0.1, gamma=0.01;, score=(train=0.587, test=0.584) total time=  11.0s\n",
      "[CV 2/3] END C=0.1, gamma=0.01;, score=(train=0.583, test=0.581) total time=  11.4s\n",
      "[CV 3/3] END C=0.1, gamma=0.01;, score=(train=0.579, test=0.570) total time=  11.0s\n",
      "[CV 1/3] END C=0.1, gamma=0.06;, score=(train=0.627, test=0.621) total time=  11.1s\n",
      "[CV 2/3] END C=0.1, gamma=0.06;, score=(train=0.617, test=0.612) total time=  10.1s\n",
      "[CV 3/3] END C=0.1, gamma=0.06;, score=(train=0.619, test=0.615) total time=  10.2s\n",
      "[CV 1/3] END C=0.1, gamma=0.1;, score=(train=0.643, test=0.631) total time=   9.9s\n",
      "[CV 2/3] END C=0.1, gamma=0.1;, score=(train=0.627, test=0.618) total time=   9.8s\n",
      "[CV 3/3] END C=0.1, gamma=0.1;, score=(train=0.633, test=0.627) total time=   9.8s\n",
      "[CV 1/3] END C=0.1, gamma=0.6;, score=(train=0.374, test=0.367) total time=  12.1s\n",
      "[CV 2/3] END C=0.1, gamma=0.6;, score=(train=0.366, test=0.361) total time=  12.1s\n",
      "[CV 3/3] END C=0.1, gamma=0.6;, score=(train=0.365, test=0.360) total time=  12.1s\n",
      "[CV 1/3] END C=1, gamma=0.01;, score=(train=0.670, test=0.660) total time=   9.1s\n",
      "[CV 2/3] END C=1, gamma=0.01;, score=(train=0.664, test=0.654) total time=   9.1s\n",
      "[CV 3/3] END C=1, gamma=0.01;, score=(train=0.662, test=0.652) total time=   9.6s\n",
      "[CV 1/3] END C=1, gamma=0.06;, score=(train=0.750, test=0.688) total time=   9.3s\n",
      "[CV 2/3] END C=1, gamma=0.06;, score=(train=0.745, test=0.691) total time=   8.6s\n",
      "[CV 3/3] END C=1, gamma=0.06;, score=(train=0.742, test=0.691) total time=   8.8s\n",
      "[CV 1/3] END C=1, gamma=0.1;, score=(train=0.796, test=0.697) total time=   9.3s\n",
      "[CV 2/3] END C=1, gamma=0.1;, score=(train=0.789, test=0.700) total time=   9.1s\n",
      "[CV 3/3] END C=1, gamma=0.1;, score=(train=0.786, test=0.696) total time=   8.9s\n",
      "[CV 1/3] END C=1, gamma=0.6;, score=(train=0.991, test=0.681) total time=  12.1s\n",
      "[CV 2/3] END C=1, gamma=0.6;, score=(train=0.993, test=0.683) total time=  11.9s\n",
      "[CV 3/3] END C=1, gamma=0.6;, score=(train=0.991, test=0.679) total time=  11.8s\n",
      "[CV 1/3] END C=10, gamma=0.01;, score=(train=0.734, test=0.692) total time=   8.6s\n",
      "[CV 2/3] END C=10, gamma=0.01;, score=(train=0.734, test=0.694) total time=   8.5s\n",
      "[CV 3/3] END C=10, gamma=0.01;, score=(train=0.728, test=0.693) total time=   8.3s\n",
      "[CV 1/3] END C=10, gamma=0.06;, score=(train=0.900, test=0.701) total time=   8.5s\n",
      "[CV 2/3] END C=10, gamma=0.06;, score=(train=0.901, test=0.715) total time=   8.6s\n",
      "[CV 3/3] END C=10, gamma=0.06;, score=(train=0.897, test=0.700) total time=   8.6s\n",
      "[CV 1/3] END C=10, gamma=0.1;, score=(train=0.967, test=0.693) total time=  10.4s\n",
      "[CV 2/3] END C=10, gamma=0.1;, score=(train=0.969, test=0.704) total time=   9.9s\n",
      "[CV 3/3] END C=10, gamma=0.1;, score=(train=0.966, test=0.690) total time=  10.1s\n",
      "[CV 1/3] END C=10, gamma=0.6;, score=(train=0.997, test=0.686) total time=  11.8s\n",
      "[CV 2/3] END C=10, gamma=0.6;, score=(train=0.998, test=0.694) total time=  11.8s\n",
      "[CV 3/3] END C=10, gamma=0.6;, score=(train=0.995, test=0.690) total time=  11.9s\n",
      "----------\n",
      "iter: 1\n",
      "n_candidates: 6\n",
      "n_resources: 27282\n",
      "Fitting 3 folds for each of 6 candidates, totalling 18 fits\n",
      "[CV 1/3] END C=10, gamma=0.6;, score=(train=0.989, test=0.702) total time= 2.5min\n",
      "[CV 2/3] END C=10, gamma=0.6;, score=(train=0.990, test=0.705) total time= 2.6min\n",
      "[CV 3/3] END C=10, gamma=0.6;, score=(train=0.990, test=0.704) total time= 2.6min\n",
      "[CV 1/3] END C=1, gamma=0.06;, score=(train=0.742, test=0.706) total time= 1.4min\n",
      "[CV 2/3] END C=1, gamma=0.06;, score=(train=0.746, test=0.707) total time= 1.4min\n",
      "[CV 3/3] END C=1, gamma=0.06;, score=(train=0.743, test=0.709) total time= 1.4min\n",
      "[CV 1/3] END C=10, gamma=0.01;, score=(train=0.721, test=0.699) total time= 1.4min\n",
      "[CV 2/3] END C=10, gamma=0.01;, score=(train=0.724, test=0.697) total time= 1.4min\n",
      "[CV 3/3] END C=10, gamma=0.01;, score=(train=0.719, test=0.701) total time= 1.4min\n",
      "[CV 1/3] END C=10, gamma=0.1;, score=(train=0.919, test=0.701) total time= 1.5min\n",
      "[CV 2/3] END C=10, gamma=0.1;, score=(train=0.921, test=0.712) total time= 1.5min\n",
      "[CV 3/3] END C=10, gamma=0.1;, score=(train=0.919, test=0.709) total time= 1.5min\n",
      "[CV 1/3] END C=1, gamma=0.1;, score=(train=0.773, test=0.716) total time= 1.5min\n",
      "[CV 2/3] END C=1, gamma=0.1;, score=(train=0.778, test=0.713) total time= 1.5min\n",
      "[CV 3/3] END C=1, gamma=0.1;, score=(train=0.774, test=0.716) total time= 1.5min\n",
      "[CV 1/3] END C=10, gamma=0.06;, score=(train=0.851, test=0.712) total time= 1.5min\n",
      "[CV 2/3] END C=10, gamma=0.06;, score=(train=0.850, test=0.723) total time= 1.4min\n",
      "[CV 3/3] END C=10, gamma=0.06;, score=(train=0.850, test=0.719) total time= 1.4min\n",
      "----------\n",
      "iter: 2\n",
      "n_candidates: 2\n",
      "n_resources: 81846\n",
      "Fitting 3 folds for each of 2 candidates, totalling 6 fits\n",
      "[CV 1/3] END C=1, gamma=0.1;, score=(train=0.767, test=0.731) total time=13.3min\n",
      "[CV 2/3] END C=1, gamma=0.1;, score=(train=0.770, test=0.727) total time=14.1min\n",
      "[CV 3/3] END C=1, gamma=0.1;, score=(train=0.767, test=0.731) total time=13.3min\n"
     ]
    }
   ],
   "source": [
    "# Initialize the SVC classifier\n",
    "SVC_clf = SVC(kernel='rbf',cache_size=1000) \n",
    "\n",
    "# Create the parameters list \n",
    "parameters = {'C':[0.01, 0.1, 1, 10],                 \n",
    "              'gamma':[0.01, 0.06, 0.1, 0.6]                          \n",
    "             } \n",
    "\n",
    "# making a macro average f1 scorer\n",
    "scorer = make_scorer(f1_score,average='macro') \n",
    "\n",
    "\n",
    "# Perform grid search on the classifier using macro average f1 score as the scoring method\n",
    "SVC_gridsearch = HalvingGridSearchCV(SVC_clf, parameters, scoring=scorer, cv=3, verbose=4)\n",
    "\n",
    "# Fit the grid search object to the training data and find the optimal parameters\n",
    "SVC_gridsearch.fit(X_train_class, y_train_class)\n"
   ]
  },
  {
   "cell_type": "code",
   "execution_count": null,
   "metadata": {},
   "outputs": [],
   "source": [
    "# Returning best score after GridSearch and parameter combination\n",
    "print(\"                Best score:\", SVC_gridsearch.best_score_.round(4))\n",
    "print(\"Best parameter combination:\", SVC_gridsearch.best_params_)\n",
    "best_SVC_clf = SVC_gridsearch.best_estimator_"
   ]
  },
  {
   "cell_type": "markdown",
   "metadata": {},
   "source": [
    "##### Hyperparameter Tuning XGBoost"
   ]
  },
  {
   "cell_type": "code",
   "execution_count": null,
   "metadata": {},
   "outputs": [],
   "source": [
    "# Initialize the XGB classifier\n",
    "XGB_clf = XGBClassifier() \n",
    "\n",
    "# Create the parameters list \n",
    "parameters_XGB = {'eta':[0.1,0.3,0.7],                 \n",
    "                'gamma':[0, 0.1, 1],\n",
    "                'max_depth':[3,6,9,12],  \n",
    "                'min_child_weight':[1,5,10],\n",
    "                'subsample':[0.5, 0.8, 1],  \n",
    "                'lambda':[0,0.5,1],\n",
    "                'alpha':[0,0.5,1]              \n",
    "             } \n",
    "\n",
    "# making a macro average f1 scorer\n",
    "scorer = make_scorer(f1_score,average='macro') \n",
    "\n",
    "# Perform grid search on the classifier using macro average f1 score as the scoring method\n",
    "XGB_gridsearch = HalvingGridSearchCV(XGB_clf, parameters_XGB, scoring=scorer, cv=5, verbose=4)\n",
    "\n",
    "# Fit the grid search object to the training data and find the optimal parameters\n",
    "XGB_gridsearch.fit(X_train_class, y_train_class)\n"
   ]
  },
  {
   "cell_type": "code",
   "execution_count": null,
   "metadata": {},
   "outputs": [],
   "source": [
    "# Returning best score after GridSearch and parameter combination\n",
    "print(\"                Best score:\", XGB_gridsearch.best_score_.round(4))\n",
    "print(\"Best parameter combination:\", XGB_gridsearch.best_params_)\n",
    "best_XGB_clf = XGB_gridsearch.best_estimator_"
   ]
  },
  {
   "cell_type": "markdown",
   "metadata": {},
   "source": [
    "### Model Evaluation: Classification"
   ]
  },
  {
   "cell_type": "markdown",
   "metadata": {},
   "source": [
    "##### __Support Vector Classifier__"
   ]
  },
  {
   "cell_type": "code",
   "execution_count": null,
   "metadata": {},
   "outputs": [],
   "source": [
    "# Plot confusion matrix and classification report for best Support Vector Classifier model\n",
    "SVC_best_predictions = best_SVC_clf.predict(X_test_class)\n",
    "\n",
    "print(\"Support Vector Classifier on test data\")\n",
    "print(\"===\"*20)\n",
    "print(\"Optimal SVC F1 macro average:\", f1_score(y_test_class, SVC_best_predictions, average=\"marco\").round(4))\n",
    "print(\"---\"*20)\n",
    "print(classification_report(y_test_class, SVC_best_predictions))\n",
    "print(\"---\"*20)\n",
    "\n",
    "cm = confusion_matrix(y_test_class, SVC_best_predictions)\n",
    "sns.heatmap(cm, cmap=\"YlGnBu_r\", annot=True, fmt=\".0f\");"
   ]
  },
  {
   "cell_type": "markdown",
   "metadata": {},
   "source": [
    "##### __XGBoost Classifier__"
   ]
  },
  {
   "cell_type": "code",
   "execution_count": null,
   "metadata": {},
   "outputs": [],
   "source": [
    "# Plot confusion matrix and classification report for best XGBoost Classifier model\n",
    "XGB_best_predictions = best_XGB_clf.predict(X_test_class)\n",
    "\n",
    "print(\"Support Vector Classifier on test data\")\n",
    "print(\"===\"*20)\n",
    "print(\"Optimal XGB F1 macro average:\", f1_score(y_test_class, XGB_best_predictions, average=\"marco\").round(4))\n",
    "print(\"---\"*20)\n",
    "print(classification_report(y_test_class, XGB_best_predictions))\n",
    "print(\"---\"*20)\n",
    "\n",
    "cm = confusion_matrix(y_test_class, XGB_best_predictions)\n",
    "sns.heatmap(cm, cmap=\"YlGnBu_r\", annot=True, fmt=\".0f\");"
   ]
  },
  {
   "cell_type": "markdown",
   "metadata": {},
   "source": [
    "---\n",
    "##### __Model Tuning for Regression__"
   ]
  },
  {
   "cell_type": "markdown",
   "metadata": {},
   "source": [
    "We search for the best parameters for SGD Regressor as they have the lowest MSE."
   ]
  },
  {
   "cell_type": "markdown",
   "metadata": {},
   "source": [
    "##### Hyperparameter Tuning SGD"
   ]
  },
  {
   "cell_type": "code",
   "execution_count": null,
   "metadata": {},
   "outputs": [],
   "source": [
    "sgd_regression = SGDRegressor()\n",
    "\n",
    "# Defining parameter grid (as dictionary)\n",
    "param_grid_sgd = {\"loss\" : [\"squared_error\", \"huber\", \"epsilon_insensitive\", \"squared_epsilon_insensitive\"],\n",
    "              \"alpha\" : np.linspace(0.0001, 0.5, 500),\n",
    "              \"penalty\" : [\"l2\", \"l1\", \"elasticnet\"]}\n",
    "\n",
    "#Instantiate gridsearch and define the metric to optimize \n",
    "gs_sgd = GridSearchCV(SGDRegressor(random_state=RSEED), param_grid=param_grid_sgd, scoring= 'r2', verbose=4, n_jobs=-1, error_score=\"raise\")\n",
    "\n",
    "gs_sgd.fit(X_train_reg, y_train_reg)"
   ]
  },
  {
   "cell_type": "code",
   "execution_count": null,
   "metadata": {},
   "outputs": [],
   "source": [
    "# Returning best score after GridSearch and parameter combination\n",
    "print(\"                Best score:\", gs_sgd .best_score_.round(4))\n",
    "print(\"Best parameter combination:\",  gs_sgd .best_params_)\n",
    "gs_sgd_best_model = gs_sgd .best_estimator_"
   ]
  },
  {
   "cell_type": "markdown",
   "metadata": {},
   "source": [
    "### Model Evaluation: Regression"
   ]
  },
  {
   "cell_type": "code",
   "execution_count": null,
   "metadata": {},
   "outputs": [],
   "source": [
    "# Making predictions on the test set\n",
    "y_pred_best_sgd = gs_sgd_best_model.predict(X_test_reg)\n",
    "\n",
    "print(\"Linear Regression on test data\")\n",
    "print(\"===\"*20)\n",
    "print('Mean Squared Error:', mean_squared_error(y_test_reg, y_pred_best_sgd))\n",
    "print(\"---\"*20)\n",
    "print('R2:', r2_score(y_test_reg, y_pred_best_sgd))\n",
    "print(\"---\"*20)\n",
    "error_analysis(y_test_reg, y_pred_best_sgd)"
   ]
  }
 ],
 "metadata": {
  "interpreter": {
   "hash": "b36029b6bf991c2e4fa07d2f3680c87dbd610e211d0ef652fe4a3142fdf9d82f"
  },
  "kernelspec": {
   "display_name": "Python 3.9.8 ('.venv': venv)",
   "language": "python",
   "name": "python3"
  },
  "language_info": {
   "codemirror_mode": {
    "name": "ipython",
    "version": 3
   },
   "file_extension": ".py",
   "mimetype": "text/x-python",
   "name": "python",
   "nbconvert_exporter": "python",
   "pygments_lexer": "ipython3",
   "version": "3.9.8"
  },
  "orig_nbformat": 4
 },
 "nbformat": 4,
 "nbformat_minor": 2
}
